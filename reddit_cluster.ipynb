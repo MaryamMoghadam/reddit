{
 "cells": [
  {
   "cell_type": "code",
   "execution_count": 1,
   "metadata": {
    "colab": {},
    "colab_type": "code",
    "id": "H-Z0DMkxpGsF"
   },
   "outputs": [],
   "source": [
    "import os\n",
    "\n",
    "import pandas as pd\n",
    "import numpy as np\n",
    "from sklearn.preprocessing import StandardScaler, MinMaxScaler, LabelEncoder\n",
    "from sklearn.pipeline import Pipeline\n",
    "from sklearn.model_selection import GroupShuffleSplit\n",
    "import umap\n",
    "import matplotlib.pyplot as plt\n",
    "import seaborn as sns"
   ]
  },
  {
   "cell_type": "code",
   "execution_count": 2,
   "metadata": {
    "colab": {
     "base_uri": "https://localhost:8080/",
     "height": 34
    },
    "colab_type": "code",
    "id": "PmO7Ma-l4zt2",
    "outputId": "dd8a2d03-28d6-4f5c-c8f8-c02f45e6eec4"
   },
   "outputs": [],
   "source": [
    "\n",
    "seed_value = 1234"
   ]
  },
  {
   "cell_type": "code",
   "execution_count": 3,
   "metadata": {
    "colab": {
     "base_uri": "https://localhost:8080/",
     "height": 34
    },
    "colab_type": "code",
    "id": "6MA1IUdBLKcd",
    "outputId": "32f2693a-aa89-4e8b-8337-7f409673d030"
   },
   "outputs": [],
   "source": [
    "# # Mount GDrive and attach it to the colab for data I/O\n",
    "# from google.colab import drive\n",
    "# drive.mount('/content/drive')\n",
    "# data_folder = '/content/drive/My Drive/ML4HC_Final_Project/data/input/feature_extraction/'\n",
    "data_folder = './../../datum/reddit/input/feature_extraction/'"
   ]
  },
  {
   "cell_type": "code",
   "execution_count": 56,
   "metadata": {},
   "outputs": [
    {
     "data": {
      "text/plain": [
       "<Figure size 1200x1000 with 0 Axes>"
      ]
     },
     "execution_count": 56,
     "metadata": {},
     "output_type": "execute_result"
    },
    {
     "data": {
      "text/plain": [
       "<Figure size 1200x1000 with 0 Axes>"
      ]
     },
     "metadata": {},
     "output_type": "display_data"
    }
   ],
   "source": [
    "plt.style.use('seaborn-bright')\n",
    "plt.figure(figsize=(12, 10), dpi= 100, facecolor='w', edgecolor='k')"
   ]
  },
  {
   "cell_type": "code",
   "execution_count": 4,
   "metadata": {},
   "outputs": [],
   "source": [
    "def unison_shuffled_copies(a, b, c):\n",
    "    assert len(a) == len(b) == len(c)\n",
    "    p = np.random.permutation(len(a))\n",
    "    a = np.array(a)\n",
    "    b = np.array(b)\n",
    "    c = np.array(c)\n",
    "    return a[p], b[p], c[p]"
   ]
  },
  {
   "cell_type": "code",
   "execution_count": 57,
   "metadata": {},
   "outputs": [],
   "source": [
    "def scatter_plot(X_reduced, y, color_code, method, annotate = False, title = 'title', savefig = False ):\n",
    "    plt.clf()\n",
    "\n",
    "\n",
    "    \n",
    "    #     Shuffle\n",
    "    X_reduced, y, color_code = unison_shuffled_copies(X_reduced, y, color_code)\n",
    "\n",
    "    # plot     \n",
    "    c = LabelEncoder().fit_transform(color_code) #encode to integers\n",
    "    c = [n*100 for n in c]\n",
    "    scatter = plt.scatter(X_reduced[:, 0], X_reduced[:, 1],c=c, alpha=0.6, s=2)\n",
    "    label_names = [str(n) for n in np.unique(y)] \n",
    "    label_names.sort()\n",
    "    plt.legend(handles=scatter.legend_elements()[0], labels=label_names)\n",
    "    if annotate:\n",
    "        for i, txt in enumerate(annotate_names):\n",
    "            plt.annotate(txt, (X_reduced[:, 0][i], X_reduced[:, 1][i]))\n",
    "\n",
    "    if title:\n",
    "        plt.title(title)\n",
    "    if savefig:\n",
    "        plt.savefig('./data/'+title.replace('/', '-')+'.png', dpi=150)\n",
    "    plt.show()"
   ]
  },
  {
   "cell_type": "code",
   "execution_count": 22,
   "metadata": {},
   "outputs": [
    {
     "data": {
      "text/plain": [
       "<module 'umap' from '/Users/danielmlow/miniconda3/lib/python3.7/site-packages/umap/__init__.py'>"
      ]
     },
     "execution_count": 22,
     "metadata": {},
     "output_type": "execute_result"
    }
   ],
   "source": [
    "umap"
   ]
  },
  {
   "cell_type": "code",
   "execution_count": 28,
   "metadata": {
    "colab": {},
    "colab_type": "code",
    "id": "5lyIVyGIpGtM"
   },
   "outputs": [],
   "source": [
    "def run_umap(X=None, y=None, method = 'unsupervised', scaler=None, neighbor = 10, dist=0.1, metric='correlation', color_code = None, annotate_names = None, \n",
    "              annotate = False, test_set = True, title=None, savefig = False, X_test=None, y_test=None, color_code_test = None, plot=plot):\n",
    "    reducer = umap.UMAP(n_components=dimension, n_neighbors = neighbor, min_dist=dist,metric=metric,random_state=seed_value) #, TSNE(n_components=k, random_state=seed_value), PCA(n_components=k, random_state=seed_value)]\n",
    "    reducer_name = 'umap' #, 'tsne', 'pca']\n",
    "\n",
    "    pipeline = Pipeline([\n",
    "        ('normalization', scaler),\n",
    "        ('reducer', reducer), ])\n",
    "\n",
    "    if method == 'supervised':\n",
    "        X_reduced = pipeline.fit_transform(X, y)\n",
    "    elif method == 'metric_learning':\n",
    "        X_reduced = pipeline.fit_transform(X, y)\n",
    "        X_reduced_test = pipeline.transform(X_test)\n",
    "        \n",
    "    elif method == 'unsupervised':\n",
    "        X_reduced = pipeline.fit_transform(X)\n",
    "        \n",
    "    # Plot in 2D\n",
    "    if plot == True:\n",
    "        assert dimension == 2 \n",
    "        if method == 'metric_learning':\n",
    "            # train: first time point\n",
    "            scatter_plot(X_reduced, y, color_code, method, annotate = annotate, title = 'First time step (train set)', savefig = savefig )\n",
    "            # test: next time points            \n",
    "            scatter_plot(X_reduced_test, y_test, color_code_test, method, annotate = annotate, title = title, savefig = savefig )\n",
    "            return X_reduced, X_reduced_test\n",
    "        else:\n",
    "            scatter_plot(X_reduced, y, color_code, method, annotate = annotate, title = title, savefig = savefig )\n",
    "            return X_reduced\n",
    "\n",
    "\n",
    "def scatter_X_reduced(X_reduced, color_code, annotate_names):\n",
    "    plt.clf()\n",
    "    plt.figure(figsize=(12, 10), dpi= 100, facecolor='w', edgecolor='k')\n",
    "\n",
    "    plt.scatter(X_reduced[:, 0], X_reduced[:, 1], c=color_code, alpha=0.8, s=6)\n",
    "    if annotate:\n",
    "        for i, txt in enumerate(annotate_names):\n",
    "            plt.annotate(txt, (X_reduced[:, 0][i], X_reduced[:, 1][i]))\n",
    "    plt.show()\n",
    "    \n",
    "    \n",
    "def gridsearch_sets(metrics, n_neighbors, min_dist, n_dimensions, scalers, repeat):\n",
    "    gridsearch  = []\n",
    "    for metric in metrics:\n",
    "        for neighbor in n_neighbors:\n",
    "            for dist in min_dist:\n",
    "                for dimension in n_dimensions:\n",
    "                    for scaler in scalers:\n",
    "                        for r in repeat:\n",
    "                            gridsearch.append([metric,neighbor,dist,dimension,scaler, r])\n",
    "    return gridsearch"
   ]
  },
  {
   "cell_type": "markdown",
   "metadata": {
    "colab_type": "text",
    "id": "GwUC6Lh5S0ms"
   },
   "source": [
    "## Load data with our without subsampling"
   ]
  },
  {
   "cell_type": "code",
   "execution_count": 11,
   "metadata": {
    "colab": {},
    "colab_type": "code",
    "id": "Eu0_cxdW0zVW"
   },
   "outputs": [],
   "source": [
    "# subreddits = ['EDAnonymous', 'addiction', 'adhd', 'alcoholism', 'anxiety',\n",
    "#  'bipolarreddit', 'bpd',  'depression',  'healthanxiety',\n",
    "#        'jokes', 'legaladvice', 'meditation', 'mentalhealth',\n",
    "#        'mentalillness', 'mindfulness', 'paranoia', \n",
    "#        'personalfinance','ptsd', 'schizophrenia', 'socialanxiety', \n",
    "#        'suicidewatch']"
   ]
  },
  {
   "cell_type": "code",
   "execution_count": 12,
   "metadata": {},
   "outputs": [
    {
     "ename": "NameError",
     "evalue": "name 'X_i' is not defined",
     "output_type": "error",
     "traceback": [
      "\u001b[0;31m---------------------------------------------------------------------------\u001b[0m",
      "\u001b[0;31mNameError\u001b[0m                                 Traceback (most recent call last)",
      "\u001b[0;32m<ipython-input-12-f91342ccf6a2>\u001b[0m in \u001b[0;36m<module>\u001b[0;34m\u001b[0m\n\u001b[0;32m----> 1\u001b[0;31m \u001b[0mX_i\u001b[0m\u001b[0;34m.\u001b[0m\u001b[0mshape\u001b[0m\u001b[0;34m\u001b[0m\u001b[0;34m\u001b[0m\u001b[0m\n\u001b[0m",
      "\u001b[0;31mNameError\u001b[0m: name 'X_i' is not defined"
     ]
    }
   ],
   "source": [
    "X_i.shape"
   ]
  },
  {
   "cell_type": "code",
   "execution_count": 13,
   "metadata": {
    "colab": {},
    "colab_type": "code",
    "id": "C4zNHZs-ot4X"
   },
   "outputs": [],
   "source": [
    "def subsample_df(df, subsample, overN):\n",
    "  if df.shape[0] > subsample_subreddits_overN:\n",
    "    subsample_int = int(df.shape[0]*subsample)\n",
    "    df = df.loc[np.random.choice(df.index,subsample_int, replace=False)]\n",
    "  return df"
   ]
  },
  {
   "cell_type": "code",
   "execution_count": 14,
   "metadata": {
    "colab": {
     "base_uri": "https://localhost:8080/",
     "height": 158
    },
    "colab_type": "code",
    "id": "isJNT9UwpGs6",
    "outputId": "e35cd9d4-a58d-473e-c234-d40e883939fc"
   },
   "outputs": [
    {
     "name": "stdout",
     "output_type": "stream",
     "text": [
      "(5352, 88)\n",
      "(5352, 88)\n",
      "(1131, 88)\n",
      "(1131, 88)\n",
      "(5928, 88)\n",
      "(5928, 88)\n",
      "(37931, 88)\n",
      "(7586, 88)\n"
     ]
    }
   ],
   "source": [
    "\n",
    "subsample = 0.2 #False or 0.2 \n",
    "subsample_subreddits_overN = 25000 #subsample if dataset > N, set to 0 for all\n",
    "\n",
    "\n",
    "subreddits = ['depression', 'healthanxiety', 'mindfulness', 'socialanxiety', 'suicidewatch']\n",
    "# Careful: if you add COVID19_support and it does not exist in the first time step, then this will confuse metric learning\n",
    "subreddits.sort()\n",
    "\n",
    "\n",
    "\n",
    "reddit_data = pd.read_csv(data_folder +subreddits[0]+'_post_features.csv', index_col=False)\n",
    "if subsample:\n",
    "  reddit_data = subsample_df(reddit_data, subsample, subsample_subreddits_overN)\n",
    "\n",
    "for i in np.arange(1, len(subreddits)):\n",
    "  new_data = pd.read_csv(data_folder+subreddits[i]+'_post_features.csv')\n",
    "  print(new_data.shape)\n",
    "  new_data = subsample_df(new_data, subsample, subsample_subreddits_overN)\n",
    "  print(new_data.shape)\n",
    "  reddit_data = pd.concat([reddit_data, new_data], axis=0)\n",
    "\n",
    "\n"
   ]
  },
  {
   "cell_type": "code",
   "execution_count": 15,
   "metadata": {
    "colab": {
     "base_uri": "https://localhost:8080/",
     "height": 105
    },
    "colab_type": "code",
    "id": "em1pocGXxzwH",
    "outputId": "e4ff7997-88e5-4cd1-c54d-54a0456432a6"
   },
   "outputs": [
    {
     "name": "stdout",
     "output_type": "stream",
     "text": [
      "depression :  125.41\n",
      "healthanxiety :  48.22\n",
      "mindfulness :  10.19\n",
      "socialanxiety :  53.41\n",
      "suicidewatch :  68.34\n"
     ]
    }
   ],
   "source": [
    "counts = reddit_data.groupby([\"subreddit\", \"date\"]).size().reset_index(name='count')\n",
    "for sr in subreddits:\n",
    "  counts_d = counts[counts.subreddit == sr].mean()\n",
    "  print(sr, ': ', np.round(float(counts_d),2))"
   ]
  },
  {
   "cell_type": "code",
   "execution_count": 16,
   "metadata": {
    "colab": {
     "base_uri": "https://localhost:8080/",
     "height": 54
    },
    "colab_type": "code",
    "id": "mujR1gIYLcIf",
    "outputId": "b30981f2-0768-4fb2-97eb-683477e28869"
   },
   "outputs": [
    {
     "name": "stdout",
     "output_type": "stream",
     "text": [
      "double check features:  ['automated_readability_index', 'coleman_liau_index', 'flesch_kincaid_grade_level', 'flesch_reading_ease', 'gulpease_index', 'gunning_fog_index', 'lix', 'smog_index', 'wiener_sachtextformel', 'n_chars', 'n_long_words', 'n_monosyllable_words', 'n_polysyllable_words', 'n_sents', 'n_syllables', 'n_unique_words', 'n_words', 'sent_neg', 'sent_neu', 'sent_pos', 'sent_compound', 'punctuation', '1st_pers', '2nd_pers', '3rd_pers', 'achievement', 'adverbs', 'affective_processes', 'anger', 'anxiety', 'articles_article', 'assent', 'auxiliary_verbs', 'biological', 'body', 'causation', 'certainty', 'cognitive', 'common_verbs', 'conjunctions', 'death', 'discrepancy', 'exclusive', 'family', 'feel', 'fillers', 'friends', 'future_tense', 'health', 'hear', 'home', 'humans', 'impersonal_pronouns', 'inclusive', 'ingestion', 'inhibition', 'insight', 'leisure', 'money', 'motion', 'negations', 'negative_emotion', 'nonfluencies', 'numbers', 'past_tense', 'perceptual_processes', 'personal_pronouns', 'positive_emotion', 'prepositions', 'present_tense', 'quantifiers', 'relativity', 'religion', 'sadness', 'see', 'sexual', 'social_processes', 'space', 'swear_words', 'tentative', 'time', 'total_functional', 'total_pronouns', 'work']\n"
     ]
    }
   ],
   "source": [
    "reddit_data.tail()\n",
    "features = list(reddit_data.columns)\n",
    "\n",
    "features = [n for n in features if n not in ['subreddit','author','date','post']]\n",
    "\n",
    "print('double check features: ',features)\n",
    "posts = np.array(reddit_data.subreddit.value_counts()).astype(int)\n",
    "days = np.unique(reddit_data.date)\n",
    "\n"
   ]
  },
  {
   "cell_type": "markdown",
   "metadata": {
    "colab_type": "text",
    "id": "wmLC1EKf0ViI"
   },
   "source": [
    "\n",
    "## Build X, y by grouping data by timestep (e.g., per week)"
   ]
  },
  {
   "cell_type": "code",
   "execution_count": null,
   "metadata": {},
   "outputs": [],
   "source": []
  },
  {
   "cell_type": "code",
   "execution_count": 272,
   "metadata": {
    "colab": {},
    "colab_type": "code",
    "id": "CAVxALWmSye5"
   },
   "outputs": [],
   "source": [
    "timestep = 25\n",
    "\n",
    "X = []\n",
    "y = []\n",
    "for i in range(0,len(days),timestep):\n",
    "  days_week = days[i:i+timestep]\n",
    "  df_week = reddit_data[reddit_data.date.isin(days_week)]\n",
    "  df_week_feature_cols = df_week[features].values\n",
    "  df_week_y = list(df_week.subreddit)\n",
    "  X.append(df_week_feature_cols)\n",
    "  y.append(df_week_y)\n"
   ]
  },
  {
   "cell_type": "code",
   "execution_count": 273,
   "metadata": {
    "colab": {},
    "colab_type": "code",
    "id": "NT7TwYLrCjOr"
   },
   "outputs": [],
   "source": [
    "X = np.array(X)\n",
    "y = np.array(y)"
   ]
  },
  {
   "cell_type": "code",
   "execution_count": null,
   "metadata": {},
   "outputs": [],
   "source": []
  },
  {
   "cell_type": "code",
   "execution_count": 19,
   "metadata": {},
   "outputs": [
    {
     "data": {
      "text/plain": [
       "111"
      ]
     },
     "execution_count": 19,
     "metadata": {},
     "output_type": "execute_result"
    }
   ],
   "source": [
    "days_week = days[::timestep]\n",
    "len(days)"
   ]
  },
  {
   "cell_type": "code",
   "execution_count": 29,
   "metadata": {
    "colab": {
     "base_uri": "https://localhost:8080/",
     "height": 1000
    },
    "colab_type": "code",
    "id": "Q1F7gyENpGxB",
    "outputId": "a9157821-63f3-4613-f00b-0a61aac9116e"
   },
   "outputs": [
    {
     "name": "stdout",
     "output_type": "stream",
     "text": [
      "2020/01/01\n",
      "====metric: correlation,  48 neighbor (low=maintain local structure),  0.1 dist (low=tightly packed),  2D======\n"
     ]
    },
    {
     "name": "stderr",
     "output_type": "stream",
     "text": [
      "/Users/danielmlow/miniconda3/lib/python3.7/site-packages/umap/nndescent.py:92: NumbaPerformanceWarning: \n",
      "The keyword argument 'parallel=True' was specified but no transformation for parallel execution was possible.\n",
      "\n",
      "To find out why, try turning on parallel diagnostics, see http://numba.pydata.org/numba-doc/latest/user/parallel.html#diagnostics for help.\n",
      "\n",
      "File \"../../../miniconda3/lib/python3.7/site-packages/umap/utils.py\", line 409:\n",
      "@numba.njit(parallel=True)\n",
      "def build_candidates(current_graph, n_vertices, n_neighbors, max_candidates, rng_state):\n",
      "^\n",
      "\n",
      "  current_graph, n_vertices, n_neighbors, max_candidates, rng_state\n",
      "/Users/danielmlow/miniconda3/lib/python3.7/site-packages/numba/typed_passes.py:293: NumbaPerformanceWarning: \n",
      "The keyword argument 'parallel=True' was specified but no transformation for parallel execution was possible.\n",
      "\n",
      "To find out why, try turning on parallel diagnostics, see http://numba.pydata.org/numba-doc/latest/user/parallel.html#diagnostics for help.\n",
      "\n",
      "File \"../../../miniconda3/lib/python3.7/site-packages/umap/nndescent.py\", line 47:\n",
      "    @numba.njit(parallel=True)\n",
      "    def nn_descent(\n",
      "    ^\n",
      "\n",
      "  state.func_ir.loc))\n",
      "/Users/danielmlow/miniconda3/lib/python3.7/site-packages/sklearn/utils/validation.py:532: FutureWarning: Beginning in version 0.22, arrays of bytes/strings will be converted to decimal numbers if dtype='numeric'. It is recommended that you convert the array to a float dtype before using it in scikit-learn, for example by using your_array = your_array.astype(np.float64).\n",
      "  FutureWarning)\n"
     ]
    },
    {
     "data": {
      "text/plain": [
       "<Figure size 432x288 with 0 Axes>"
      ]
     },
     "metadata": {},
     "output_type": "display_data"
    },
    {
     "data": {
      "image/png": "[encoded data removed]",
      "text/plain": [
       "<Figure size 700x560 with 1 Axes>"
      ]
     },
     "metadata": {},
     "output_type": "display_data"
    }
   ],
   "source": [
    "# Plot 2D for each timestep\n",
    "\n",
    "\n",
    "method = 'supervised'# 'metric_learning', 'supervised', 'unsupervised'\n",
    "savefig = False\n",
    "plot=True\n",
    "annotate = False\n",
    "annotate_names = False\n",
    "run_Ntimesteps = 1 #len(X) \n",
    "\n",
    "\n",
    "for i, (X_i, y_i) in enumerate(zip(X[:run_Ntimesteps],y[:run_Ntimesteps])):\n",
    "    if method  == 'metric_learning' and i==0:\n",
    "        print('doing metric learning, train on first sample and test on rest')\n",
    "        color_code = y[0].copy()\n",
    "        continue\n",
    "\n",
    "    print(days_week[i])\n",
    "    if method == 'metric_learning':\n",
    "        color_code_test = y_i.copy()\n",
    "    else:\n",
    "        color_code = y_i.copy()\n",
    "    # groups = LabelEncoder().fit_transform(groups)\n",
    "    n_dimensions =  [2,]#4,8,16,32,64,128] # https://umap-learn.readthedocs.io/en/latest/parameters.html\n",
    "    n_neighbors = [48]#[8,16,24,32,40,48,56, 64]#15,20] # CANNOT USE MORE THAN N participants, default=10 Lower values seem to work better in 2D. This means that low values of n_neighbors will force UMAP to concentrate on very local structure\n",
    "    min_dist = [0.1]#[0.01, 0.1, 0.5, 1]#[0, 0.001,0.01, 0.1, 0.5]#0.25, 0.5, 0.75]  # default=0.1. Lower values seem to work better in 2D. controls how tightly UMAP is allowed to pack points together. Larger values of min_dist will prevent UMAP from packing point together and will focus instead on the preservation of the broad topological structure instead.\n",
    "    metrics = ['correlation'] # cosine adds points?\n",
    "    repeat_n = 1\n",
    "    repeat = [1]*repeat_n # to check how much randomness is affecting results, one can repeat\n",
    "    scalers = [StandardScaler()]\n",
    "\n",
    "    gridsearch= gridsearch_sets(metrics, n_neighbors, min_dist, n_dimensions, scalers, repeat)\n",
    "    for metric,neighbor,dist,dimension,scaler, r in gridsearch:\n",
    "        print('====metric: {},  {} neighbor (low=maintain local structure),  {} dist (low=tightly packed),  {}D======'.format(metric,neighbor,dist,dimension))\n",
    "        if method == 'metric_learning':\n",
    "            # need to add train and test (the last arguments)             \n",
    "            X_reduced, X_reduced_test = run_umap(X = X[0], y = y[0], method=method,  scaler = scaler, neighbor = neighbor , dist=dist, metric='correlation', \n",
    "                  color_code = color_code, annotate_names = annotate_names, annotate = annotate, title=days_week[i],\n",
    "                 savefig = savefig, X_test = X_i, y_test=y_i, color_code_test = color_code_test, plot = plot)\n",
    "        else:    \n",
    "            X_reduced = run_umap(X = X_i, y = y_i, method = method, scaler=  scaler, neighbor = neighbor , dist=dist, metric='correlation', \n",
    "                  color_code = color_code, annotate_names = annotate_names, annotate = annotate, title=days_week[i],\n",
    "                 savefig = savefig, plot = plot)\n"
   ]
  },
  {
   "cell_type": "code",
   "execution_count": 204,
   "metadata": {},
   "outputs": [],
   "source": [
    "\n",
    "from sklearn.cluster import KMeans\n",
    "from sklearn.metrics.pairwise import euclidean_distances\n",
    "\n",
    "\n",
    "k = len(subreddits)\n",
    "km = KMeans(n_clusters = k, random_state = seed_value).fit(X_reduced)\n",
    "kmeans_labels = KMeans(n_clusters = k, random_state = seed_value).fit_predict(X_reduced)\n",
    "dists = euclidean_distances(km.cluster_centers_)\n",
    "tri_dists = dists[np.triu_indices(5, 1)]\n",
    "max_dist, avg_dist, min_dist = tri_dists.max(), tri_dists.mean(), tri_dists.min()\n",
    "\n"
   ]
  },
  {
   "cell_type": "code",
   "execution_count": 231,
   "metadata": {},
   "outputs": [
    {
     "data": {
      "text/plain": [
       "(array([ -6.93309  ,  48.743065 ,   7.7742324, -20.208435 ,  -6.93309  ,\n",
       "         48.743065 ,   7.7742324,   6.825261 ,  -6.93309  ,  48.743065 ,\n",
       "        -20.208435 ,   6.825261 ,  -6.93309  ,   7.7742324, -20.208435 ,\n",
       "          6.825261 ,  48.743065 ,   7.7742324, -20.208435 ,   6.825261 ],\n",
       "       dtype=float32),\n",
       " array([ 11.505086  ,   0.22684425, -17.754875  ,  -3.0501318 ,\n",
       "         11.505086  ,   0.22684425, -17.754875  ,  -3.9269261 ,\n",
       "         11.505086  ,   0.22684425,  -3.0501318 ,  -3.9269261 ,\n",
       "         11.505086  , -17.754875  ,  -3.0501318 ,  -3.9269261 ,\n",
       "          0.22684425, -17.754875  ,  -3.0501318 ,  -3.9269261 ],\n",
       "       dtype=float32))"
      ]
     },
     "execution_count": 231,
     "metadata": {},
     "output_type": "execute_result"
    }
   ],
   "source": [
    "(a,b)"
   ]
  },
  {
   "cell_type": "code",
   "execution_count": null,
   "metadata": {},
   "outputs": [],
   "source": []
  },
  {
   "cell_type": "code",
   "execution_count": null,
   "metadata": {},
   "outputs": [],
   "source": []
  },
  {
   "cell_type": "code",
   "execution_count": 240,
   "metadata": {},
   "outputs": [
    {
     "data": {
      "text/plain": [
       "[[-6.93309, 11.505086], 48.743065, 0.22684425]"
      ]
     },
     "execution_count": 240,
     "metadata": {},
     "output_type": "execute_result"
    }
   ],
   "source": [
    "[[a[i],b[i]],\n",
    "                  a[i+1],b[i+1],\n",
    "                 ]"
   ]
  },
  {
   "cell_type": "code",
   "execution_count": 249,
   "metadata": {},
   "outputs": [
    {
     "data": {
      "text/plain": [
       "20"
      ]
     },
     "execution_count": 249,
     "metadata": {},
     "output_type": "execute_result"
    }
   ],
   "source": [
    "len(a)"
   ]
  },
  {
   "cell_type": "code",
   "execution_count": 251,
   "metadata": {},
   "outputs": [
    {
     "name": "stdout",
     "output_type": "stream",
     "text": [
      "[[-6.93309    11.505086  ]\n",
      " [48.743065    0.22684425]]\n",
      "56.80698\n",
      "[[ 48.743065     0.22684425]\n",
      " [  7.7742324  -17.754875  ]]\n",
      "44.74134\n",
      "[[  7.7742324 -17.754875 ]\n",
      " [-20.208435   -3.0501318]]\n",
      "31.611061\n",
      "[[-20.208435   -3.0501318]\n",
      " [ -6.93309    11.505086 ]]\n",
      "19.699978\n",
      "[[-6.93309    11.505086  ]\n",
      " [48.743065    0.22684425]]\n",
      "56.80698\n",
      "[[ 48.743065     0.22684425]\n",
      " [  7.7742324  -17.754875  ]]\n",
      "44.74134\n",
      "[[  7.7742324 -17.754875 ]\n",
      " [  6.825261   -3.9269261]]\n",
      "13.860474\n",
      "[[ 6.825261  -3.9269261]\n",
      " [-6.93309   11.505086 ]]\n",
      "20.674604\n",
      "[[-6.93309    11.505086  ]\n",
      " [48.743065    0.22684425]]\n",
      "56.80698\n",
      "[[ 48.743065     0.22684425]\n",
      " [-20.208435    -3.0501318 ]]\n",
      "69.02933\n",
      "[[-20.208435   -3.0501318]\n",
      " [  6.825261   -3.9269261]]\n",
      "27.04791\n",
      "[[ 6.825261  -3.9269261]\n",
      " [-6.93309   11.505086 ]]\n",
      "20.674604\n",
      "[[ -6.93309    11.505086 ]\n",
      " [  7.7742324 -17.754875 ]]\n",
      "32.74829\n",
      "[[  7.7742324 -17.754875 ]\n",
      " [-20.208435   -3.0501318]]\n",
      "31.611061\n",
      "[[-20.208435   -3.0501318]\n",
      " [  6.825261   -3.9269261]]\n",
      "27.04791\n",
      "[[ 6.825261   -3.9269261 ]\n",
      " [48.743065    0.22684425]]\n",
      "42.123108\n",
      "[[ 48.743065     0.22684425]\n",
      " [  7.7742324  -17.754875  ]]\n",
      "44.74134\n",
      "[[  7.7742324 -17.754875 ]\n",
      " [-20.208435   -3.0501318]]\n",
      "31.611061\n",
      "[[-20.208435   -3.0501318]\n",
      " [  6.825261   -3.9269261]]\n",
      "27.04791\n"
     ]
    }
   ],
   "source": [
    "distances = []\n",
    "x_0, y_0 = a[0], b[0]\n",
    "for i in range(len(a))[:-1]:\n",
    "    if i == len(a):\n",
    "            two_points = np.array([[a[i],b[i]],\n",
    "                  [a[0],b[0]],\n",
    "                 ])\n",
    "    else:\n",
    "        two_points = np.array([[a[i],b[i]],\n",
    "                      [a[i+1],b[i+1]],\n",
    "                     ])\n",
    "    print(two_points)\n",
    "    d = euclidean_distances(two_points)\n",
    "    print(d[0][1])\n",
    "    distances.append(d[0][1])\n",
    "    \n",
    "    \n"
   ]
  },
  {
   "cell_type": "code",
   "execution_count": 252,
   "metadata": {},
   "outputs": [
    {
     "data": {
      "text/plain": [
       "19"
      ]
     },
     "execution_count": 252,
     "metadata": {},
     "output_type": "execute_result"
    }
   ],
   "source": [
    "len(distances)"
   ]
  },
  {
   "cell_type": "code",
   "execution_count": 237,
   "metadata": {},
   "outputs": [
    {
     "data": {
      "text/plain": [
       "array([[ -6.93309   ,  11.505086  ],\n",
       "       [ 48.743065  ,   0.22684425],\n",
       "       [  7.7742324 , -17.754875  ],\n",
       "       [-20.208435  ,  -3.0501318 ],\n",
       "       [  6.825261  ,  -3.9269261 ]], dtype=float32)"
      ]
     },
     "execution_count": 237,
     "metadata": {},
     "output_type": "execute_result"
    }
   ],
   "source": [
    "km.cluster_centers_"
   ]
  },
  {
   "cell_type": "code",
   "execution_count": 228,
   "metadata": {},
   "outputs": [
    {
     "data": {
      "text/plain": [
       "array([[ 0.      , 56.80698 , 32.74829 , 19.699978, 20.674604],\n",
       "       [56.80698 ,  0.      , 44.74134 , 69.02933 , 42.123108],\n",
       "       [32.74829 , 44.74134 ,  0.      , 31.611061, 13.860474],\n",
       "       [19.699978, 69.02933 , 31.611061,  0.      , 27.04791 ],\n",
       "       [20.674604, 42.123108, 13.860474, 27.04791 ,  0.      ]],\n",
       "      dtype=float32)"
      ]
     },
     "execution_count": 228,
     "metadata": {},
     "output_type": "execute_result"
    }
   ],
   "source": [
    "dists = euclidean_distances(km.cluster_centers_)\n",
    "dists"
   ]
  },
  {
   "cell_type": "code",
   "execution_count": 205,
   "metadata": {},
   "outputs": [
    {
     "data": {
      "text/html": [
       "<div>\n",
       "<style scoped>\n",
       "    .dataframe tbody tr th:only-of-type {\n",
       "        vertical-align: middle;\n",
       "    }\n",
       "\n",
       "    .dataframe tbody tr th {\n",
       "        vertical-align: top;\n",
       "    }\n",
       "\n",
       "    .dataframe thead th {\n",
       "        text-align: right;\n",
       "    }\n",
       "</style>\n",
       "<table border=\"1\" class=\"dataframe\">\n",
       "  <thead>\n",
       "    <tr style=\"text-align: right;\">\n",
       "      <th></th>\n",
       "      <th>depression</th>\n",
       "      <th>healthanxiety</th>\n",
       "      <th>mindfulness</th>\n",
       "      <th>socialanxiety</th>\n",
       "      <th>suicidewatch</th>\n",
       "    </tr>\n",
       "  </thead>\n",
       "  <tbody>\n",
       "    <tr>\n",
       "      <th>depression</th>\n",
       "      <td>0.000000</td>\n",
       "      <td>56.806980</td>\n",
       "      <td>32.748291</td>\n",
       "      <td>19.699978</td>\n",
       "      <td>20.674604</td>\n",
       "    </tr>\n",
       "    <tr>\n",
       "      <th>healthanxiety</th>\n",
       "      <td>56.806980</td>\n",
       "      <td>0.000000</td>\n",
       "      <td>44.741341</td>\n",
       "      <td>69.029327</td>\n",
       "      <td>42.123108</td>\n",
       "    </tr>\n",
       "    <tr>\n",
       "      <th>mindfulness</th>\n",
       "      <td>32.748291</td>\n",
       "      <td>44.741341</td>\n",
       "      <td>0.000000</td>\n",
       "      <td>31.611061</td>\n",
       "      <td>13.860474</td>\n",
       "    </tr>\n",
       "    <tr>\n",
       "      <th>socialanxiety</th>\n",
       "      <td>19.699978</td>\n",
       "      <td>69.029327</td>\n",
       "      <td>31.611061</td>\n",
       "      <td>0.000000</td>\n",
       "      <td>27.047911</td>\n",
       "    </tr>\n",
       "    <tr>\n",
       "      <th>suicidewatch</th>\n",
       "      <td>20.674604</td>\n",
       "      <td>42.123108</td>\n",
       "      <td>13.860474</td>\n",
       "      <td>27.047911</td>\n",
       "      <td>0.000000</td>\n",
       "    </tr>\n",
       "  </tbody>\n",
       "</table>\n",
       "</div>"
      ],
      "text/plain": [
       "               depression  healthanxiety  mindfulness  socialanxiety  \\\n",
       "depression       0.000000      56.806980    32.748291      19.699978   \n",
       "healthanxiety   56.806980       0.000000    44.741341      69.029327   \n",
       "mindfulness     32.748291      44.741341     0.000000      31.611061   \n",
       "socialanxiety   19.699978      69.029327    31.611061       0.000000   \n",
       "suicidewatch    20.674604      42.123108    13.860474      27.047911   \n",
       "\n",
       "               suicidewatch  \n",
       "depression        20.674604  \n",
       "healthanxiety     42.123108  \n",
       "mindfulness       13.860474  \n",
       "socialanxiety     27.047911  \n",
       "suicidewatch       0.000000  "
      ]
     },
     "execution_count": 205,
     "metadata": {},
     "output_type": "execute_result"
    }
   ],
   "source": [
    "dists = euclidean_distances(km.cluster_centers_)\n",
    "dists = pd.DataFrame(dists, columns = subreddits, index=subreddits)\n",
    "dists"
   ]
  },
  {
   "cell_type": "code",
   "execution_count": 265,
   "metadata": {},
   "outputs": [
    {
     "name": "stdout",
     "output_type": "stream",
     "text": [
      "-6.93309 11.505086\n",
      "48.743065 0.22684425\n",
      "7.7742324 -17.754875\n",
      "-20.208435 -3.0501318\n",
      "-6.93309 11.505086\n",
      "48.743065 0.22684425\n",
      "7.7742324 -17.754875\n",
      "6.825261 -3.9269261\n",
      "-6.93309 11.505086\n",
      "48.743065 0.22684425\n",
      "-20.208435 -3.0501318\n",
      "6.825261 -3.9269261\n",
      "-6.93309 11.505086\n",
      "7.7742324 -17.754875\n",
      "-20.208435 -3.0501318\n",
      "6.825261 -3.9269261\n",
      "48.743065 0.22684425\n",
      "7.7742324 -17.754875\n",
      "-20.208435 -3.0501318\n",
      "6.825261 -3.9269261\n"
     ]
    }
   ],
   "source": [
    "for x,y in zip(a,b):\n",
    "    print(x,y)"
   ]
  },
  {
   "cell_type": "code",
   "execution_count": null,
   "metadata": {},
   "outputs": [],
   "source": []
  },
  {
   "cell_type": "code",
   "execution_count": 278,
   "metadata": {},
   "outputs": [],
   "source": [
    "# https://stackoverflow.com/questions/52911890/labeling-distance-between-points-on-python-plot\n",
    "def plot_lines(X):\n",
    "    k = len(subreddits)\n",
    "    km = KMeans(n_clusters = k, random_state = seed_value).fit(X_reduced)\n",
    "    kmeans_labels = KMeans(n_clusters = k, random_state = seed_value).fit_predict(X_reduced)\n",
    "    dists = euclidean_distances(km.cluster_centers_)\n",
    "    tri_dists = dists[np.triu_indices(5, 1)]\n",
    "    max_dist, avg_dist, min_dist = tri_dists.max(), tri_dists.mean(), tri_dists.min()\n",
    "\n",
    "\n",
    "\n",
    "\n",
    "    import itertools\n",
    "    combs = list(itertools.combinations(centers,4))\n",
    "    combs = [n for i in combs for n in i]\n",
    "    combs = np.array(combs)\n",
    "    combs\n",
    "    dists = euclidean_distances(combs)\n",
    "    print(dists.shape, combs.shape)\n",
    "\n",
    "\n",
    "\n",
    "    plt.clf()\n",
    "    plt.style.use('seaborn-bright')\n",
    "    plt.figure(figsize=(10, 8), dpi= 100, facecolor='w', edgecolor='k')\n",
    "    plt.scatter(X_reduced[:, 0], X_reduced[:, 1], c=kmeans_labels, s=1, cmap='Spectral');\n",
    "    # Centroids\n",
    "    plt.scatter(\n",
    "        km.cluster_centers_[:, 0], km.cluster_centers_[:, 1],\n",
    "        s=10, marker='x',\n",
    "        c='magenta', edgecolor='black',\n",
    "        label='centroids')\n",
    "\n",
    "    # LINES\n",
    "#     plt.plot(a,b) # this works\n",
    "    for i in range(len(a)):\n",
    "        if i == len(a):\n",
    "            break\n",
    "        plt.plot(a[i:i+1], b[i:i+1])\n",
    "#     plt.text(0.9, 0.2, 'cos')\n",
    "    "
   ]
  },
  {
   "cell_type": "code",
   "execution_count": 279,
   "metadata": {},
   "outputs": [
    {
     "name": "stdout",
     "output_type": "stream",
     "text": [
      "2020/04/10\n",
      "====metric: correlation,  48 neighbor (low=maintain local structure),  0.1 dist (low=tightly packed),  2D======\n",
      "(20, 20) (20, 2)\n"
     ]
    },
    {
     "data": {
      "text/plain": [
       "<Figure size 432x288 with 0 Axes>"
      ]
     },
     "metadata": {},
     "output_type": "display_data"
    },
    {
     "data": {
      "image/png": "[encoded data removed]",
      "text/plain": [
       "<Figure size 1000x800 with 1 Axes>"
      ]
     },
     "metadata": {},
     "output_type": "display_data"
    }
   ],
   "source": [
    "# Plot 2D for each timestep\n",
    "\n",
    "\n",
    "method = 'supervised'# 'metric_learning', 'supervised', 'unsupervised'\n",
    "savefig = False\n",
    "plot=True\n",
    "annotate = False\n",
    "annotate_names = False\n",
    "run_Ntimesteps = 1 #len(X) \n",
    "\n",
    "\n",
    "for i, (X_i, y_i) in enumerate(zip(X[:run_Ntimesteps],y[:run_Ntimesteps])):\n",
    "    if method  == 'metric_learning' and i==0:\n",
    "        print('doing metric learning, train on first sample and test on rest')\n",
    "        color_code = y[0].copy()\n",
    "        continue\n",
    "\n",
    "    print(days_week[i])\n",
    "    if method == 'metric_learning':\n",
    "        color_code_test = y_i.copy()\n",
    "    else:\n",
    "        color_code = y_i.copy()\n",
    "    # groups = LabelEncoder().fit_transform(groups)\n",
    "    n_dimensions =  [2,]#4,8,16,32,64,128] # https://umap-learn.readthedocs.io/en/latest/parameters.html\n",
    "    n_neighbors = [48]#[8,16,24,32,40,48,56, 64]#15,20] # CANNOT USE MORE THAN N participants, default=10 Lower values seem to work better in 2D. This means that low values of n_neighbors will force UMAP to concentrate on very local structure\n",
    "    min_dist = [0.1]#[0.01, 0.1, 0.5, 1]#[0, 0.001,0.01, 0.1, 0.5]#0.25, 0.5, 0.75]  # default=0.1. Lower values seem to work better in 2D. controls how tightly UMAP is allowed to pack points together. Larger values of min_dist will prevent UMAP from packing point together and will focus instead on the preservation of the broad topological structure instead.\n",
    "    metrics = ['correlation'] # cosine adds points?\n",
    "    repeat_n = 1\n",
    "    repeat = [1]*repeat_n # to check how much randomness is affecting results, one can repeat\n",
    "    scalers = [StandardScaler()]\n",
    "\n",
    "    gridsearch= gridsearch_sets(metrics, n_neighbors, min_dist, n_dimensions, scalers, repeat)\n",
    "    for metric,neighbor,dist,dimension,scaler, r in gridsearch:\n",
    "        print('====metric: {},  {} neighbor (low=maintain local structure),  {} dist (low=tightly packed),  {}D======'.format(metric,neighbor,dist,dimension))\n",
    "        if method == 'metric_learning':\n",
    "            # need to add train and test (the last arguments)             \n",
    "            plot_lines(X)\n",
    "        else:    \n",
    "            plot_lines(X)\n"
   ]
  },
  {
   "cell_type": "markdown",
   "metadata": {},
   "source": [
    "## How much do they agree?\n",
    " evaluating the adjusted Rand score and adjusted mutual information for this clustering as compared with the true labels."
   ]
  },
  {
   "cell_type": "code",
   "execution_count": 44,
   "metadata": {},
   "outputs": [
    {
     "name": "stderr",
     "output_type": "stream",
     "text": [
      "/Users/danielmlow/miniconda3/lib/python3.7/site-packages/sklearn/metrics/cluster/supervised.py:746: FutureWarning: The behavior of AMI will change in version 0.22. To match the behavior of 'v_measure_score', AMI will use average_method='arithmetic' by default.\n",
      "  FutureWarning)\n"
     ]
    },
    {
     "data": {
      "text/plain": [
       "(0.9897922787956482, 0.9724335466869521)"
      ]
     },
     "execution_count": 44,
     "metadata": {},
     "output_type": "execute_result"
    }
   ],
   "source": [
    "\n",
    "from sklearn.metrics import adjusted_rand_score, adjusted_mutual_info_score\n",
    "\n",
    "(\n",
    "    adjusted_rand_score(y_i, kmeans_labels),\n",
    "    adjusted_mutual_info_score(y_i, kmeans_labels)\n",
    ")"
   ]
  },
  {
   "cell_type": "code",
   "execution_count": 178,
   "metadata": {},
   "outputs": [
    {
     "name": "stdout",
     "output_type": "stream",
     "text": [
      "Collecting matplotlib-label-lines\n",
      "  Downloading https://files.pythonhosted.org/packages/74/0d/d4c84ae9ff80b24c503e2cc5f15f9123d11aea3c7e6a550b938e2d012187/matplotlib_label_lines-0.3.8-py3-none-any.whl\n",
      "Requirement already satisfied: matplotlib in /Users/danielmlow/miniconda3/lib/python3.7/site-packages (from matplotlib-label-lines) (3.1.1)\n",
      "Requirement already satisfied: numpy in /Users/danielmlow/miniconda3/lib/python3.7/site-packages (from matplotlib-label-lines) (1.17.3)\n",
      "Requirement already satisfied: kiwisolver>=1.0.1 in /Users/danielmlow/miniconda3/lib/python3.7/site-packages (from matplotlib->matplotlib-label-lines) (1.1.0)\n",
      "Requirement already satisfied: cycler>=0.10 in /Users/danielmlow/miniconda3/lib/python3.7/site-packages (from matplotlib->matplotlib-label-lines) (0.10.0)\n",
      "Requirement already satisfied: pyparsing!=2.0.4,!=2.1.2,!=2.1.6,>=2.0.1 in /Users/danielmlow/miniconda3/lib/python3.7/site-packages (from matplotlib->matplotlib-label-lines) (2.4.0)\n",
      "Requirement already satisfied: python-dateutil>=2.1 in /Users/danielmlow/miniconda3/lib/python3.7/site-packages (from matplotlib->matplotlib-label-lines) (2.8.0)\n",
      "Requirement already satisfied: setuptools in /Users/danielmlow/miniconda3/lib/python3.7/site-packages (from kiwisolver>=1.0.1->matplotlib->matplotlib-label-lines) (41.0.0)\n",
      "Requirement already satisfied: six in /Users/danielmlow/miniconda3/lib/python3.7/site-packages (from cycler>=0.10->matplotlib->matplotlib-label-lines) (1.12.0)\n",
      "Installing collected packages: matplotlib-label-lines\n",
      "Successfully installed matplotlib-label-lines-0.3.8\n",
      "\u001b[33mWARNING: You are using pip version 19.2.3, however version 20.1 is available.\n",
      "You should consider upgrading via the 'pip install --upgrade pip' command.\u001b[0m\n"
     ]
    }
   ],
   "source": [
    "!pip install matplotlib-label-lines"
   ]
  },
  {
   "cell_type": "code",
   "execution_count": 179,
   "metadata": {},
   "outputs": [
    {
     "data": {
      "image/png": "[encoded data removed]",
      "text/plain": [
       "<Figure size 432x288 with 1 Axes>"
      ]
     },
     "metadata": {
      "needs_background": "light"
     },
     "output_type": "display_data"
    }
   ],
   "source": [
    "import numpy as np\n",
    "from matplotlib import pyplot as plt\n",
    "from scipy.stats import loglaplace,chi2\n",
    "\n",
    "from labellines import labelLine, labelLines\n",
    "\n",
    "X = np.linspace(0,1,500)\n",
    "A = [1,2,5,10,20]\n",
    "funcs = [np.arctan,np.sin,loglaplace(4).pdf,chi2(5).pdf]\n",
    "\n",
    "# plt.subplot(321)\n",
    "for a in A:\n",
    "    plt.plot(X,np.arctan(a*X),label=str(a))\n",
    "\n",
    "labelLines(plt.gca().get_lines(),zorder=2.5)"
   ]
  },
  {
   "cell_type": "code",
   "execution_count": 120,
   "metadata": {},
   "outputs": [
    {
     "data": {
      "text/plain": [
       "['2020-02-20.png',\n",
       " '2020-01-01.png',\n",
       " '2020-03-16.png',\n",
       " '2020-04-10.png',\n",
       " '2020-01-26.png']"
      ]
     },
     "execution_count": 120,
     "metadata": {},
     "output_type": "execute_result"
    }
   ],
   "source": [
    "\n",
    "filenames"
   ]
  },
  {
   "cell_type": "code",
   "execution_count": 96,
   "metadata": {
    "colab": {},
    "colab_type": "code",
    "id": "xMcAiJtjpGxT"
   },
   "outputs": [],
   "source": [
    "input_dir = '/Users/danielmlow/Dropbox (MIT)/libs/reddit/data/timestep_{}/'.format(timestep)\n",
    "filenames = os.listdir(input_dir)\n",
    "# images = []\n",
    "# for filename in filenames:\n",
    "#     images.append(imageio.imread(input_dir+filename))\n",
    "# imageio.mimsave(input_dir+'supervised.gif', images)"
   ]
  },
  {
   "cell_type": "code",
   "execution_count": 97,
   "metadata": {
    "colab": {},
    "colab_type": "code",
    "id": "Pz7CxEy5pGxg"
   },
   "outputs": [],
   "source": [
    "import imageio\n",
    "with imageio.get_writer(input_dir+'supervised.gif', mode='I') as writer:\n",
    "    for filename in filenames:\n",
    "        image = imageio.imread(input_dir+filename)\n",
    "        writer.append_data(image)"
   ]
  },
  {
   "cell_type": "code",
   "execution_count": 0,
   "metadata": {
    "colab": {},
    "colab_type": "code",
    "id": "nnzM_IBBpGx4"
   },
   "outputs": [],
   "source": []
  }
 ],
 "metadata": {
  "colab": {
   "collapsed_sections": [],
   "name": "reddit_cluster.ipynb",
   "provenance": []
  },
  "kernelspec": {
   "display_name": "Python 3",
   "language": "python",
   "name": "python3"
  },
  "language_info": {
   "codemirror_mode": {
    "name": "ipython",
    "version": 3
   },
   "file_extension": ".py",
   "mimetype": "text/x-python",
   "name": "python",
   "nbconvert_exporter": "python",
   "pygments_lexer": "ipython3",
   "version": "3.7.3"
  }
 },
 "nbformat": 4,
 "nbformat_minor": 1
}
