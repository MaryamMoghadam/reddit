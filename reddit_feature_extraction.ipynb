{
  "nbformat": 4,
  "nbformat_minor": 0,
  "metadata": {
    "kernelspec": {
      "display_name": "Python 3",
      "language": "python",
      "name": "python3"
    },
    "language_info": {
      "codemirror_mode": {
        "name": "ipython",
        "version": 3
      },
      "file_extension": ".py",
      "mimetype": "text/x-python",
      "name": "python",
      "nbconvert_exporter": "python",
      "pygments_lexer": "ipython3",
      "version": "3.6.9"
    },
    "colab": {
      "name": "reddit_feature_extraction.ipynb",
      "provenance": [],
      "collapsed_sections": [
        "Hfpqoyc2yCc5"
      ],
      "machine_shape": "hm"
    }
  },
  "cells": [
    {
      "cell_type": "markdown",
      "metadata": {
        "id": "Fz3Q_BgwsXj9",
        "colab_type": "text"
      },
      "source": [
        "# Import of Packages for Feature Extraction\n"
      ]
    },
    {
      "cell_type": "markdown",
      "metadata": {
        "id": "rNz6oX8_sgdn",
        "colab_type": "text"
      },
      "source": [
        "The cell below allows the user to mount GDrive to access files from there."
      ]
    },
    {
      "cell_type": "code",
      "metadata": {
        "id": "5iyrrnLSeKiz",
        "colab_type": "code",
        "colab": {
          "base_uri": "https://localhost:8080/",
          "height": 122
        },
        "outputId": "989e4d13-4241-49fe-968c-7a781fa34727"
      },
      "source": [
        "# Mount drive at beginning to be able to access csv of post files.\n",
        "# Google Colab paths\n",
        "# # # Mount GDrive and attach it to the colab for data I/O\n",
        "# from google.colab import drive\n",
        "# drive.mount('/content/drive')\n",
        "# data_folder = '/content/drive/My Drive/ML4HC_Final_Project/data/input/' #when running on Google Drive\n",
        "\n",
        "# Open Science Framework path\n",
        "data_folder = './data/input/reddit_mental_health_dataset/' #if you want to re-extract, posts are here. \n",
        "output_dir = f'./data/input/"
      ],
      "execution_count": null,
      "outputs": [
        {
          "output_type": "stream",
          "text": [
            "Go to this URL in a browser: https://accounts.google.com/o/oauth2/auth?client_id=947318989803-6bn6qk8qdgf4n4g3pfee6491hc0brc4i.apps.googleusercontent.com&redirect_uri=urn%3aietf%3awg%3aoauth%3a2.0%3aoob&response_type=code&scope=email%20https%3a%2f%2fwww.googleapis.com%2fauth%2fdocs.test%20https%3a%2f%2fwww.googleapis.com%2fauth%2fdrive%20https%3a%2f%2fwww.googleapis.com%2fauth%2fdrive.photos.readonly%20https%3a%2f%2fwww.googleapis.com%2fauth%2fpeopleapi.readonly\n",
            "\n",
            "Enter your authorization code:\n",
            "··········\n",
            "Mounted at /content/drive\n"
          ],
          "name": "stdout"
        }
      ]
    },
    {
      "cell_type": "markdown",
      "metadata": {
        "id": "y2Raopx3sp3I",
        "colab_type": "text"
      },
      "source": [
        "Import the necessary packages from installed Colab packages. If needed, install stanza and textacy as they are not automatically included in Google Colab."
      ]
    },
    {
      "cell_type": "code",
      "metadata": {
        "id": "TlIS12eT_f1z",
        "colab_type": "code",
        "colab": {
          "base_uri": "https://localhost:8080/",
          "height": 969
        },
        "outputId": "7df9667b-8568-4a98-a638-0324d35de331"
      },
      "source": [
        "import string\n",
        "import os\n",
        "import re\n",
        "import pandas as pd\n",
        "import numpy as np\n",
        "import datetime\n",
        "!pip install stanza textacy\n",
        "import stanza\n",
        "import textacy\n",
        "import nltk\n",
        "from nltk.sentiment.vader import SentimentIntensityAnalyzer\n",
        "from nltk.stem import SnowballStemmer\n",
        "from nltk.corpus import stopwords\n",
        "from sklearn.feature_extraction.text import TfidfVectorizer\n",
        "\n"
      ],
      "execution_count": null,
      "outputs": [
        {
          "output_type": "stream",
          "text": [
            "Collecting stanza\n",
            "\u001b[?25l  Downloading https://files.pythonhosted.org/packages/27/9c/60689521a971a57dd02d2925105efedefa9dccd76c9a0b92566683d43e89/stanza-1.0.1-py3-none-any.whl (193kB)\n",
            "\u001b[K     |████████████████████████████████| 194kB 2.8MB/s \n",
            "\u001b[?25hCollecting textacy\n",
            "\u001b[?25l  Downloading https://files.pythonhosted.org/packages/f3/fe/0b57ac1a202de9819e71e8373980d586e824f515ad2f4266e4e98627f8b8/textacy-0.10.0-py3-none-any.whl (206kB)\n",
            "\u001b[K     |████████████████████████████████| 215kB 11.2MB/s \n",
            "\u001b[?25hRequirement already satisfied: torch>=1.3.0 in /usr/local/lib/python3.6/dist-packages (from stanza) (1.5.0+cu101)\n",
            "Requirement already satisfied: numpy in /usr/local/lib/python3.6/dist-packages (from stanza) (1.18.5)\n",
            "Requirement already satisfied: tqdm in /usr/local/lib/python3.6/dist-packages (from stanza) (4.41.1)\n",
            "Requirement already satisfied: protobuf in /usr/local/lib/python3.6/dist-packages (from stanza) (3.10.0)\n",
            "Requirement already satisfied: requests in /usr/local/lib/python3.6/dist-packages (from stanza) (2.23.0)\n",
            "Collecting pyphen>=0.9.4\n",
            "\u001b[?25l  Downloading https://files.pythonhosted.org/packages/15/82/08a3629dce8d1f3d91db843bb36d4d7db6b6269d5067259613a0d5c8a9db/Pyphen-0.9.5-py2.py3-none-any.whl (3.0MB)\n",
            "\u001b[K     |████████████████████████████████| 3.0MB 11.3MB/s \n",
            "\u001b[?25hCollecting jellyfish>=0.7.0\n",
            "\u001b[?25l  Downloading https://files.pythonhosted.org/packages/6c/09/927ae35fc5a9f70abb6cc2c27ee88fc48549f7bc4786c1d4b177c22e997d/jellyfish-0.8.2-cp36-cp36m-manylinux2014_x86_64.whl (93kB)\n",
            "\u001b[K     |████████████████████████████████| 102kB 11.1MB/s \n",
            "\u001b[?25hRequirement already satisfied: scikit-learn>=0.19.0 in /usr/local/lib/python3.6/dist-packages (from textacy) (0.22.2.post1)\n",
            "Requirement already satisfied: cachetools>=2.0.1 in /usr/local/lib/python3.6/dist-packages (from textacy) (4.1.0)\n",
            "Requirement already satisfied: networkx>=2.0 in /usr/local/lib/python3.6/dist-packages (from textacy) (2.4)\n",
            "Requirement already satisfied: srsly>=0.0.5 in /usr/local/lib/python3.6/dist-packages (from textacy) (1.0.2)\n",
            "Requirement already satisfied: scipy>=0.17.0 in /usr/local/lib/python3.6/dist-packages (from textacy) (1.4.1)\n",
            "Collecting cytoolz>=0.8.0\n",
            "\u001b[?25l  Downloading https://files.pythonhosted.org/packages/62/b1/7f16703fe4a497879b1b457adf1e472fad2d4f030477698b16d2febf38bb/cytoolz-0.10.1.tar.gz (475kB)\n",
            "\u001b[K     |████████████████████████████████| 481kB 26.3MB/s \n",
            "\u001b[?25hRequirement already satisfied: joblib>=0.13.0 in /usr/local/lib/python3.6/dist-packages (from textacy) (0.15.1)\n",
            "Requirement already satisfied: spacy>=2.2.0 in /usr/local/lib/python3.6/dist-packages (from textacy) (2.2.4)\n",
            "Requirement already satisfied: pyemd>=0.5.0 in /usr/local/lib/python3.6/dist-packages (from textacy) (0.5.1)\n",
            "Requirement already satisfied: future in /usr/local/lib/python3.6/dist-packages (from torch>=1.3.0->stanza) (0.16.0)\n",
            "Requirement already satisfied: six>=1.9 in /usr/local/lib/python3.6/dist-packages (from protobuf->stanza) (1.12.0)\n",
            "Requirement already satisfied: setuptools in /usr/local/lib/python3.6/dist-packages (from protobuf->stanza) (47.3.1)\n",
            "Requirement already satisfied: chardet<4,>=3.0.2 in /usr/local/lib/python3.6/dist-packages (from requests->stanza) (3.0.4)\n",
            "Requirement already satisfied: idna<3,>=2.5 in /usr/local/lib/python3.6/dist-packages (from requests->stanza) (2.9)\n",
            "Requirement already satisfied: certifi>=2017.4.17 in /usr/local/lib/python3.6/dist-packages (from requests->stanza) (2020.4.5.2)\n",
            "Requirement already satisfied: urllib3!=1.25.0,!=1.25.1,<1.26,>=1.21.1 in /usr/local/lib/python3.6/dist-packages (from requests->stanza) (1.24.3)\n",
            "Requirement already satisfied: decorator>=4.3.0 in /usr/local/lib/python3.6/dist-packages (from networkx>=2.0->textacy) (4.4.2)\n",
            "Requirement already satisfied: toolz>=0.8.0 in /usr/local/lib/python3.6/dist-packages (from cytoolz>=0.8.0->textacy) (0.10.0)\n",
            "Requirement already satisfied: thinc==7.4.0 in /usr/local/lib/python3.6/dist-packages (from spacy>=2.2.0->textacy) (7.4.0)\n",
            "Requirement already satisfied: blis<0.5.0,>=0.4.0 in /usr/local/lib/python3.6/dist-packages (from spacy>=2.2.0->textacy) (0.4.1)\n",
            "Requirement already satisfied: plac<1.2.0,>=0.9.6 in /usr/local/lib/python3.6/dist-packages (from spacy>=2.2.0->textacy) (1.1.3)\n",
            "Requirement already satisfied: catalogue<1.1.0,>=0.0.7 in /usr/local/lib/python3.6/dist-packages (from spacy>=2.2.0->textacy) (1.0.0)\n",
            "Requirement already satisfied: wasabi<1.1.0,>=0.4.0 in /usr/local/lib/python3.6/dist-packages (from spacy>=2.2.0->textacy) (0.6.0)\n",
            "Requirement already satisfied: preshed<3.1.0,>=3.0.2 in /usr/local/lib/python3.6/dist-packages (from spacy>=2.2.0->textacy) (3.0.2)\n",
            "Requirement already satisfied: murmurhash<1.1.0,>=0.28.0 in /usr/local/lib/python3.6/dist-packages (from spacy>=2.2.0->textacy) (1.0.2)\n",
            "Requirement already satisfied: cymem<2.1.0,>=2.0.2 in /usr/local/lib/python3.6/dist-packages (from spacy>=2.2.0->textacy) (2.0.3)\n",
            "Requirement already satisfied: importlib-metadata>=0.20; python_version < \"3.8\" in /usr/local/lib/python3.6/dist-packages (from catalogue<1.1.0,>=0.0.7->spacy>=2.2.0->textacy) (1.6.1)\n",
            "Requirement already satisfied: zipp>=0.5 in /usr/local/lib/python3.6/dist-packages (from importlib-metadata>=0.20; python_version < \"3.8\"->catalogue<1.1.0,>=0.0.7->spacy>=2.2.0->textacy) (3.1.0)\n",
            "Building wheels for collected packages: cytoolz\n",
            "  Building wheel for cytoolz (setup.py) ... \u001b[?25l\u001b[?25hdone\n",
            "  Created wheel for cytoolz: filename=cytoolz-0.10.1-cp36-cp36m-linux_x86_64.whl size=1233731 sha256=37a69b99504a14be39251bb22b080a0ffd2dc7f048b3ee7d8147e0ab50eab48c\n",
            "  Stored in directory: /root/.cache/pip/wheels/64/2a/18/d962b614e055577e7d9a3e4813e0742f822ca9c8800cc3783a\n",
            "Successfully built cytoolz\n",
            "Installing collected packages: stanza, pyphen, jellyfish, cytoolz, textacy\n",
            "Successfully installed cytoolz-0.10.1 jellyfish-0.8.2 pyphen-0.9.5 stanza-1.0.1 textacy-0.10.0\n"
          ],
          "name": "stdout"
        },
        {
          "output_type": "stream",
          "text": [
            "/usr/local/lib/python3.6/dist-packages/nltk/twitter/__init__.py:20: UserWarning: The twython library has not been installed. Some functionality from the twitter package will not be available.\n",
            "  warnings.warn(\"The twython library has not been installed. \"\n"
          ],
          "name": "stderr"
        }
      ]
    },
    {
      "cell_type": "markdown",
      "metadata": {
        "id": "R-YcYVq_y0pI",
        "colab_type": "text"
      },
      "source": [
        "Load in all of the packages related to nltk, stemmer, liwc, and sentiment analysis. This will allow us to extract the specified features."
      ]
    },
    {
      "cell_type": "code",
      "metadata": {
        "id": "J8HmYdJY_f15",
        "colab_type": "code",
        "colab": {
          "base_uri": "https://localhost:8080/",
          "height": 340
        },
        "outputId": "7eb5d729-711a-4fa1-aa73-45caa2d8050e"
      },
      "source": [
        "# Do this once at the beginning so we don't reload for each post\n",
        "nltk.download('vader_lexicon')\n",
        "nltk.download('stopwords')\n",
        "stanza.download('en') # download English model\n",
        "nlp = stanza.Pipeline(lang='en', processors='tokenize,ner') # nlp = stanza.Pipeline('en') # initialize English neural pipeline with entity recog NER\n",
        "\n",
        "stemmer = SnowballStemmer(language='english')\n",
        "\n",
        "input_path_liwc = '/content/drive/My Drive/ML4HC_Final_Project/data/input/liwc_english_dictionary/' #you must obtain a LIWC license to use the dictionary\n",
        "liwc_dict = np.load(input_path_liwc + 'liwc.npy', allow_pickle=True).item()\n",
        "liwc_categories = list(liwc_dict.keys())\n",
        "liwc_categories.sort()\n",
        "\n",
        "sid = SentimentIntensityAnalyzer()"
      ],
      "execution_count": null,
      "outputs": [
        {
          "output_type": "stream",
          "text": [
            "[nltk_data] Downloading package vader_lexicon to /root/nltk_data...\n",
            "[nltk_data] Downloading package stopwords to /root/nltk_data...\n",
            "[nltk_data]   Unzipping corpora/stopwords.zip.\n"
          ],
          "name": "stdout"
        },
        {
          "output_type": "stream",
          "text": [
            "Downloading https://raw.githubusercontent.com/stanfordnlp/stanza-resources/master/resources_1.0.0.json: 115kB [00:00, 31.4MB/s]                    \n",
            "2020-06-17 19:41:43 INFO: Downloading default packages for language: en (English)...\n",
            "Downloading http://nlp.stanford.edu/software/stanza/1.0.0/en/default.zip: 100%|██████████| 402M/402M [01:19<00:00, 5.03MB/s]\n",
            "2020-06-17 19:43:11 INFO: Finished downloading models and saved to /root/stanza_resources.\n",
            "2020-06-17 19:43:11 INFO: Loading these models for language: en (English):\n",
            "=========================\n",
            "| Processor | Package   |\n",
            "-------------------------\n",
            "| tokenize  | ewt       |\n",
            "| ner       | ontonotes |\n",
            "=========================\n",
            "\n",
            "2020-06-17 19:43:12 INFO: Use device: cpu\n",
            "2020-06-17 19:43:12 INFO: Loading: tokenize\n",
            "2020-06-17 19:43:12 INFO: Loading: ner\n",
            "2020-06-17 19:43:12 INFO: Done loading processors!\n"
          ],
          "name": "stderr"
        }
      ]
    },
    {
      "cell_type": "markdown",
      "metadata": {
        "id": "zX0Sa7U11zgG",
        "colab_type": "text"
      },
      "source": [
        "# Methods for Feature Extraction"
      ]
    },
    {
      "cell_type": "markdown",
      "metadata": {
        "id": "tQ_Z0j4d4YSQ",
        "colab_type": "text"
      },
      "source": [
        "The methods below are helpful for feature extraction of word count, punctuation count, and LIWC category count."
      ]
    },
    {
      "cell_type": "code",
      "metadata": {
        "id": "rSQBujy8_f2G",
        "colab_type": "code",
        "colab": {}
      },
      "source": [
        "# Count number times a specific phrase appears in the text.\n",
        "def count_words(doc,phrases=[]):\n",
        "    # remove punctuation except apostrophes because we need to search for things like \"don't want to live\"\n",
        "    text = re.sub(\"[^\\w\\d'\\s]+\",'',doc.lower())\n",
        "    counter = 0\n",
        "    for phrase in phrases:\n",
        "      counter += text.count(phrase)\n",
        "    return counter\n",
        "\n",
        "# Count number of times punctuation appears in the text\n",
        "def punctuation_count(doc):\n",
        "    d = {}\n",
        "    punctuation = '!\"#$%&()*+,-./:;=?@[\\]^`{|}~' #removed ', <>, _ because m_c_a_t doesnt reflect punctuation really\n",
        "    for c in doc:\n",
        "        if c in punctuation:\n",
        "            if c not in d:\n",
        "                d[c] = 0\n",
        "            d[c] += 1\n",
        "    total = np.sum(list(d.values()))\n",
        "    return total\n",
        "\n",
        "# Count the number of words that belong to LIWC categories.\n",
        "def liwc(liwc_path=None, document=None):\n",
        "    liwc_vector = []\n",
        "    # tokenize and stem\n",
        "    document_tokenized = [n.strip(string.punctuation).lower() for n in document.split()]\n",
        "    document_stemmed = [stemmer.stem(word) for word in document_tokenized]\n",
        "    for category in liwc_categories:\n",
        "        counter  = 0\n",
        "        # for each word in category, check if its in stemmed sentence list\n",
        "        counter_doc = np.sum([sum(word.rstrip()==s for s in document_stemmed) for word in liwc_dict.get(category)])\n",
        "        counter += counter_doc\n",
        "        liwc_vector.append(counter)\n",
        "    \n",
        "    return liwc_vector"
      ],
      "execution_count": null,
      "outputs": []
    },
    {
      "cell_type": "markdown",
      "metadata": {
        "id": "k1EwINMn4fZr",
        "colab_type": "text"
      },
      "source": [
        "The method below will create a TFIDF for train and test sets of documents."
      ]
    },
    {
      "cell_type": "code",
      "metadata": {
        "id": "IiPugC7M_f2I",
        "colab_type": "code",
        "colab": {}
      },
      "source": [
        "def tfidf(X_train_sentences = [], X_test_sentences=[], lower_case = True, ngram_range = (1,2), max_features=512, min_df=2, max_df=0.8, model = 'vector'):\n",
        "    \"\"\"\n",
        "    TfidfVectorizer is CountVectorizer followed by TfidfTransformer, The former converts text documents to a sparse matrix of token counts.\n",
        "    This sparse matrix is then put through the TfidfTransformer which converts a count matrix to a normalized Term Frequency-Inverse Document Frquency(tf)  \n",
        "    representation which is a metric of word importance. \n",
        "    We fit_transform on train_sentences and transform on test sentences to prevent overfitting, X_test_sentences can be None\n",
        "\n",
        "    Token pattern can be included to include apostophes: token_pattern=r\"\\b\\w[\\w']+\\b\"\n",
        "    \n",
        "    model: {vector, sequential} depending on what model takes as input: vector (svm, random forest), sequential (lstm)\n",
        "    \"\"\"\n",
        "    sw = stopwords.words('english')\n",
        "\n",
        "    if model == 'sequential':\n",
        "        #         \n",
        "        vectorizer = TfidfVectorizer(lowercase=lower_case, ngram_range=ngram_range, stop_words=sw,\n",
        "                                     max_features=max_features, min_df=min_df, max_df=max_df, analyzer=lambda x: x)\n",
        "        train_vectors = vectorizer.fit_transform(X_train_sentences).toarray()\n",
        "        if X_test_sentences:\n",
        "            test_vectors = vectorizer.transform(X_test_sentences).toarray()\n",
        "\n",
        "    else:\n",
        "        # model = 'vector'         \n",
        "        vectorizer = TfidfVectorizer(lowercase=lower_case, ngram_range=ngram_range, stop_words=sw,\n",
        "                                     max_features=max_features, min_df=min_df, max_df=max_df)\n",
        "        train_vectors = vectorizer.fit_transform(X_train_sentences).toarray()\n",
        "        if X_test_sentences:\n",
        "            test_vectors = vectorizer.transform(X_test_sentences).toarray()\n",
        "    # train_vectors = vectorizer.fit_transform(X_train_sentences.ravel()).toarray()\n",
        "    # test_vectors = vectorizer.transform(X_test_sentences.ravel()).toarray()\n",
        "    feature_names = vectorizer.get_feature_names()\n",
        "    feature_names = ['tfidf_'+n for n in feature_names]\n",
        "    if X_test_sentences:\n",
        "        return train_vectors, test_vectors, feature_names\n",
        "    else:\n",
        "        return train_vectors, feature_names, vectorizer\n"
      ],
      "execution_count": null,
      "outputs": []
    },
    {
      "cell_type": "markdown",
      "metadata": {
        "id": "7chi1lf54v2Y",
        "colab_type": "text"
      },
      "source": [
        "The method below lists the feature names based on the list of features we are trying to extract."
      ]
    },
    {
      "cell_type": "code",
      "metadata": {
        "id": "hhCz9LXVv8In",
        "colab_type": "code",
        "colab": {}
      },
      "source": [
        "def extract_NLP_features_names(features):\n",
        "    feature_names  = []\n",
        "\n",
        "    if  'readability' in features:\n",
        "      feature_names.append(['automated_readability_index', 'coleman_liau_index', 'flesch_kincaid_grade_level', 'flesch_reading_ease', \n",
        "                            'gulpease_index', 'gunning_fog_index', 'lix', 'smog_index', 'wiener_sachtextformel'])\n",
        "\n",
        "    if 'basic_count' in features:\n",
        "      #todo: should we be worried \n",
        "      feature_names.append(['n_chars', 'n_long_words', 'n_monosyllable_words', 'n_polysyllable_words', 'n_sents', 'n_syllables', 'n_unique_words', 'n_words'])\n",
        "\n",
        "    \n",
        "    if 'sentiment' in features:\n",
        "        names = ['sent_neg','sent_neu', 'sent_pos', 'sent_compound']\n",
        "        feature_names.append(names)\n",
        "        \n",
        "    if 'covid19' in features:\n",
        "        feature_names.append(['covid19_total'])\n",
        "\n",
        "    if 'economic_stress' in features:\n",
        "        feature_names.append(['economic_stress_total'])\n",
        "\n",
        "    if 'isolation' in features:\n",
        "        feature_names.append(['isolation_total'])\n",
        "\n",
        "    if 'substance_use' in features:\n",
        "        feature_names.append(['substance_use_total'])\n",
        "\n",
        "    if 'guns' in features:\n",
        "        feature_names.append(['guns_total' ])\n",
        "\n",
        "    if 'domestic_stress' in features:\n",
        "        feature_names.append(['domestic_stress_total' ])\n",
        "\n",
        "    if 'suicidality' in features:\n",
        "        feature_names.append(['suicidality_total'])\n",
        "        \n",
        "    if 'punctuation' in features:\n",
        "        feature_names.append(['punctuation'])\n",
        "        \n",
        "    if 'liwc' in features:\n",
        "        liwc_names = ['liwc_'+n for n in liwc_categories]\n",
        "        feature_names.append(liwc_names)\n",
        "\n",
        "    feature_names = [label for item in feature_names for label in item]\n",
        "    return feature_names\n",
        "\n",
        "\n",
        "    "
      ],
      "execution_count": null,
      "outputs": []
    },
    {
      "cell_type": "markdown",
      "metadata": {
        "id": "4ttO8xrk46wb",
        "colab_type": "text"
      },
      "source": [
        "The method below extracts out a feature vector for a specified post based on the features that have been specified."
      ]
    },
    {
      "cell_type": "code",
      "metadata": {
        "id": "9YCgghse_f2L",
        "colab_type": "code",
        "colab": {}
      },
      "source": [
        "def extract_NLP_features(doc, features):\n",
        "    feature_vector = []\n",
        "\n",
        "    if 'basic_count' or  'readability' in features:\n",
        "        doc_ts = textacy.make_spacy_doc(doc, lang='en')\n",
        "        ts = textacy.TextStats(doc_ts)\n",
        "\n",
        "        if  'readability' in features:\n",
        "          '''\n",
        "          described here: https://chartbeat-labs.github.io/textacy/build/html/api_reference/misc.html\n",
        "          {'flesch_kincaid_grade_level': 15.56027397260274,\n",
        "          'flesch_reading_ease': 26.84351598173518,\n",
        "          'smog_index': 17.5058628484301,\n",
        "          'gunning_fog_index': 20.144292237442922,\n",
        "          'coleman_liau_index': 16.32928468493151,\n",
        "          'automated_readability_index': 17.448173515981736,\n",
        "          'lix': 65.42922374429223,\n",
        "          'gulpease_index': 44.61643835616438,\n",
        "          'wiener_sachtextformel': 11.857779908675797}\n",
        "          '''\n",
        "          try:\n",
        "            dictionary = ts.readability_stats\n",
        "            v_sorted = dict(sorted(dictionary.items())).values()\n",
        "            feature_vector.append(v_sorted)\n",
        "          except:\n",
        "            return []\n",
        "\n",
        "        if 'basic_count' in features:\n",
        "          # https://chartbeat-labs.github.io/textacy/build/html/getting_started/quickstart.html\n",
        "          '''\n",
        "          {'n_sents': 3,\n",
        "          'n_words': 73,\n",
        "          'n_chars': 414,\n",
        "          'n_syllables': 134,\n",
        "          'n_unique_words': 57,\n",
        "          'n_long_words': 30,\n",
        "          'n_monosyllable_words': 38,\n",
        "          'n_polysyllable_words': 19}\n",
        "          '''\n",
        "          try:\n",
        "            dictionary = ts.basic_counts\n",
        "            v_sorted = dict(sorted(dictionary.items())).values() #just in case it outputs the values in a diff order each time\n",
        "            feature_vector.append(v_sorted)\n",
        "          except:\n",
        "            return []\n",
        "\n",
        "    \n",
        "    if 'sentiment' in features:\n",
        "        # don't lowercase or remove punctuation, but maybe preprocess emojis     \n",
        "        scores = sid.polarity_scores(doc)\n",
        "        names = ['sent_neg','sent_neu', 'sent_pos', 'sent_compound']\n",
        "        feature_vector.append(scores.values())\n",
        "        feature_names.append(names)\n",
        "        \n",
        "    if 'covid19' in features:\n",
        "        words = ['corona','virus','viral','covid', 'sars','influenza','pandemic', 'epidemic', \n",
        "         'quarantine','lockdown', 'distancing', 'national emergency', 'flatten', \n",
        "             'infect','ventilator', 'mask','symptomatic',\n",
        "            'epidemiolog', 'immun', 'incubation', 'transmission','vaccine', ]\n",
        "\n",
        "        counter = count_words(doc,phrases=words)\n",
        "        feature_vector.append([counter])\n",
        "        feature_names.append(['covid19_total'])\n",
        "\n",
        "\n",
        "    if 'economic_stress' in features:\n",
        "      # Double check that words like \"rent\" aren't capturing too many other words like \"parent\". If so replace \"rent\" with \"pay rent\" and variations\n",
        "        words = ['unemploy','employ', 'economy','rent', 'mortgage', 'evict',  \"enough money\", \"more money\", \n",
        "                 'pay the bills', 'owe', 'debt', \"make ends meet\", \"pay the bills\", \"afford\", \"save enough\", \n",
        "                 'salary', 'wage', 'income', 'job', 'eviction']\n",
        "        counter = count_words(doc,phrases=words)\n",
        "        feature_vector.append([counter])\n",
        "        feature_names.append(['economic_stress_total'])\n",
        "\n",
        "    if 'isolation' in features:\n",
        "        words=['alone', 'lonely','no one cares about me','no one cares', \"can't see anyone\", \n",
        "               \"can't see my\", \"i miss my\", \"i want to see my\", \"trapped\", \"i'm in a cage\",\n",
        "              'lonely', \"feel ignored\",\"ignoring me\" \"ugly\", 'rejected', \"avoid\", 'avoiding me', \" lack of social\",\n",
        "               'am single', 'been single', 'quarantine', 'lockdown', 'isolation', 'self-isolation']\n",
        "        counter = count_words(doc,phrases=words)\n",
        "        feature_vector.append([counter])\n",
        "        feature_names.append(['isolation_total'])\n",
        "\n",
        "    if 'substance_use' in features:\n",
        "        words = ['smoke', 'cigarette', 'tobacco','wine','drink', 'beer', 'alcohol', 'drug', 'opioid', \n",
        "                 'cocaine','snort', 'vodka', 'whiskey', 'whisky', 'tequila', 'meth'] #(remove words like drug that may refer to when people are talking about possible covid19 drugs?)\n",
        "        # we could include commonly abused prescription drugs but this would also capture healthy/prescribed use: https://www.mayoclinic.org/diseases-conditions/prescription-drug-abuse/symptoms-causes/syc-20376813\n",
        "        counter = count_words(doc,phrases=words)\n",
        "        feature_vector.append([counter])\n",
        "        feature_names.append(['substance_use_total'])\n",
        "\n",
        "    if 'guns' in features:\n",
        "        words = ['gun', 'pistol', 'revolver', 'semiautomatic', 'rifle', 'shoot', 'firearm', 'semi-automatic']\n",
        "        counter  = count_words(doc,phrases=words)\n",
        "        feature_vector.append([counter])\n",
        "        feature_names.append(['guns_total'])\n",
        "\n",
        "\n",
        "    if 'domestic_stress' in features:\n",
        "        words = ['divorce','domestic violence', 'abuse', 'yelling','fighting with my',\n",
        "                 \"we're fighting\",  'single mom', 'single dad', 'single parent', 'hit me', \n",
        "                 'slapped me', 'fighting', 'fight']\n",
        "        counter = count_words(doc,phrases=words)\n",
        "        feature_vector.append([counter ])\n",
        "        feature_names.append(['domestic_stress_total' ])\n",
        "\n",
        "\n",
        "    if 'suicidality' in features:\n",
        "        words = ['commit suicide', 'jump off a bridge', 'I want to overdose',\"i'm a burden\",\n",
        "                 \"i'm such a burden\", 'I will overdose', 'thinking about overdose', 'kill myself', \n",
        "                 'killing myself', 'hang myself', 'hanging myself', 'cut myself', 'cutting myself', \n",
        "                 'hurt myself', 'hurting myself', 'want to die', 'wanna die', \"don't want to wake up\", \n",
        "                 \"don't wake up\", 'never want to wake up', \"don't want to be alive\", 'want to be alive anymore', \n",
        "                 'wish it would all end', 'done with living', 'want it to end', 'it all ends tonight', 'end my life', \n",
        "                 'live anymore', 'living anymore', 'life anymore', 'be dead', 'take it anymore', 'think about death', \n",
        "                 'hopeless', 'hurt myself', \"no one will miss me\", \"don't want to wake up\", \n",
        "                 'if I live or die', 'i hate my life', 'shoot me', 'kill me', 'suicide',\n",
        "                 'no point']\n",
        "        counter = count_words(doc,phrases=words)\n",
        "        feature_vector.append([counter])\n",
        "        feature_names.append(['suicidality_total'])\n",
        "        \n",
        "    \n",
        "    if 'punctuation' in features:\n",
        "        count = punctuation_count(doc)\n",
        "        feature_vector.append([count])\n",
        "        feature_names.append(['punctuation'])\n",
        "        \n",
        "    if 'liwc' in features:\n",
        "        vector = liwc(liwc_path = None, document = doc)\n",
        "        feature_vector.append(vector)\n",
        "        # feature_names.append(names)\n",
        "        \n",
        "    \n",
        "        \n",
        "    feature_vector = [n for i in feature_vector for n in i]\n",
        "    return feature_vector\n",
        "\n",
        "\n",
        "\n",
        "    "
      ],
      "execution_count": null,
      "outputs": []
    },
    {
      "cell_type": "markdown",
      "metadata": {
        "id": "_GwNcIBXx-Kt",
        "colab_type": "text"
      },
      "source": [
        "# Extract Out Features"
      ]
    },
    {
      "cell_type": "markdown",
      "metadata": {
        "id": "8n1yHynY5CFZ",
        "colab_type": "text"
      },
      "source": [
        "The script below extracts out the features for sentiment, punctuation, LIWC, count based on textacy, readability features based on textacy, and counts based on the lexicons we have developed."
      ]
    },
    {
      "cell_type": "code",
      "metadata": {
        "id": "pag0UMDI_f2O",
        "colab_type": "code",
        "colab": {}
      },
      "source": [
        "features = ['sentiment', 'punctuation', 'liwc', 'basic_count', 'readability', 'isolation', 'suicidality', 'economic_stress', 'substance_use', 'guns', 'domestic_stress']\n",
        "\n",
        "input_dir = '/content/drive/My Drive/ML4HC_Final_Project/data/input/raw_post/'\n",
        "output_dir = '/content/drive/My Drive/ML4HC_Final_Project/data/input/feature_extraction/'\n",
        "files  = os.listdir(input_dir)\n",
        "files = [ 'depression_2019.csv',\n",
        " 'psychosis_2019.csv',\n",
        " 'anxiety_2019.csv']\n",
        "for file in files:\n",
        "    df_subreddit = pd.read_csv(input_dir + file)\n",
        "    print(df_subreddit.head())\n",
        "    \n",
        "    #pre-process to remove duplicate posters, any bots, and posts that have the word quote\n",
        "    df_subreddit = df_subreddit.drop_duplicates(subset=\"author\")\n",
        "    df_subreddit = df_subreddit[~df_subreddit.post.str.contains('(?i)bot')]\n",
        "    df_subreddit = df_subreddit[~df_subreddit.post.str.contains('(?i)quote')]\n",
        "    \n",
        "    #process all posts\n",
        "    posts = list(df_subreddit.post)\n",
        "    posts = [post.replace('\\n', ' ').replace('  ',' ').replace('“', '').replace('”', '') for post in posts]\n",
        "\n",
        "    feature_names = extract_NLP_features_names(features)\n",
        "    full_column_names = list(df_subreddit.columns) + feature_names\n",
        "    subreddit_features = pd.DataFrame(columns=full_column_names)\n",
        "\n",
        "    for pi in range(len(posts)):\n",
        "      post = posts[pi]\n",
        "      feature_vector = extract_NLP_features(post, features) #removed feature_names from output\n",
        "      if len(feature_vector) != 0:\n",
        "        raw_series = list(df_subreddit.iloc[pi])\n",
        "        subreddit_features = subreddit_features.append(pd.Series(raw_series + feature_vector, index=full_column_names), ignore_index=True)  \n",
        "\n",
        "    subreddit_features.to_csv(os.path.join(output_dir, os.path.splitext(file)[0] + \"_features.csv\"), index=False)       \n",
        "\n",
        "\n",
        "    \n",
        "        \n",
        "        \n",
        "        "
      ],
      "execution_count": null,
      "outputs": []
    },
    {
      "cell_type": "markdown",
      "metadata": {
        "id": "BJExZVD_5Rrr",
        "colab_type": "text"
      },
      "source": [
        "The script below extracts out word counts for the topics we are interested in."
      ]
    },
    {
      "cell_type": "code",
      "metadata": {
        "id": "KeGF8ghU5Qpx",
        "colab_type": "code",
        "colab": {}
      },
      "source": [
        "features = ['covid19', 'isolation', 'suicidality', 'economic_stress', 'substance_use', 'guns', 'domestic_stress']\n",
        "\n",
        "input_dir = '/content/drive/My Drive/ML4HC_Final_Project/data/input/raw_post/'\n",
        "output_dir = '/content/drive/My Drive/ML4HC_Final_Project/data/input/feature_extraction/phrases_folder'\n",
        "files  = os.listdir(input_dir)\n",
        "\n",
        "files = [f for f in files if '_pre.csv' in f]\n",
        "for file in files:\n",
        "    df_subreddit = pd.read_csv(input_dir + file)\n",
        "    print(df_subreddit.head())\n",
        "    posts = list(df_subreddit.post)\n",
        "    posts = [post.replace('\\n', ' ').replace('  ',' ').replace('“', '').replace('”', '') for post in posts] \n",
        "\n",
        "    feature_names = extract_NLP_features_names(features)\n",
        "    full_column_names = list(df_subreddit.columns) + feature_names\n",
        "    subreddit_features = pd.DataFrame(columns=full_column_names)\n",
        "\n",
        "    for pi in range(len(posts)):\n",
        "      post = posts[pi]\n",
        "      feature_vector = extract_NLP_features(post, features)\n",
        "      raw_series = list(df_subreddit.iloc[pi])\n",
        "      subreddit_features = subreddit_features.append(pd.Series(raw_series + feature_vector, index=full_column_names), ignore_index=True)  \n",
        "\n",
        "    subreddit_features.to_csv(os.path.join(output_dir, os.path.splitext(file)[0] + \"_phrases.csv\"), index=False)      "
      ],
      "execution_count": null,
      "outputs": []
    },
    {
      "cell_type": "markdown",
      "metadata": {
        "id": "zYjUK4mA6EiF",
        "colab_type": "text"
      },
      "source": [
        "The script below extracts out TF-IDF vectors for training and test data.\n",
        "\n"
      ]
    },
    {
      "cell_type": "code",
      "metadata": {
        "id": "PqhXGPOM6D-D",
        "colab_type": "code",
        "colab": {}
      },
      "source": [
        "features = ['tfidf']\n",
        "\n",
        "# input_dir = '/content/drive/My Drive/ML4HC_Final_Project/data/input/raw_post/'\n",
        "# output_dir = '/content/drive/My Drive/ML4HC_Final_Project/data/input/tfidf_vector/'\n",
        "files  = os.listdir(input_dir)\n",
        "files = [f for f in files if '.csv' in f]\n",
        "end_date = datetime.datetime(2020, 1, 15)\n",
        "\n",
        "all_posts = pd.read_csv(input_dir + files[0], index_col=False)\n",
        "all_posts = all_posts[~all_posts['post'].str.contains(\"deleted\")]\n",
        "all_posts['post_stemmed'] = [post.replace('\\n', ' ').replace('  ',' ').replace('“', '').replace('”', '') for post in all_posts['post']]\n",
        "all_posts['post_stemmed'] = [' '.join([stemmer.stem(word.strip(string.punctuation).lower()) for word in p.split()]) for p in all_posts['post_stemmed']]\n",
        "print(all_posts.shape)\n",
        "\n",
        "for file in files[1:]:\n",
        "    df_subreddit = pd.read_csv(input_dir + file, index_col=False);\n",
        "    df_subreddit['post_stemmed'] = [post.replace('\\n', ' ').replace('  ',' ').replace('“', '').replace('”', '') for post in df_subreddit['post']]\n",
        "    df_subreddit['post_stemmed'] = [' '.join([stemmer.stem(word.strip(string.punctuation).lower()) for word in p.split()]) for p in df_subreddit['post_stemmed']]\n",
        "    print(df_subreddit.shape)\n",
        "    all_posts = pd.concat([all_posts, df_subreddit], axis=0)\n",
        "    print(all_posts.shape)\n",
        "\n",
        "all_posts.head()\n",
        "\n",
        "all_posts['date'] = pd.to_datetime(all_posts['date'], format=\"%Y/%m/%d\")\n",
        "\n",
        "all_posts_training = list(all_posts['post_stemmed'].loc[all_posts['date'] <= end_date])\n",
        "\n",
        "all_posts_testing = list(all_posts['post_stemmed'].loc[all_posts['date'] > end_date])\n",
        "    \n",
        "'''\n",
        "tfidf is done with the whole corpus, not for each sentence, or with the whole train set (if we're doing a split, which we may not be for cluster analysis). \n",
        "\n",
        "play with the params a bit to figure out how many max_features so that it's not too sparse and captures important words per subreddit. \n",
        "'''\n",
        "train_vectors, test_vectors, features = tfidf(X_train_sentences = all_posts_training, X_test_sentences=all_posts_testing, lower_case = True, \n",
        "                                              ngram_range = (1,2), max_features=None, min_df=2, max_df=0.8, model = 'vector')\n",
        "\n",
        "all_posts_new = all_posts\n",
        "all_posts_new = all_posts_new.reindex(all_posts_new.columns.tolist() + features, axis=1)\n",
        "all_posts_new.loc[all_posts['date'] <= end_date,features] = train_vectors\n",
        "all_posts_new.loc[all_posts['date'] > end_date, features] = test_vectors\n",
        "\n",
        "all_posts_new.to_csv(os.path.join(output_dir, \"tfidf_test.csv\"), index=False)"
      ],
      "execution_count": null,
      "outputs": []
    },
    {
      "cell_type": "markdown",
      "metadata": {
        "id": "8j7bMkpA5ana",
        "colab_type": "text"
      },
      "source": [
        "The two cells below will do TFIDF on the pre-pandemic mental health subreddits, and then apply that vectorizer to the entire dataset and to individual subreddits both pre- and mid-pandemic.\n"
      ]
    },
    {
      "cell_type": "code",
      "metadata": {
        "colab_type": "code",
        "id": "evEtQcaj5W5M",
        "colab": {}
      },
      "source": [
        "features = ['tfidf']\n",
        "min_posts = 2720 # from bipolarreddit\n",
        "feats = [256, 512, 1024]\n",
        "\n",
        "for feat in feats:\n",
        "  # input_dir = '/content/drive/My Drive/ML4HC_Final_Project/data/input/feature_extraction/new'\n",
        "\n",
        "  files = ['suicidewatch_pre_features.csv',\n",
        "          'depression_pre_features.csv',\n",
        "          'ptsd_pre_features.csv',\n",
        "          'anxiety_pre_features.csv',\n",
        "          'socialanxiety_pre_features.csv',\n",
        "          'healthanxiety_pre_features.csv',\n",
        "          'bipolarreddit_pre_features.csv',\n",
        "          'bpd_pre_features.csv',\n",
        "          'schizophrenia_pre_features.csv',\n",
        "          'EDAnonymous_pre_features.csv',\n",
        "          'alcoholism_pre_features.csv',\n",
        "          'addiction_pre_features.csv',\n",
        "          'adhd_pre_features.csv']\n",
        "\n",
        "  # gather all posts from pre_pandemic\n",
        "  all_posts = pd.read_csv(os.path.join(input_dir, files[0]), index_col=False)\n",
        "  all_posts = all_posts.sample(min_posts)\n",
        "  all_posts['post_stemmed'] = [post.replace('\\n', ' ').replace('  ',' ').replace('“', '').replace('”', '') for post in all_posts['post']]\n",
        "  all_posts['post_stemmed'] = [' '.join([stemmer.stem(word.strip(string.punctuation).lower()) for word in p.split()]) for p in all_posts['post_stemmed']]\n",
        "  print(all_posts.shape)\n",
        "\n",
        "  for file in files[1:]:\n",
        "      df_subreddit = pd.read_csv(os.path.join(input_dir, file), index_col=False);\n",
        "      df_subreddit = df_subreddit.sample(min_posts)\n",
        "      df_subreddit['post_stemmed'] = [post.replace('\\n', ' ').replace('  ',' ').replace('“', '').replace('”', '') for post in df_subreddit['post']]\n",
        "      df_subreddit['post_stemmed'] = [' '.join([stemmer.stem(word.strip(string.punctuation).lower()) for word in p.split()]) for p in df_subreddit['post_stemmed']]\n",
        "      all_posts = pd.concat([all_posts, df_subreddit], axis=0)\n",
        "      print(all_posts.shape)\n",
        "\n",
        "  all_posts.head()\n",
        "\n",
        "  posts = list(all_posts.post_stemmed)\n",
        "\n",
        "  train_vectors, features, vectorizer = tfidf(X_train_sentences = posts, lower_case = True, \n",
        "                                  ngram_range = (1,2), max_features=feat, min_df=0.001, max_df=0.75, model = 'vector')\n",
        "\n",
        "  # input_dir = '/content/drive/My Drive/ML4HC_Final_Project/data/input/feature_extraction/new/'\n",
        "  # output_dir = '/content/drive/My Drive/ML4HC_Final_Project/data/input/feature_extraction/tfidf_combined'\n",
        "  files  = os.listdir(input_dir)\n",
        "\n",
        "  files = [f for f in files if '.csv' in f]\n",
        "  for file in files:\n",
        "      df_subreddit = pd.read_csv(os.path.join(input_dir + file))\n",
        "      print(df_subreddit.head())\n",
        "      posts = list(df_subreddit.post)\n",
        "      if len(posts) == 0:\n",
        "        continue\n",
        "      posts = [post.replace('\\n', ' ').replace('  ',' ').replace('“', '').replace('”', '') for post in posts] \n",
        "      posts = [' '.join([stemmer.stem(word.strip(string.punctuation).lower()) for word in p.split()]) for p in posts]\n",
        "\n",
        "      tfidf_posts = vectorizer.transform(posts).toarray()\n",
        "      df_subreddit_new = df_subreddit\n",
        "      df_subreddit_new = df_subreddit_new.reindex(df_subreddit_new.columns.tolist() + features, axis=1)\n",
        "      df_subreddit_new.loc[:, features] = tfidf_posts\n",
        "\n",
        "      df_subreddit_new.to_csv(os.path.join(output_dir, os.path.splitext(file)[0] + \"_tfidf_{}.csv\".format(feat)), index=False)\n",
        "  \n",
        "  import pickle\n",
        "  pickle.dump(vectorizer.vocabulary_,open(os.path.join(\"/content/drive/My Drive/ML4HC_Final_Project/data/input/lda_models\", \"vec_{}.pkl\".format(feat)),\"wb\"))   "
      ],
      "execution_count": null,
      "outputs": []
    },
    {
      "cell_type": "code",
      "metadata": {
        "id": "TrsiK8_ewKMm",
        "colab_type": "code",
        "colab": {}
      },
      "source": [
        "# input_dir = '/content/drive/My Drive/ML4HC_Final_Project/data/input/feature_extraction/new/'\n",
        "# output_dir = '/content/drive/My Drive/ML4HC_Final_Project/data/input/feature_extraction/tfidf_combined'\n",
        "files  = os.listdir(input_dir)\n",
        "\n",
        "files = [f for f in files if '.csv' in f]\n",
        "for file in files:\n",
        "    df_subreddit = pd.read_csv(os.path.join(input_dir + file))\n",
        "    print(df_subreddit.head())\n",
        "    posts = list(df_subreddit.post)\n",
        "    if len(posts) == 0:\n",
        "      continue\n",
        "    posts = [post.replace('\\n', ' ').replace('  ',' ').replace('“', '').replace('”', '') for post in posts] \n",
        "    posts = [' '.join([stemmer.stem(word.strip(string.punctuation).lower()) for word in p.split()]) for p in posts]\n",
        "\n",
        "    tfidf_posts = vectorizer.transform(posts).toarray()\n",
        "    df_subreddit_new = df_subreddit\n",
        "    df_subreddit_new = df_subreddit_new.reindex(df_subreddit_new.columns.tolist() + features, axis=1)\n",
        "    df_subreddit_new.loc[:, features] = tfidf_posts\n",
        "\n",
        "    df_subreddit_new.to_csv(os.path.join(output_dir, os.path.splitext(file)[0] + \"_tfidf_all.csv\"), index=False)      "
      ],
      "execution_count": null,
      "outputs": []
    },
    {
      "cell_type": "code",
      "metadata": {
        "id": "QWixVHgn5xQO",
        "colab_type": "code",
        "colab": {}
      },
      "source": [
        "# save vectorizer\n",
        "import pickle\n",
        "pickle.dump(vectorizer.vocabulary_,open(os.path.join(\"/content/drive/My Drive/ML4HC_Final_Project/data/input/lda_models\", \"vec_all.pkl\"),\"wb\"))"
      ],
      "execution_count": null,
      "outputs": []
    },
    {
      "cell_type": "code",
      "metadata": {
        "id": "NiARb2qi3bwk",
        "colab_type": "code",
        "colab": {
          "base_uri": "https://localhost:8080/",
          "height": 34
        },
        "outputId": "76243585-897e-45a2-d13b-c844f02ace2c"
      },
      "source": [
        "file"
      ],
      "execution_count": null,
      "outputs": [
        {
          "output_type": "execute_result",
          "data": {
            "text/plain": [
              "'depression_2018.csv'"
            ]
          },
          "metadata": {
            "tags": []
          },
          "execution_count": 8
        }
      ]
    },
    {
      "cell_type": "markdown",
      "metadata": {
        "id": "vqW-VLP6zUuK",
        "colab_type": "text"
      },
      "source": [
        "# Create Histograms of Data"
      ]
    },
    {
      "cell_type": "markdown",
      "metadata": {
        "id": "JNJY538JTEA_",
        "colab_type": "text"
      },
      "source": [
        "The following two cells create the histograms for the number of posts that are present in each subreddit in the pre- and mid-pandemic timeframes."
      ]
    },
    {
      "cell_type": "code",
      "metadata": {
        "id": "Pod74Zn270sg",
        "colab_type": "code",
        "colab": {
          "base_uri": "https://localhost:8080/",
          "height": 365
        },
        "outputId": "2cd03be9-5b86-4637-d1fc-949c162eaa82"
      },
      "source": [
        "files = ['suicidewatch_pre_features.csv',\n",
        " 'depression_pre_features.csv',\n",
        " 'ptsd_pre_features.csv',\n",
        " 'anxiety_pre_features.csv',\n",
        " 'socialanxiety_pre_features.csv',\n",
        " 'healthanxiety_pre_features.csv',\n",
        " 'bipolarreddit_pre_features.csv',\n",
        " 'bpd_pre_features.csv',\n",
        " 'schizophrenia_pre_features.csv',\n",
        " 'EDAnonymous_pre_features.csv',\n",
        " 'alcoholism_pre_features.csv',\n",
        " 'addiction_pre_features.csv',\n",
        " 'adhd_pre_features.csv',\n",
        " 'mentalhealth_pre_features.csv',\n",
        " 'meditation_pre_features.csv',\n",
        " 'personalfinance_pre_features.csv',\n",
        " 'teaching_pre_features.csv',\n",
        " 'relationships_pre_features.csv',\n",
        " 'legaladvice_pre_features.csv',\n",
        " 'fitness_pre_features.csv',\n",
        " 'parenting_pre_features.csv',\n",
        " 'lonely_pre_features.csv',\n",
        " 'autism_pre_features.csv',\n",
        " 'divorce_pre_features.csv',\n",
        " 'conspiracy_pre_features.csv',\n",
        " 'guns_pre_features.csv',\n",
        " 'jokes_pre_features.csv'\n",
        "]\n",
        "\n",
        "input_dir = '/content/drive/My Drive/ML4HC_Final_Project/data/input/feature_extraction/new/'\n",
        "# files  = os.listdir(input_dir)\n",
        "# files = [f for f in files if '.csv' in f]\n",
        "\n",
        "file_count_dict = {}\n",
        "for file in files:\n",
        "    df_subreddit = pd.read_csv(input_dir + file, index_col=False);\n",
        "    file_count_dict[os.path.basename(file).split('_')[0]] = df_subreddit.shape[0]\n",
        "\n",
        "import matplotlib.pyplot as plt\n",
        "# file_count_dict['COVID19_support'] = file_count_dict['COVID19\\_support']\n",
        "# file_count_dict.pop('COVID19\\_support', None)\n",
        "sorted_values = [x for _,x in sorted(zip(file_count_dict.keys(),file_count_dict.values()))]\n",
        "plt.bar(sorted(file_count_dict.keys()), sorted_values)\n",
        "plt.xticks(rotation=90)\n",
        "plt.title('Pre-Pandemic No. of Posts')\n",
        "plt.xlabel('Subreddits')\n",
        "plt.ylabel('No. of Posts')\n",
        "plt.show()"
      ],
      "execution_count": null,
      "outputs": [
        {
          "output_type": "display_data",
          "data": {
            "image/png": "[encoded data removed]",
            "text/plain": [
              "<Figure size 432x288 with 1 Axes>"
            ]
          },
          "metadata": {
            "tags": [],
            "needs_background": "light"
          }
        }
      ]
    },
    {
      "cell_type": "code",
      "metadata": {
        "id": "Rnh5gp4buNK8",
        "colab_type": "code",
        "colab": {
          "base_uri": "https://localhost:8080/",
          "height": 373
        },
        "outputId": "0dc2f97c-5e93-43ff-c4d5-2e0eb449de52"
      },
      "source": [
        "files = ['suicidewatch_post_features.csv',\n",
        " 'depression_post_features.csv',\n",
        " 'ptsd_post_features.csv',\n",
        " 'anxiety_post_features.csv',\n",
        " 'socialanxiety_post_features.csv',\n",
        " 'healthanxiety_post_features.csv',\n",
        " 'bipolarreddit_post_features.csv',\n",
        " 'bpd_post_features.csv',\n",
        " 'schizophrenia_post_features.csv',\n",
        " 'EDAnonymous_post_features.csv',\n",
        " 'alcoholism_post_features.csv',\n",
        " 'addiction_post_features.csv',\n",
        " 'adhd_post_features.csv',\n",
        " 'mentalhealth_post_features.csv',\n",
        " 'meditation_post_features.csv',\n",
        " 'personalfinance_post_features.csv',\n",
        " 'teaching_post_features.csv',\n",
        " 'relationships_post_features.csv',\n",
        " 'legaladvice_post_features.csv',\n",
        " 'fitness_post_features.csv',\n",
        " 'parenting_post_features.csv',\n",
        " 'lonely_post_features.csv',\n",
        " 'autism_post_features.csv',\n",
        " 'divorce_post_features.csv',\n",
        " 'conspiracy_post_features.csv',\n",
        " 'COVID19_support_post_features.csv',\n",
        " 'guns_post_features.csv',\n",
        " 'jokes_post_features.csv'\n",
        "]\n",
        "\n",
        "input_dir = '/content/drive/My Drive/ML4HC_Final_Project/data/input/feature_extraction/new/'\n",
        "# files  = os.listdir(input_dir)\n",
        "# files = [f for f in files if '.csv' in f]\n",
        "\n",
        "start_date = datetime.datetime(2020, 3, 11)\n",
        "\n",
        "file_count_dict = {}\n",
        "for file in files:\n",
        "    df_subreddit = pd.read_csv(input_dir + file, index_col=False);\n",
        "    # df_subreddit['date'] = pd.to_datetime(df_subreddit['date'], format=\"%Y/%m/%d\")\n",
        "    # df_subreddit = df_subreddit.loc[df_subreddit['date'] >= start_date]\n",
        "    file_count_dict[os.path.basename(file).split('_')[0]] = df_subreddit.shape[0]\n",
        "\n",
        "import matplotlib.pyplot as plt\n",
        "file_count_dict['COVID19_support'] = file_count_dict['COVID19']\n",
        "file_count_dict.pop('COVID19', None)\n",
        "sorted_values = [x for _,x in sorted(zip(file_count_dict.keys(),file_count_dict.values()))]\n",
        "plt.bar(sorted(file_count_dict.keys()), sorted_values)\n",
        "plt.xticks(rotation=90)\n",
        "plt.title('Mid-Pandemic No. of Posts (01/01/2020-04/20/2020)')\n",
        "plt.xlabel('Subreddits')\n",
        "plt.ylabel('No. of Posts')\n",
        "plt.show()"
      ],
      "execution_count": null,
      "outputs": [
        {
          "output_type": "display_data",
          "data": {
            "image/png": "[encoded data removed]",
            "text/plain": [
              "<Figure size 432x288 with 1 Axes>"
            ]
          },
          "metadata": {
            "tags": [],
            "needs_background": "light"
          }
        }
      ]
    },
    {
      "cell_type": "code",
      "metadata": {
        "id": "8FcWEJUg2S8V",
        "colab_type": "code",
        "colab": {
          "base_uri": "https://localhost:8080/",
          "height": 51
        },
        "outputId": "b2b72a50-bb2b-475c-acf4-ac78557f9e81"
      },
      "source": [
        "files = ['suicidewatch_pre_features.csv',\n",
        " 'depression_pre_features.csv',\n",
        " 'ptsd_pre_features.csv',\n",
        " 'anxiety_pre_features.csv',\n",
        " 'socialanxiety_pre_features.csv',\n",
        " 'healthanxiety_pre_features.csv',\n",
        " 'bipolarreddit_pre_features.csv',\n",
        " 'bpd_pre_features.csv',\n",
        " 'schizophrenia_pre_features.csv',\n",
        " 'EDAnonymous_pre_features.csv',\n",
        " 'alcoholism_pre_features.csv',\n",
        " 'addiction_pre_features.csv',\n",
        " 'adhd_pre_features.csv',\n",
        " 'mentalhealth_pre_features.csv',\n",
        " 'meditation_pre_features.csv',\n",
        " 'personalfinance_pre_features.csv',\n",
        " 'teaching_pre_features.csv',\n",
        " 'relationships_pre_features.csv',\n",
        " 'legaladvice_pre_features.csv',\n",
        " 'fitness_pre_features.csv',\n",
        " 'parenting_pre_features.csv',\n",
        " 'lonely_pre_features.csv',\n",
        " 'autism_pre_features.csv',\n",
        " 'divorce_pre_features.csv',\n",
        " 'conspiracy_pre_features.csv',\n",
        " 'guns_pre_features.csv',\n",
        " 'jokes_pre_features.csv',\n",
        " 'suicidewatch_post_features.csv',\n",
        " 'depression_post_features.csv',\n",
        " 'ptsd_post_features.csv',\n",
        " 'anxiety_post_features.csv',\n",
        " 'socialanxiety_post_features.csv',\n",
        " 'healthanxiety_post_features.csv',\n",
        " 'bipolarreddit_post_features.csv',\n",
        " 'bpd_post_features.csv',\n",
        " 'schizophrenia_post_features.csv',\n",
        " 'EDAnonymous_post_features.csv',\n",
        " 'alcoholism_post_features.csv',\n",
        " 'addiction_post_features.csv',\n",
        " 'adhd_post_features.csv',\n",
        " 'mentalhealth_post_features.csv',\n",
        " 'meditation_post_features.csv',\n",
        " 'personalfinance_post_features.csv',\n",
        " 'teaching_post_features.csv',\n",
        " 'relationships_post_features.csv',\n",
        " 'legaladvice_post_features.csv',\n",
        " 'fitness_post_features.csv',\n",
        " 'parenting_post_features.csv',\n",
        " 'lonely_post_features.csv',\n",
        " 'autism_post_features.csv',\n",
        " 'divorce_post_features.csv',\n",
        " 'conspiracy_post_features.csv',\n",
        " 'COVID19_support_post_features.csv',\n",
        " 'guns_post_features.csv',\n",
        " 'jokes_post_features.csv'\n",
        "]\n",
        "\n",
        "input_dir = '/content/drive/My Drive/ML4HC_Final_Project/data/input/feature_extraction/new/'\n",
        "\n",
        "data = pd.read_csv(os.path.join(input_dir, files[0]))\n",
        "data_agg = data\n",
        "\n",
        "for file in files[1:]:\n",
        "    data = pd.read_csv(os.path.join(input_dir, file));\n",
        "    data_agg = pd.concat([data_agg, data], axis=0, ignore_index=True)\n",
        "\n",
        "print(data_agg.author.unique().shape)\n",
        "print(data_agg.shape)"
      ],
      "execution_count": null,
      "outputs": [
        {
          "output_type": "stream",
          "text": [
            "(555349,)\n",
            "(647653, 95)\n"
          ],
          "name": "stdout"
        }
      ]
    },
    {
      "cell_type": "code",
      "metadata": {
        "id": "dJBaczy-4Auu",
        "colab_type": "code",
        "colab": {
          "base_uri": "https://localhost:8080/",
          "height": 51
        },
        "outputId": "c4ff7934-718a-44cb-cda8-152a35331ba9"
      },
      "source": [
        "files = ['suicidewatch_pre.csv',\n",
        " 'depression_pre.csv',\n",
        " 'ptsd_pre.csv',\n",
        " 'anxiety_pre.csv',\n",
        " 'socialanxiety_pre.csv',\n",
        " 'healthanxiety_pre.csv',\n",
        " 'bipolarreddit_pre.csv',\n",
        " 'bpd_pre.csv',\n",
        " 'schizophrenia_pre.csv',\n",
        " 'EDAnonymous_pre.csv',\n",
        " 'alcoholism_pre.csv',\n",
        " 'addiction_pre.csv',\n",
        " 'adhd_pre.csv',\n",
        " 'mentalhealth_pre.csv',\n",
        " 'meditation_pre.csv',\n",
        " 'personalfinance_pre.csv',\n",
        " 'teaching_pre.csv',\n",
        " 'relationships_pre.csv',\n",
        " 'legaladvice_pre.csv',\n",
        " 'fitness_pre.csv',\n",
        " 'parenting_pre.csv',\n",
        " 'lonely_pre.csv',\n",
        " 'autism_pre.csv',\n",
        " 'divorce_pre.csv',\n",
        " 'conspiracy_pre.csv',\n",
        " 'guns_pre.csv',\n",
        " 'jokes_pre.csv',\n",
        " 'suicidewatch_post.csv',\n",
        " 'depression_post.csv',\n",
        " 'ptsd_post.csv',\n",
        " 'anxiety_post.csv',\n",
        " 'socialanxiety_post.csv',\n",
        " 'healthanxiety_post.csv',\n",
        " 'bipolarreddit_post.csv',\n",
        " 'bpd_post.csv',\n",
        " 'schizophrenia_post.csv',\n",
        " 'EDAnonymous_post.csv',\n",
        " 'alcoholism_post.csv',\n",
        " 'addiction_post.csv',\n",
        " 'adhd_post.csv',\n",
        " 'mentalhealth_post.csv',\n",
        " 'meditation_post.csv',\n",
        " 'personalfinance_post.csv',\n",
        " 'teaching_post.csv',\n",
        " 'relationships_post.csv',\n",
        " 'legaladvice_post.csv',\n",
        " 'fitness_post.csv',\n",
        " 'parenting_post.csv',\n",
        " 'lonely_post.csv',\n",
        " 'autism_post.csv',\n",
        " 'divorce_post.csv',\n",
        " 'conspiracy_post.csv',\n",
        " 'COVID19_support_post.csv',\n",
        " 'guns_post.csv',\n",
        " 'jokes_post.csv'\n",
        "]\n",
        "\n",
        "input_dir = '/content/drive/My Drive/ML4HC_Final_Project/data/input/raw_post'\n",
        "\n",
        "data = pd.read_csv(os.path.join(input_dir, files[0]))\n",
        "data_agg = data\n",
        "\n",
        "for file in files[1:]:\n",
        "    data = pd.read_csv(os.path.join(input_dir, file));\n",
        "    data_agg = pd.concat([data_agg, data], axis=0, ignore_index=True)\n",
        "\n",
        "print(data_agg.author.unique().shape)\n",
        "print(data_agg.shape)"
      ],
      "execution_count": null,
      "outputs": [
        {
          "output_type": "stream",
          "text": [
            "(636743,)\n",
            "(1115854, 4)\n"
          ],
          "name": "stdout"
        }
      ]
    },
    {
      "cell_type": "code",
      "metadata": {
        "id": "GsYn-BHF6Mbj",
        "colab_type": "code",
        "colab": {
          "base_uri": "https://localhost:8080/",
          "height": 34
        },
        "outputId": "d00a5e7a-1d49-4759-b7ab-54ca9cce49cf"
      },
      "source": [
        "327289 + sum(file_count_dict.values())"
      ],
      "execution_count": null,
      "outputs": [
        {
          "output_type": "execute_result",
          "data": {
            "text/plain": [
              "647653"
            ]
          },
          "metadata": {
            "tags": []
          },
          "execution_count": 9
        }
      ]
    },
    {
      "cell_type": "markdown",
      "metadata": {
        "id": "Hfpqoyc2yCc5",
        "colab_type": "text"
      },
      "source": [
        "# Entity Analysis + Computation Complexity"
      ]
    },
    {
      "cell_type": "code",
      "metadata": {
        "id": "YGI-01BW_f19",
        "colab_type": "code",
        "colab": {}
      },
      "source": [
        "post = \"Mayor Cuomo may lockdown NYC. I live in Brooklyn.\"\n",
        "post = nlp(post)\n",
        "print(*[f'token: {token.text}\\tner: {token.ner}' for sent in post.sentences for token in sent.tokens], sep='\\n')\n",
        "print(post.ents)"
      ],
      "execution_count": null,
      "outputs": []
    },
    {
      "cell_type": "code",
      "metadata": {
        "id": "GNzk0tbd_f2A",
        "colab_type": "code",
        "colab": {}
      },
      "source": [
        "# Extract location or other entities\n",
        "def extract_entity(doc, entity = 'GPE'):   \n",
        "    # classes although they have different code names like GPE and ORG: (PERSON, LOCATION, ORGANIZATION, MISC), numerical (MONEY, NUMBER, ORDINAL, PERCENT), and temporal (DATE, TIME, DURATION, SET) entities (12 classes).\n",
        "    # Adding the regexner annotator and using the supplied RegexNER pattern files adds support for the fine-grained and additional entity classes EMAIL, URL, CITY, STATE_OR_PROVINCE, COUNTRY, NATIONALITY, RELIGION, (job) TITLE, IDEOLOGY, CRIMINAL_CHARGE, CAUSE_OF_DEATH, HANDLE (12 classes) for a total of 24 classes.\n",
        "    \n",
        "    # Extract locations (don't lowercase doc, won't work for \"nyc\", only \"NYC\")\n",
        "    result = []\n",
        "    doc = nlp(doc) #nlp was loaded once above\n",
        "    entitities = doc.ents\n",
        "\n",
        "    if entity == 'all':\n",
        "        result = [n.text for n in entitities]\n",
        "        return result\n",
        "    else:\n",
        "        for ent in entitities:\n",
        "            if ent.type ==entity:\n",
        "                # append 'NYC'                 \n",
        "                result.append(ent.text)\n",
        "        return result\n",
        "    "
      ],
      "execution_count": null,
      "outputs": []
    },
    {
      "cell_type": "code",
      "metadata": {
        "id": "hQFHkf3Z_f2D",
        "colab_type": "code",
        "colab": {
          "base_uri": "https://localhost:8080/",
          "height": 70
        },
        "outputId": "0347085a-cbcc-4a73-b530-15d14dad53de"
      },
      "source": [
        "\n",
        "\n",
        "print(extract_entity(\"I live in Brooklyn, NYC\", entity = 'GPE'))\n",
        "print(extract_entity(\"I live in Brooklyn, Cuomo's town\", entity = 'PERSON'))\n",
        "print(extract_entity(\"I live in Brooklyn, Cuomo's town, on April 21st, 1990\", entity = 'all'))"
      ],
      "execution_count": null,
      "outputs": [
        {
          "output_type": "stream",
          "text": [
            "['Brooklyn', 'NYC']\n",
            "['Cuomo']\n",
            "['Brooklyn', 'Cuomo', 'April 21st, 1990']\n"
          ],
          "name": "stdout"
        }
      ]
    },
    {
      "cell_type": "code",
      "metadata": {
        "id": "7cMLgxoXqTQ7",
        "colab_type": "code",
        "colab": {}
      },
      "source": [
        "# Measure computation complexity\n",
        "features = ['sentiment', 'punctuation', 'liwc', 'basic_count', 'readability',  'tfidf', 'covid19', 'suicidality', 'economic_stress', 'substance_use', 'guns', 'domestic_stress']\n",
        "\n",
        "post = \"I'm feeling terrible, what do you think I should do? I think I should call someone!\"\n",
        "\n",
        "for feature in features:  \n",
        "  print('====='+feature)\n",
        "  \n",
        "  %time feature_vector = extract_NLP_features(post, [feature])\n",
        "\n"
      ],
      "execution_count": null,
      "outputs": []
    },
    {
      "cell_type": "markdown",
      "metadata": {
        "id": "OkyjXIb5pKMl",
        "colab_type": "text"
      },
      "source": [
        "# Filter Posts"
      ]
    },
    {
      "cell_type": "code",
      "metadata": {
        "id": "yuDQtuvopNTi",
        "colab_type": "code",
        "colab": {}
      },
      "source": [
        "input_dir = '/content/drive/My Drive/ML4HC_Final_Project/data/input/feature_extraction/old/'\n",
        "output_dir = '/content/drive/My Drive/ML4HC_Final_Project/data/input/feature_extraction/new/'\n",
        "files = [f for f in os.listdir(input_dir) if '.csv' in f]\n",
        "\n",
        "\n",
        "for f in files:\n",
        "  df_subreddit = pd.read_csv(os.path.join(input_dir, f))\n",
        "  #pre-process to remove duplicate posters, any bots, and posts that have the word quote\n",
        "  df_subreddit = df_subreddit.drop_duplicates(subset=\"author\")\n",
        "  df_subreddit = df_subreddit[~df_subreddit.post.str.contains('(?i)bot')]\n",
        "  df_subreddit = df_subreddit[~df_subreddit.post.str.contains('(?i)quote')]\n",
        "\n",
        "  df_subreddit.to_csv(os.path.join(output_dir, f), index=False)"
      ],
      "execution_count": null,
      "outputs": []
    }
  ]
}