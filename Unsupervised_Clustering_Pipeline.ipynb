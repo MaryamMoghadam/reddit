{
  "nbformat": 4,
  "nbformat_minor": 0,
  "metadata": {
    "kernelspec": {
      "display_name": "Python 3",
      "language": "python",
      "name": "python3"
    },
    "language_info": {
      "codemirror_mode": {
        "name": "ipython",
        "version": 3
      },
      "file_extension": ".py",
      "mimetype": "text/x-python",
      "name": "python",
      "nbconvert_exporter": "python",
      "pygments_lexer": "ipython3",
      "version": "3.7.0"
    },
    "colab": {
      "name": "Unsupervised_Clustering_Pipeline.ipynb",
      "provenance": [],
      "collapsed_sections": []
    }
  },
  "cells": [
    {
      "cell_type": "markdown",
      "metadata": {
        "id": "MWeGGsifNtxD",
        "colab_type": "text"
      },
      "source": [
        "# Unsupervised Clustering Pipeline:  COVID-19 and Mental Health\n",
        "\n",
        "We have gathered posts from a seleted set of subreddits, including several relevant to mental health.  Through supervised classification of posts to their subreddits of origin, we will identify the distinguishing characteristics of each subreddit and develop an approch to track changes over time in prediction certainty and results as the pandemic alters post content.  Through unsupervised clustering of these posts, we aim to:\n",
        "\n",
        "1. Identify natural subgroupings among the posts (e.g., do posts from subreddits related to anxiety disorders cluster separately from posts on subreddits related to mood disorders, or psychotic disorders)\n",
        "2. Track changes in representation of these natural subgroupings over the progression of the pandemic\n",
        "\n",
        "To accomplish this, we use methods to determine the appropriate cluster number and to define clusters.  Then, we select a final cluster set and identify the features most characteristic of the clusters.  Finally, use these clusters to characterize mental health subreddits in the absence of a pandemic, to investigate changes in cluster representation on mental health subreddits during the pandemic, and to characterize non-mental-health related subreddits during the pandemic (e.g., r/COVID19_support)"
      ]
    },
    {
      "cell_type": "code",
      "metadata": {
        "id": "yziv1ko8Ntxd",
        "colab_type": "code",
        "colab": {}
      },
      "source": [
        "# Import necessary packages\n",
        "import pandas as pd\n",
        "import numpy as np\n",
        "from matplotlib import pyplot as plt\n",
        "import umap\n",
        "import os\n",
        "from datetime import datetime, timedelta\n",
        "import pickle\n",
        "from sklearn.cluster import KMeans\n",
        "from sklearn import preprocessing\n",
        "from sklearn.metrics.pairwise import cosine_similarity\n",
        "from scipy.cluster.hierarchy import dendrogram, linkage"
      ],
      "execution_count": null,
      "outputs": []
    },
    {
      "cell_type": "code",
      "metadata": {
        "id": "nmxP9ssIWged",
        "colab_type": "code",
        "colab": {}
      },
      "source": [
        "import scipy.sparse"
      ],
      "execution_count": null,
      "outputs": []
    },
    {
      "cell_type": "code",
      "metadata": {
        "id": "bLeKVWl7xBaq",
        "colab_type": "code",
        "colab": {
          "base_uri": "https://localhost:8080/",
          "height": 115
        },
        "outputId": "7521e967-1bbd-4bcf-a7cf-2d921baec5e9"
      },
      "source": [
        "import gensim\n",
        "from gensim.utils import simple_preprocess\n",
        "from gensim.parsing.preprocessing import STOPWORDS\n",
        "from gensim import corpora, models\n",
        "from nltk.stem import WordNetLemmatizer, SnowballStemmer\n",
        "from nltk.stem.porter import *\n",
        "import nltk\n",
        "import seaborn as sns; sns.set()\n",
        "# import datetime\n",
        "nltk.download('wordnet')\n",
        "stemmer = SnowballStemmer(language='english')"
      ],
      "execution_count": null,
      "outputs": [
        {
          "output_type": "stream",
          "text": [
            "/usr/local/lib/python3.6/dist-packages/statsmodels/tools/_testing.py:19: FutureWarning: pandas.util.testing is deprecated. Use the functions in the public API at pandas.testing instead.\n",
            "  import pandas.util.testing as tm\n"
          ],
          "name": "stderr"
        },
        {
          "output_type": "stream",
          "text": [
            "[nltk_data] Downloading package wordnet to /root/nltk_data...\n",
            "[nltk_data]   Package wordnet is already up-to-date!\n"
          ],
          "name": "stdout"
        }
      ]
    },
    {
      "cell_type": "code",
      "metadata": {
        "id": "sFFIF-i8NtxH",
        "colab_type": "code",
        "colab": {}
      },
      "source": [
        "# Set seed for reproducibility\n",
        "np.random.seed(0) "
      ],
      "execution_count": null,
      "outputs": []
    },
    {
      "cell_type": "code",
      "metadata": {
        "id": "1HN_aCUWTkpk",
        "colab_type": "code",
        "colab": {
          "base_uri": "https://localhost:8080/",
          "height": 76
        },
        "outputId": "894f6b48-c6c5-4032-e16c-5161605515fc"
      },
      "source": [
        "# Mount GDrive and attach it to the colab for data I/O\n",
        "from google.colab import drive\n",
        "drive.mount('/content/drive')\n",
        "\n",
        "# # Open Science Framework path\n",
        "# input_dir = './data/input/'\n",
        "# output_dir = './data/output/'\n"
      ],
      "execution_count": null,
      "outputs": [
        {
          "output_type": "stream",
          "text": [
            "Drive already mounted at /content/drive; to attempt to forcibly remount, call drive.mount(\"/content/drive\", force_remount=True).\n"
          ],
          "name": "stdout"
        }
      ]
    },
    {
      "cell_type": "markdown",
      "metadata": {
        "id": "BRCEvXB_OYCw",
        "colab_type": "text"
      },
      "source": [
        "Be sure to run any cells in the final section (\"Repository of Useful Function Definitions\"), which defines useful functions for basic operations.  This section is relegated to the end of the notebook for organizational clarity.\n",
        "\n",
        "### Reload Data Objects, As Needed"
      ]
    },
    {
      "cell_type": "code",
      "metadata": {
        "id": "1nQ5B2yi8xxw",
        "colab_type": "code",
        "colab": {}
      },
      "source": [
        "# To save/restore intermediate objects. These are outputted throughout the script for you to recreate.\n",
        "embedding = pd.read_csv('/content/drive/My Drive/ML4HC_Final_Project/data/processed_tfidf_umap50k.csv')\n",
        "processed_data = pd.read_csv('/content/drive/My Drive/ML4HC_Final_Project/data/processed_posts_preTFIDF.csv')\n",
        "posts_tfidf_bow = scipy.sparse.load_npz('/content/drive/My Drive/ML4HC_Final_Project/data/processed_tfidf_sparse_matrix.npz')"
      ],
      "execution_count": null,
      "outputs": []
    },
    {
      "cell_type": "markdown",
      "metadata": {
        "id": "bwRM91jkR8s3",
        "colab_type": "text"
      },
      "source": [
        "# Import Data\n",
        "\n",
        "From all available pre-pandemic data, select only mental health subreddits.  \n",
        "\n"
      ]
    },
    {
      "cell_type": "code",
      "metadata": {
        "id": "Qts0q0N9DFAk",
        "colab_type": "code",
        "colab": {}
      },
      "source": [
        "# Select files to import\n",
        "data_folder = '/content/drive/My Drive/ML4HC_Final_Project/data/input/feature_extraction/'\n",
        "all_filenames = os.listdir(data_folder)\n",
        "\n",
        "# List candidate files to manually select mental health subreddits\n",
        "current_filenames = current_filenames = [i for i in all_filenames if \".csv\" in i]\n",
        "current_filenames = current_filenames = [i for i in current_filenames if \"_pre_\" in i]\n",
        "# print(current_filenames) \n",
        "\n",
        "mh_subreddit_filenames = ['suicidewatch_pre_features.csv',\n",
        " 'depression_pre_features.csv',\n",
        " 'ptsd_pre_features.csv',\n",
        " 'anxiety_pre_features.csv',\n",
        " 'socialanxiety_pre_features.csv',\n",
        " 'healthanxiety_pre_features.csv',\n",
        " 'bipolarreddit_pre_features.csv',\n",
        " 'mentalhealth_pre_features.csv',\n",
        " 'bpd_pre_features.csv',\n",
        " 'schizophrenia_pre_features.csv',\n",
        " 'paranoia_pre_features.csv',\n",
        " 'EDAnonymous_pre_features.csv',\n",
        " 'alcoholism_pre_features.csv',\n",
        " 'addiction_pre_features.csv',\n",
        " 'adhd_pre_features.csv',\n",
        " 'psychosis_pre_features.csv',\n",
        " 'mentalillness_pre_features.csv',\n",
        " 'autism_pre_features.csv']\n",
        "current_filenames = mh_subreddit_filenames "
      ],
      "execution_count": null,
      "outputs": []
    },
    {
      "cell_type": "code",
      "metadata": {
        "id": "0lNqk8b60Z5X",
        "colab_type": "code",
        "colab": {
          "base_uri": "https://localhost:8080/",
          "height": 891
        },
        "outputId": "cac21dab-8bb8-4469-a39d-6154bb4a690f"
      },
      "source": [
        "# Import and join files\n",
        "# Will print filenames to allow progress tracking\n",
        "reddit_data = pd.read_csv(data_folder +current_filenames[0], index_col=False)\n",
        "for i in np.arange(1, len(current_filenames)):\n",
        "  print(current_filenames[i])\n",
        "  new_data = pd.read_csv(data_folder +current_filenames[i], index_col=False)\n",
        "  reddit_data = pd.concat([reddit_data, new_data], axis=0)\n",
        "\n",
        "# Examine all columns\n",
        "reddit_data.columns"
      ],
      "execution_count": null,
      "outputs": [
        {
          "output_type": "stream",
          "text": [
            "depression_pre_features.csv\n",
            "ptsd_pre_features.csv\n",
            "anxiety_pre_features.csv\n",
            "socialanxiety_pre_features.csv\n",
            "healthanxiety_pre_features.csv\n",
            "bipolarreddit_pre_features.csv\n",
            "mentalhealth_pre_features.csv\n",
            "bpd_pre_features.csv\n",
            "schizophrenia_pre_features.csv\n",
            "paranoia_pre_features.csv\n",
            "EDAnonymous_pre_features.csv\n",
            "alcoholism_pre_features.csv\n",
            "addiction_pre_features.csv\n",
            "adhd_pre_features.csv\n",
            "psychosis_pre_features.csv\n",
            "mentalillness_pre_features.csv\n",
            "autism_pre_features.csv\n"
          ],
          "name": "stdout"
        },
        {
          "output_type": "execute_result",
          "data": {
            "text/plain": [
              "Index(['subreddit', 'author', 'date', 'post', 'automated_readability_index',\n",
              "       'coleman_liau_index', 'flesch_kincaid_grade_level',\n",
              "       'flesch_reading_ease', 'gulpease_index', 'gunning_fog_index', 'lix',\n",
              "       'smog_index', 'wiener_sachtextformel', 'n_chars', 'n_long_words',\n",
              "       'n_monosyllable_words', 'n_polysyllable_words', 'n_sents',\n",
              "       'n_syllables', 'n_unique_words', 'n_words', 'sent_neg', 'sent_neu',\n",
              "       'sent_pos', 'sent_compound', 'covid19_total', 'economic_stress_total',\n",
              "       'isolation_total', 'substance_use_total', 'guns_total',\n",
              "       'domestic_stress_total', 'suicidality_total', 'punctuation',\n",
              "       'liwc_1st_pers', 'liwc_2nd_pers', 'liwc_3rd_pers', 'liwc_achievement',\n",
              "       'liwc_adverbs', 'liwc_affective_processes', 'liwc_anger',\n",
              "       'liwc_anxiety', 'liwc_articles_article', 'liwc_assent',\n",
              "       'liwc_auxiliary_verbs', 'liwc_biological', 'liwc_body',\n",
              "       'liwc_causation', 'liwc_certainty', 'liwc_cognitive',\n",
              "       'liwc_common_verbs', 'liwc_conjunctions', 'liwc_death',\n",
              "       'liwc_discrepancy', 'liwc_exclusive', 'liwc_family', 'liwc_feel',\n",
              "       'liwc_fillers', 'liwc_friends', 'liwc_future_tense', 'liwc_health',\n",
              "       'liwc_hear', 'liwc_home', 'liwc_humans', 'liwc_impersonal_pronouns',\n",
              "       'liwc_inclusive', 'liwc_ingestion', 'liwc_inhibition', 'liwc_insight',\n",
              "       'liwc_leisure', 'liwc_money', 'liwc_motion', 'liwc_negations',\n",
              "       'liwc_negative_emotion', 'liwc_nonfluencies', 'liwc_numbers',\n",
              "       'liwc_past_tense', 'liwc_perceptual_processes',\n",
              "       'liwc_personal_pronouns', 'liwc_positive_emotion', 'liwc_prepositions',\n",
              "       'liwc_present_tense', 'liwc_quantifiers', 'liwc_relativity',\n",
              "       'liwc_religion', 'liwc_sadness', 'liwc_see', 'liwc_sexual',\n",
              "       'liwc_social_processes', 'liwc_space', 'liwc_swear_words',\n",
              "       'liwc_tentative', 'liwc_time', 'liwc_total_functional',\n",
              "       'liwc_total_pronouns', 'liwc_work'],\n",
              "      dtype='object')"
            ]
          },
          "metadata": {
            "tags": []
          },
          "execution_count": 7
        }
      ]
    },
    {
      "cell_type": "markdown",
      "metadata": {
        "id": "mJHXMBYeCAMh",
        "colab_type": "text"
      },
      "source": [
        "# Process Posts to Extract Text Features"
      ]
    },
    {
      "cell_type": "code",
      "metadata": {
        "id": "mlZSmNBiAHwz",
        "colab_type": "code",
        "colab": {}
      },
      "source": [
        "# Preprocessing matches feature development for LDA\n",
        "# Adapted from: https://towardsdatascience.com/topic-modeling-and-latent-dirichlet-allocation-in-python-9bf156893c24\n",
        "\n",
        "def lemmatize_stemming(text):\n",
        "    return stemmer.stem(WordNetLemmatizer().lemmatize(text, pos='v'))\n",
        "def preprocess(text):\n",
        "    result = []\n",
        "    for token in gensim.utils.simple_preprocess(text):\n",
        "        if token not in gensim.parsing.preprocessing.STOPWORDS and len(token) > 3:\n",
        "            result.append(lemmatize_stemming(token))\n",
        "    return result"
      ],
      "execution_count": null,
      "outputs": []
    },
    {
      "cell_type": "code",
      "metadata": {
        "id": "_D1Wnt9YBt2e",
        "colab_type": "code",
        "colab": {}
      },
      "source": [
        "processed_data = reddit_data['post'].map(preprocess)"
      ],
      "execution_count": null,
      "outputs": []
    },
    {
      "cell_type": "code",
      "metadata": {
        "id": "2A1Ui6cem5Lh",
        "colab_type": "code",
        "colab": {}
      },
      "source": [
        "# Remove posts with fewer than 20 terms after preprocessing (57950 posts removed)\n",
        "processed_lengths = list(map(lambda x: len(x),processed_data['post']))\n",
        "newly_short_posts = np.where(np.array(processed_lengths)<20)[0]\n",
        "reddit_data.index = np.arange(0,len(reddit_data))\n",
        "reddit_data.drop(list(newly_short_posts), inplace=True)"
      ],
      "execution_count": null,
      "outputs": []
    },
    {
      "cell_type": "code",
      "metadata": {
        "id": "VMTL3TDineyJ",
        "colab_type": "code",
        "colab": {
          "base_uri": "https://localhost:8080/",
          "height": 36
        },
        "outputId": "6fc5e51d-ee37-468a-a4ed-c46efb0430c3"
      },
      "source": [
        "# Drop short posts from processed data\n",
        "processed_data.index = np.arange(0,len(processed_data))\n",
        "processed_data.drop(list(newly_short_posts), inplace=True)\n",
        "processed_data.shape"
      ],
      "execution_count": null,
      "outputs": [
        {
          "output_type": "execute_result",
          "data": {
            "text/plain": [
              "(298641, 1)"
            ]
          },
          "metadata": {
            "tags": []
          },
          "execution_count": 13
        }
      ]
    },
    {
      "cell_type": "code",
      "metadata": {
        "id": "Z5HT2IgoB18e",
        "colab_type": "code",
        "colab": {}
      },
      "source": [
        "# Collapse separate terms into single string for TF-IDF\n",
        "collapsed_processed_posts = list(map(lambda x: paste(x, collapse=\" \"),processed_data))"
      ],
      "execution_count": null,
      "outputs": []
    },
    {
      "cell_type": "code",
      "metadata": {
        "id": "AE-xbK3ChaAa",
        "colab_type": "code",
        "colab": {}
      },
      "source": [
        "# Add processed data to data frame\n",
        "reddit_data['processed_post'] = collapsed_processed_posts"
      ],
      "execution_count": null,
      "outputs": []
    },
    {
      "cell_type": "code",
      "metadata": {
        "id": "pTRNhrQZZWNR",
        "colab_type": "code",
        "colab": {}
      },
      "source": [
        "# Option: To Explore BOW without TF-IDF\n",
        "from sklearn.feature_extraction.text import CountVectorizer\n",
        "vectorizer = CountVectorizer(analyzer='word', ngram_range=(1, 3), max_df = 0.75, min_df = 0.001)\n",
        "post_bow = vectorizer.fit_transform(reddit_data['processed_post'])\n",
        "print(vectorizer.get_feature_names()[0:10])\n",
        "print(len(vectorizer.get_feature_names()))"
      ],
      "execution_count": null,
      "outputs": []
    },
    {
      "cell_type": "markdown",
      "metadata": {
        "id": "6BcWHU6gBo2c",
        "colab_type": "text"
      },
      "source": [
        "# KMeans Clustering\n",
        "\n",
        "Adapted from: https://scikit-learn.org/stable/auto_examples/text/plot_document_clustering.html\n",
        "\n",
        "\n"
      ]
    },
    {
      "cell_type": "code",
      "metadata": {
        "id": "oP5O3Mc4_UHH",
        "colab_type": "code",
        "colab": {}
      },
      "source": [
        "# Import required packages\n",
        "from sklearn.feature_extraction.text import TfidfVectorizer\n",
        "from sklearn import metrics\n",
        "from sklearn.cluster import KMeans, MiniBatchKMeans"
      ],
      "execution_count": null,
      "outputs": []
    },
    {
      "cell_type": "code",
      "metadata": {
        "id": "KqkVX4OvBrtq",
        "colab_type": "code",
        "colab": {}
      },
      "source": [
        "# Develop TF-IDF features\n",
        "vectorizer = TfidfVectorizer(analyzer='word', ngram_range=(1, 3), max_df=0.75, min_df=0.001, use_idf=True)\n",
        "posts_tfidf_bow = vectorizer.fit_transform(reddit_data['processed_post'])"
      ],
      "execution_count": null,
      "outputs": []
    },
    {
      "cell_type": "code",
      "metadata": {
        "id": "hp3He_DhAFME",
        "colab_type": "code",
        "colab": {
          "base_uri": "https://localhost:8080/",
          "height": 95
        },
        "outputId": "c06822be-a499-433f-a6c5-d8b9f2cfe4a1"
      },
      "source": [
        "# Examine TF-IDF features\n",
        "print(vectorizer.get_feature_names()[0:20])\n",
        "print(len(vectorizer.get_feature_names()))"
      ],
      "execution_count": null,
      "outputs": [
        {
          "output_type": "stream",
          "text": [
            "['abandon', 'abandon issu', 'abdomen', 'abdomin', 'abi', 'abil', 'abilifi', 'abl', 'abl afford', 'abl control', 'abl enjoy', 'abl feel', 'abl focus', 'abl friend', 'abl function', 'abl handl', 'abl help', 'abl hold', 'abl live', 'abl sleep']\n",
            "10402\n"
          ],
          "name": "stdout"
        }
      ]
    },
    {
      "cell_type": "code",
      "metadata": {
        "id": "ZFSiNcZyBA2b",
        "colab_type": "code",
        "colab": {}
      },
      "source": [
        "# Test different cluster sizes\n",
        "init_vals = np.random.choice(np.arange(100), size=10, replace=False)\n",
        "silhouette_vals = []\n",
        "sse_vals = []\n",
        "for selected_k in np.array([19, 20, 21, 22, 23, 24, 25, 26, 27, 28, 29, 30, 31, 32, 33]):\n",
        "  print(\"Cluster\")\n",
        "  print(selected_k)\n",
        "  for i in np.arange(3):\n",
        "    print(\"Rep\")\n",
        "    print(i)\n",
        "    km = MiniBatchKMeans(n_clusters=selected_k, init='k-means++', n_init=1, init_size=1000, \n",
        "                     batch_size=1000, random_state = init_vals[i])\n",
        "    km.fit(posts_tfidf_bow)\n",
        "    silhouette_vals.append(metrics.silhouette_score(posts_tfidf_bow, km.labels_, sample_size=1000))\n",
        "    sse_vals.append(km.inertia_)"
      ],
      "execution_count": null,
      "outputs": []
    },
    {
      "cell_type": "code",
      "metadata": {
        "id": "sDhNMtZGD73K",
        "colab_type": "code",
        "colab": {}
      },
      "source": [
        "# Set k values to test\n",
        "n_clusters = np.repeat(np.array([19, 20, 21, 22, 23, 24, 25, 26, 27, 28, 29, 30, 31, 32, 33]), 3)"
      ],
      "execution_count": null,
      "outputs": []
    },
    {
      "cell_type": "code",
      "metadata": {
        "id": "IJqxWqJ1CxmU",
        "colab_type": "code",
        "colab": {
          "base_uri": "https://localhost:8080/",
          "height": 285
        },
        "outputId": "0009c2ce-8b1e-485c-a899-dcce64833f57"
      },
      "source": [
        "# Plot silhouette scores\n",
        "to_plot_d = {'Init_Value': np.repeat(init_vals[0:3], 15), 'Silhouette': silhouette_vals, 'Squared_Errors_Sum': sse_vals, \n",
        "             'Num_Clusters': n_clusters}\n",
        "to_plot_df = pd.DataFrame(data=to_plot_d)\n",
        "ax = sns.lineplot(x=\"Num_Clusters\", y=\"Silhouette\", data=to_plot_df)"
      ],
      "execution_count": null,
      "outputs": [
        {
          "output_type": "display_data",
          "data": {
            "image/png": "[encoded data removed]",
            "text/plain": [
              "<Figure size 432x288 with 1 Axes>"
            ]
          },
          "metadata": {
            "tags": []
          }
        }
      ]
    },
    {
      "cell_type": "code",
      "metadata": {
        "id": "EY85S6LxGTfP",
        "colab_type": "code",
        "colab": {
          "base_uri": "https://localhost:8080/",
          "height": 285
        },
        "outputId": "d8f736bb-f5a6-4c24-8aec-5098ee53fcca"
      },
      "source": [
        "# Plot Sum of Squared Errors values\n",
        "ax = sns.lineplot(x=\"Num_Clusters\", y=\"Squared_Errors_Sum\", data=to_plot_df)"
      ],
      "execution_count": null,
      "outputs": [
        {
          "output_type": "display_data",
          "data": {
            "image/png": "[encoded data removed]",
            "text/plain": [
              "<Figure size 432x288 with 1 Axes>"
            ]
          },
          "metadata": {
            "tags": []
          }
        }
      ]
    },
    {
      "cell_type": "code",
      "metadata": {
        "id": "7Qwb8ChXKoz4",
        "colab_type": "code",
        "colab": {
          "base_uri": "https://localhost:8080/",
          "height": 93
        },
        "outputId": "1c8c8120-a2bf-453b-8e0d-02840c5bc80e"
      },
      "source": [
        "# Generate clusters for a selected k\n",
        "selected_k = 22\n",
        "km = MiniBatchKMeans(n_clusters=selected_k, init='k-means++', n_init=3, init_size=1000, \n",
        "                     batch_size=1000)\n",
        "km.fit(posts_tfidf_bow)"
      ],
      "execution_count": null,
      "outputs": [
        {
          "output_type": "execute_result",
          "data": {
            "text/plain": [
              "MiniBatchKMeans(batch_size=1000, compute_labels=True, init='k-means++',\n",
              "                init_size=1000, max_iter=100, max_no_improvement=10,\n",
              "                n_clusters=22, n_init=3, random_state=None,\n",
              "                reassignment_ratio=0.01, tol=0.0, verbose=0)"
            ]
          },
          "metadata": {
            "tags": []
          },
          "execution_count": 31
        }
      ]
    },
    {
      "cell_type": "code",
      "metadata": {
        "id": "A6E1iVHWLO7S",
        "colab_type": "code",
        "colab": {
          "base_uri": "https://localhost:8080/",
          "height": 36
        },
        "outputId": "80ea4225-8c8d-4a36-93dc-7016dcf54450"
      },
      "source": [
        "print(\"Silhouette Coefficient: %0.3f\"\n",
        "      % metrics.silhouette_score(posts_tfidf_bow, km.labels_, sample_size=1000))"
      ],
      "execution_count": null,
      "outputs": [
        {
          "output_type": "stream",
          "text": [
            "Silhouette Coefficient: 0.003\n"
          ],
          "name": "stdout"
        }
      ]
    },
    {
      "cell_type": "code",
      "metadata": {
        "id": "lulVeT2aB8jM",
        "colab_type": "code",
        "colab": {
          "base_uri": "https://localhost:8080/",
          "height": 93
        },
        "outputId": "5c72f07d-05ba-4586-e620-ffca06da03f2"
      },
      "source": [
        "# Cluster \"performance\" for subreddit grouping\n",
        "print(\"Homogeneity: %0.3f\" % metrics.homogeneity_score(reddit_data['subreddit'], km.labels_))\n",
        "print(\"Completeness: %0.3f\" % metrics.completeness_score(reddit_data['subreddit'], km.labels_))\n",
        "print(\"V-measure: %0.3f\" % metrics.v_measure_score(reddit_data['subreddit'], km.labels_))\n",
        "print(\"Adjusted Rand-Index: %.3f\"\n",
        "      % metrics.adjusted_rand_score(reddit_data['subreddit'], km.labels_))"
      ],
      "execution_count": null,
      "outputs": [
        {
          "output_type": "stream",
          "text": [
            "Homogeneity: 0.177\n",
            "Completeness: 0.172\n",
            "V-measure: 0.174\n",
            "Adjusted Rand-Index: 0.055\n"
          ],
          "name": "stdout"
        }
      ]
    },
    {
      "cell_type": "code",
      "metadata": {
        "id": "NYcqXi2YuJqR",
        "colab_type": "code",
        "colab": {}
      },
      "source": [
        "# Examine representation among the cells selected for the embedding\n",
        "reddit_data.iloc[selected_cells,:]['subreddit'].value_counts()"
      ],
      "execution_count": null,
      "outputs": []
    },
    {
      "cell_type": "code",
      "metadata": {
        "id": "_2svtuKrCgmb",
        "colab_type": "code",
        "colab": {
          "base_uri": "https://localhost:8080/",
          "height": 494
        },
        "outputId": "83dd747f-ea89-43f0-be68-bf08366a7cdc"
      },
      "source": [
        "# Identify the top terms for each cluster, using the TF-IDF terms with the highest values in the centroid\n",
        "# Adapted From: https://scikit-learn.org/stable/auto_examples/text/plot_document_clustering.html\n",
        "\n",
        "print(\"Top terms per cluster:\")\n",
        "order_centroids = km.cluster_centers_.argsort()[:, ::-1]\n",
        "\n",
        "terms = vectorizer.get_feature_names()\n",
        "for i in range(selected_k):\n",
        "  print(\"Cluster %d:\" % i, end='')\n",
        "  for ind in order_centroids[i, :20]:\n",
        "    print(' %s' % terms[ind], end='')\n",
        "  print() "
      ],
      "execution_count": null,
      "outputs": [
        {
          "output_type": "stream",
          "text": [
            "Top terms per cluster:\n",
            "Cluster 0: drive anxieti driver road licens feel like time know work go think accid want home start year get thing test\n",
            "Cluster 1: adhd diagnos like medic thing think work test help time focus know diagnosi school diagnos adhd feel symptom peopl year start\n",
            "Cluster 2: mother year parent famili brother life live abus time know go want father sister like school tell help feel think\n",
            "Cluster 3: feel like feel like know want peopl think time life thing go friend talk make person year work help depress anymor\n",
            "Cluster 4: fuck want life hate shit like feel know peopl go kill think live anymor time tire friend thing love care\n",
            "Cluster 5: mental health mental health https help ill mental ill peopl disord issu know like feel want post survey need https reddit reddit anxieti\n",
            "Cluster 6: med take work take med feel like medic help start time go adhd know year effect week think need want anxieti\n",
            "Cluster 7: suicid want thought life kill suicid thought think feel know help attempt like live commit time go year commit suicid depress peopl\n",
            "Cluster 8: food eat calori bing like purg restrict feel meal want know today go fast think disord look fuck time eat disord\n",
            "Cluster 9: feel like feel like know want think time thing go life anxieti make start happen emot peopl help good get better\n",
            "Cluster 10: friend talk like want know feel peopl school think time year best friend go best tell hang life group say thing\n",
            "Cluster 11: time work go think know like help thing year want anxieti start need get week life feel sleep look tri\n",
            "Cluster 12: dont dont know know want dont want feel like think life friend peopl help anymor go time feel like talk thing year tell\n",
            "Cluster 13: want know tell like feel think say time thing love go talk life relationship year peopl help friend work start\n",
            "Cluster 14: drink alcohol sober night beer feel like time know year go want stop week start think day help problem quit\n",
            "Cluster 15: peopl social anxieti social anxieti like talk think know feel want person thing time friend help look convers life go make\n",
            "Cluster 16: medic take adderal effect doctor dose vyvans prescrib work anxieti feel experi start help like adhd week time month psychiatrist\n",
            "Cluster 17: depress feel anxieti like year help life know want time think thing work go episod depress anxieti start peopl get better\n",
            "Cluster 18: youtub video watch https https youtub youtub watch https youtub watch game youtu video game play https youtu channel youtub video like help think youtub channel watch youtub play video\n",
            "Cluster 19: weight gain lose lose weight eat bing gain weight restrict like calori pound feel bodi food want weigh know look weight gain weight loss\n",
            "Cluster 20: attack panic panic attack anxieti feel heart like go have think start anxieti attack time know breath help work happen year sleep\n",
            "Cluster 21: watch youtub video watch youtub youtub video video youtub movi lone make feel watch need hear sane feel like complet think say complet seri like complet know long work want feel hear peopl\n"
          ],
          "name": "stdout"
        }
      ]
    },
    {
      "cell_type": "markdown",
      "metadata": {
        "id": "Dx6dldPeYRFC",
        "colab_type": "text"
      },
      "source": [
        "Cluster 0: \"Bipolar/Borderline\"\n",
        "\n",
        "- disord bipolar diagnos depress diagnosi anxieti person disord bipolar disord person like know feel think mental year symptom peopl borderlin help anxieti disord\n",
        "\n",
        "Cluster 1: \"Advertisements?\"\n",
        "\n",
        "- hack servic contact issu contact devic credit card twitter spous hangout snapchat network expos credit hire instagram card facebook cheat rule special\n",
        "\n",
        "Cluster 2: \"Unknown_2\"\n",
        "\n",
        "- like think know feel time help go thing peopl look want need work start get year today say tri anxieti\n",
        "\n",
        "Cluster 3: \"ADHD\"\n",
        "\n",
        "- adhd diagnos like medic thing think help work focus time know diagnosi feel diagnos adhd test peopl symptom year med life\n",
        "\n",
        "Cluster 4: \"Unknown_2\"\n",
        "\n",
        "- feel like feel like know want think peopl time thing life go depress make talk help friend start person work year\n",
        "\n",
        "Cluster 5: \"Medication\"\n",
        "\n",
        "- medic med take effect doctor adderal dose work vyvans feel start prescrib help like experi anxieti week month time year\n",
        "\n",
        "Cluster 6: \"Sleeplessness\"\n",
        "\n",
        "- sleep night wake asleep hour fall asleep feel like fall time dream go anxieti think awak know work nightmar help want\n",
        "\n",
        "Cluster 7: \"Social Anxiety\"\n",
        "\n",
        "- social social anxieti anxieti peopl talk like feel think friend know want convers time person go thing awkward interact work start\n",
        "\n",
        "Cluster 8: \"Angry/Expletive\"\n",
        "\n",
        "- fuck want shit like life feel know peopl go think kill hate time fuck fuck live anymor friend thing tell year\n",
        "\n",
        "Cluster 9: \"EatingHabits_1\"\n",
        "\n",
        "- eat bing calori restrict eat disord like disord feel weight food purg fast know want go fuck think week today meal\n",
        "\n",
        "Cluster 10: \"SubstanceUse/Alcohol\"\n",
        "\n",
        "- drink alcohol sober night beer know feel time year like go want stop week start think help day quit problem\n",
        "\n",
        "Cluster 11: \"PolarizedEmotions_?\"\n",
        "\n",
        "- hate want feel like peopl life know hate hate fuck think love wish live friend time go thing feel like hate life kill\n",
        "\n",
        "Cluster 12: \"WeightChange\"\n",
        "\n",
        "- weight gain lose weight lose gain weight eat like pound bodi look feel weigh want restrict weight loss know bing weight gain loss calori\n",
        "\n",
        "Cluster 13: \"School\"\n",
        "\n",
        "- school work class year time like go feel know colleg start want think high high school grade life thing week need\n",
        "\n",
        "Cluster 14: \"Relationships\"\n",
        "\n",
        "- emot feel like know thing peopl think want time relationship abus life feel like person love help depress control go year\n",
        "\n",
        "Cluster 15: \"Resources\"\n",
        "\n",
        "- https mental mental health health help peopl ill mental ill youtub issu https youtub reddit https reddit post survey https youtub watch youtub watch like depress feel\n",
        "\n",
        "Cluster 16: \"EatingHabits_2\"\n",
        "\n",
        "- food purg eat bing like calori meal feel want know go restrict time think fast fuck today dinner hungri safe food\n",
        "\n",
        "Cluster 17: \"Friends/Support\"\n",
        "\n",
        "- friend talk like know feel want peopl best friend best tell think time go year say hang thing person life group\n",
        "\n",
        "Cluster 18: \"PanicAttacks\"\n",
        "\n",
        "- anxieti attack panic panic attack feel heart like go start think have pain symptom know time breath help chest doctor year\n",
        "\n",
        "Cluster 19: \"Philosophical_?\"\n",
        "\n",
        "- want know life think feel like time tell go thing year love peopl live help say suicid depress talk friend\n",
        "\n",
        "Cluster 20: \"Exhaustion\"\n",
        "\n",
        "- tire feel want life like know anymor time live tire tire think peopl go tri fuck depress tire feel work feel like better\n",
        "\n",
        "Cluster 21: \"WaterConsumption\"\n",
        "\n",
        "- water drink drink water like feel eat go know time fast today day food think bottl shower hour help work take"
      ]
    },
    {
      "cell_type": "code",
      "metadata": {
        "id": "XmNKki2vayVk",
        "colab_type": "code",
        "colab": {}
      },
      "source": [
        "# Define cluster annotations based on results above\n",
        "cluster_annotations = [\"Bipolar/Borderline\", \"Advertisements?\",\"Unknown_1\", \"ADHD\",\"Unknown_2\", \n",
        "                       \"Medication\", \"Sleeplessness\", \"Social Anxiety\", \"Angry/Expletive\", \"EatingHabits_1\",\n",
        "                       \"SubstanceUse/Alcohol\", \"PolarizedEmotions_?\", \"WeightChange\", \"School\", \"Relationships\", \n",
        "                       \"Resources\", \"EatingHabits_2\", \"Friends/Support\", \"PanicAttacks\", \"Philosophical_?\",\n",
        "                       \"Exhaustion\", \"WaterConsumption\"]"
      ],
      "execution_count": null,
      "outputs": []
    },
    {
      "cell_type": "code",
      "metadata": {
        "id": "YV9vM90b3Z7o",
        "colab_type": "code",
        "colab": {
          "base_uri": "https://localhost:8080/",
          "height": 435
        },
        "outputId": "e5d6d364-289a-4691-8530-e06af8443b63"
      },
      "source": [
        "# Store cluster numbers and annotations \n",
        "reddit_data['cluster_number'] = km.labels_\n",
        "\n",
        "reddit_data.index = np.arange(len(reddit_data))\n",
        "reddit_data['cluster_annotations'] = np.ones(len(reddit_data))\n",
        "for i in np.arange(22):\n",
        "  selected_rows = np.where(reddit_data['cluster_number']==i)[0]\n",
        "  reddit_data.loc[selected_rows,'cluster_annotations'] = np.repeat([cluster_annotations[i]], len(selected_rows))\n",
        "\n",
        "reddit_data['cluster_annotations'].value_counts()"
      ],
      "execution_count": null,
      "outputs": [
        {
          "output_type": "execute_result",
          "data": {
            "text/plain": [
              "PolarizedEmotions_?     57396\n",
              "EatingHabits_1          24698\n",
              "School                  20683\n",
              "Unknown_2               18151\n",
              "Resources               16274\n",
              "ADHD                    12646\n",
              "SubstanceUse/Alcohol    11157\n",
              "Angry/Expletive          9296\n",
              "EatingHabits_2           8533\n",
              "Friends/Support          8325\n",
              "Exhaustion               8273\n",
              "Social Anxiety           7730\n",
              "Medication               7562\n",
              "Advertisements?          7046\n",
              "Philosophical_?          5543\n",
              "Relationships            5344\n",
              "WeightChange             5199\n",
              "Sleeplessness            4221\n",
              "PanicAttacks             1366\n",
              "Bipolar/Borderline       1248\n",
              "WaterConsumption            1\n",
              "Name: cluster_annotations, dtype: int64"
            ]
          },
          "metadata": {
            "tags": []
          },
          "execution_count": 77
        }
      ]
    },
    {
      "cell_type": "code",
      "metadata": {
        "id": "_Q1T3QYr4VQL",
        "colab_type": "code",
        "colab": {
          "base_uri": "https://localhost:8080/",
          "height": 247
        },
        "outputId": "3689d33c-f5f6-4786-b572-97b72e38e777"
      },
      "source": [
        "# For manual examination of posts in a selected cluster\n",
        "list(reddit_data.iloc[np.where(reddit_data['cluster_annotations']==\"School\")[0], :]['post'][0:10])"
      ],
      "execution_count": null,
      "outputs": [
        {
          "output_type": "execute_result",
          "data": {
            "text/plain": [
              "['I’ve been slowly turning to the dark side. Jokes aside, (considering I believe humor is amazing at hiding my feelings), I have been slowly wishing death upon myself. I’ve pretty much started being open to the idea and now I’m thinking it’s a good idea. I don’t even feel very depressed, just empty.\\n\\nStory:\\nSo I fell in love with someone, lets just say, somewhat unavailable who was older than I. Shut down and broke my humungous amount of confidence. I still believe after evaluating that she’s an amazing person whome I don’t feel good enough for. I tried, but could not be friends and failed that friendship with her. Being in love with her was the first time in awhile I was happy and didn’t think about suicide. However, after things didn’t work out, I changed my life to something fantasitc and I really enjoy it. I’m going to college almost full time, I work a full time job, and I volunteer at a hospital. I plan on getting a DO/Phd so I can be a neurologust or family doctor. I’ve met amazing women and friends, etc. unfortunatly, my heart just isn’t one to let go or open up easy. No matter how well my life is doing or how many good habits I develop, I feel like I’m losing. I feel confident and I feel acomplished. I’m also in the best shape of my life, however, what I am doing for myself has not felt better than the time I had with this person yet. I’m struggling being human and having terrible failures. Maybe it’s because I try to avoid them and don’t want them, even while knowing and understanding their worth. I also invest in reading books for positive thinking and emotional intelligence. Super interesting.\\n\\nHelp? Heh This has been a process for a few months. Just feel down more than i think I should. I’ve had a few emotional breakdowns.',\n",
              " 'I\\'m a terrible wife, a nasty person and it makes me want to die I\\'m not exaggerating. I\\'m selfish. I don\\'t like to clean, and do the responsible thing. I don\\'t like adulting at all. All I want to do is be on my phone, browsing Reddit, and read books. If I posted on /r/raisedbynarcissits, I would be writing nMe in the title and body. I do love some people in my life and care about them. But when it comes to priorities, I pick myself over most almost every time. I expect others to clean after myself, and don\\'t really help with the cleaning unless asked/demanded--like parenting me as a child by my own husband.\\n\\nSo, like I said, I\\'m a terrible, nasty person, and I\\'m extremely picky about food in general. I don\\'t get overly upset but it does bug me a lot. For example, my MIL picked up 3 gallons of milk for me off WIC--and they were skim milk and I cannot stand it. I want to exchange them for 1% (only allowed fatfree or 1% at this time). \\n\\nMy husband is totally blind, has PTSD, has prosthetic bone in his leg, was shot in the head and had his forhead replaced with a titanium covering half his face. He\\'s on his hands and knees cleaning and parenting and working so hard. Yet here I sit. He doesn\\'t want me clean a whole lot because he wants me to rest after work. he\\'s the stay at home dad, I\\'m the breadwinner.\\n\\nI\"m due to give birth any day, and we have a sweet 3 year old. I play with her, teach her, give her treats; I enjoy seeing her happy. But most days, I just want to be left alone with my phone and be a lazy ass.\\n\\nI\\'m posting here because this personality pattern of mine isn\\'t new, it\\'s on-going my whole life. I absolutely detest doing things like chores and doing responsible adult stuff like calling companies to take care of things. Insurance? Doctors? Phone? utilities? Rent? You name it, I try to shove it all on my husband. I hate talking to customer service in general and I use my being partially deaf as an excuse though I can understand some reps perfectly fine if they don\\'t have the ruddy accent. He knows that too and kind of minds it because he wants me to stand up for myself, but I don\\'t want to. It\\'s too much effort.\\n\\nI\\'m posting here because I make everyone feel horrible because of the way I treat them. My husband and his parents are so supportive yet they are hurting by my thankless personality. I try to show appreciation but I don\\'t want to come off cheesy. I don\\'t know how to show appreciation. I AM thankful on the inside, I AM. But this thankful part of me doesn\\'t come out right. I don\\'t know what else to do except to say thank you and I try to measure my voice in just the right way to show that yes I\\'m thankful. But hubby says I\\'m not showing ANY appreciation at all. I rarely take initiative, and when I DO / about to take initiative, he does the task. Like doing dishes. I just feel helpless and I remain on my butt even more.\\n\\nI also snap a lot at him while he\\'s working hard to do things for our family. I\\'ve tried to soften up. I\\'ve tried every which way so I don\\'t snap and make him feel bad. This unchanging personality of mine just makes me want to die. I\\'m planning to figure out a way to leave this planet in a non-suicidal way I can once I give birth.  He will be okay financially. He will do great as a single parent dad. My daughters will be ok. I rather they grow up not being around my narcisstic ways. When I was working in the office, daddy and daughter had a great routine. She listened to him, ate all her meals, etc. But now that I\\'m working from home every day, waiting to give birth... she\\'s gotten worse, according to him. She doesn\\'t listen to him, doesn\\'t eat well... I try to discipline her and she starts whining/cry and I relent. Though I\\'ve firmed up lately but that\\'s one of the examples. \\n\\nI just don\\'t want to expose my daughters to my terrible ways and make life a living hell for their dad and become self-entitled and copy me. I don\\'t want that. So, I prefer to die so it doesn\\'t happen. You know what they say... children become like their parents when they grow up. My mom is sort of narcisst but enjoys heling and serving people, but I mainly take after my dad--he values his own time above nearly everything else. \\n\\nAnyway, that\\'s that. I want to die and I\\'m thinking of ways to die. I\\'m partially blind, so getting hit by a car might work... but I don\\'t want to put that on a random driver since I\\'ve read some posts on reddit on how that messes up the driver. So I guess I can hope to accidentally get hit by one, one day. There\\'s been a lot of close calls...',\n",
              " 'I think this week is the week I check out of the life motel for good Been struggling for years, slowly getting more and more depressed after my mom passed a couple years ago. I have 3 job interviews this week and will not be able to get to any of them as I don’t have a dime to my name and have 10 miles left in my gas tank. At least I have an suv so when I sleep in here it’s not all that bad. I have tried to get a loan or advance from multiple places, turned away by all. I don’t see the point in going forward with this shit life I have. Whole family thinks I’m a disappointment, and at this point I agree. Will sit around and plot how to get this done today. I don’t want to die I just don’t want to exist anymore I am tired of the daily pain I put myself through with these struggles. It’s my fault too, there’s no one I can place the blame on. I know my family will be sad but if they knew how I felt on a daily basis maybe they would have a little sympathy for my choice. Thanks for reading I just wanted to tell someone. ',\n",
              " \"Every Waking Moment I don't know whether this is proper protocol. I'm new to Reddit and don't really know my way around, so if there's a set of rules I've missed and I've broken one, I apologise.\\n\\nBut since I've waded in and started replying I thought it'd be polite to introduce myself. Hi, I'm Strix. I'm a woman in my mid-forties living in the UK, and I've been experiencing suicidal ideation for about a year now, having lived with depression for probably 3/4 of my life. Over the last few months particularly the thoughts have become much more pronounced, to the point where they're now shading every waking moment. What was an idle notion became an expectation without any particular intent, and in the last few weeks has solidified into what I can only describe as a desire.\\n\\nI don't know what's causing it. I've been very lucky in life. I have a stable job, I've experienced no abuse or violence in my life, I've had no traumatic events that I recall. I'm married and I love my wife very much and I'm very lucky to be loved by her. I have no kids. I have a dear, if a little distant, extended family, and no particular money concerns beyond the usual for a getting-by household.\\n\\nSo where this comes from is a total mystery. How it's got to this stage I just don't know. I've been fairly open about it, I think - I made the decision to tell my wife because I tried to balance whether she'd be better off not knowing, or not being taken completely by surprise if anything happened. I'm still not sure I did the right thing but I know why I did it. She's been very supportive; my employers are also aware and have made adjustments for me. I've seen doctors and counsellors.\\n\\nI have literally nothing to complain about. I just have this compulsion. This expectation. And most recently, this developing intention.\\n\\nI keep asking myself if it's real. If I'm sure I'm really feeling what I think I am, or if I'm just fishing for attention. After all, I talk about it freely in real life, but I still come to a group like this. What am I looking for? Practical advice? I think I'm doing everything practical advice would probably suggest. But still, now I find I have a timescale in mind (months away yet: too many yearly events coming up soon that I don't want to taint for people); I have ideas on method. I'm looking around for suitable places. But I've never attempted anything yet. Too frightened. Still frightened. So I don't know. Is it even real? Or am I just in a mood? When the time comes will I still want to do it?\\n\\nFor now I don't seem to be able to think of anything else. It feels scary, a little bleak - and guilty, too, I don't mind admitting it. But along with all that there's something else. Something like... anticipation? The thought of fulfilling something.\\n\\nIt's weird.\\n\\nBut for the time being, while I'm here, I hope nobody minds if I pop into this group (is that what it's called? A group? A sub? Haven't learned the lingo yet.) occasionally, and I'd ask you to let me know if I do anything wrong - including this post.\\n\\nThanks for reading my wall of text. 🙂\",\n",
              " \"I don't want to fail anymore These past two years have been really bad for me. I've been trying my best to change my life so that I can actually be happy with who I am instead of just going through a daily routine of loneliness and anger and, more than anything else, sadness. I'm open with the people around me about how I feel, but it seems like people don't really care about me, they just want it to look like they do. I've realized that I dont have any real friends, just people that I see regularly. I used to think that that was enough, but recently I've seen what actual friendships look like and have come to the conclusion that I have never actually had relationships with anyone; I've literally always just been an acquaintance to others. So, this year in particular, I put a lot of effort into trying to build stronger relationships with some of the people in my life. It didn't work. Even though I am pretty personable and at times could even call myself charming, I can't make lasting connections with anyone. I have a good time with someone and it looks to me like they did too, so I ask if they want to hangout again sometime soon. They say yeah, but when I actually try to see them again or set up concrete plans, they always bail. I'm tired of getting my hopes up and having them dashed. Its literally always the same thing. I work up the courage to do something that I'm afraid to do and it ends up exactly as I was afraid it would. I took the chance to ask a girl out that I really like a couple weeks ago and she said no. I did not feel any better after asking her; in fact, I felt way worse than if I had never said anything at all. I raise my hand in class to answer a question, but of course I get it wrong everytime. I don't feel better because I put myself out there, I feel like shit and stupid because I keep to doing it to myself. Tonight, I auditioned for a musical and even though I practiced really hard for such a long time leading up to it and was really happy with how I sounding going in, I was a complete trainwreck on stage and embarrassed myself in front of so many people. I don't want to take any more chances. I never succeed. I don't want to fail anymore, and it seems like all I have to look forward to is more of the same.\",\n",
              " 'Depression can really exacerbate lonliness. Not sure where to start. I\\'ve been battling depression for a while now.\\nA few months ago I had a girl I was planning to marry. I made some major life changes for her.  And then I realized how miserable I was and asked her to help make some changes in our life... When she refused I felt I needed to end things (she had been threatening it because she didn\\'t want change.)\\n\\nSince, I\\'ve started seeing a counselor to help with the break up.  I\\'ve come to the conclusion that before I was depressed and I let a negative self image and lack of confidence effect our relationship.  \\n\\nAnyways, line I said I finally was able to realize how unhappy I was; But I failed to realize how much worse it would be without my best friend...\\n\\nI\\'m in this town where I don\\'t know many people.  At this job I can barely tolerate some days.  Coming home to this house we picked out together, getting sad everytime I realize she or the pets won\\'t be there to greet me as t the door.\\n\\nShe made an attempt to apologize and \"win me back\" it was a grand gesture she told me about through text, because I was emotional and too chicken shit to leave work and talk to her Omce I realized what she was doing. She showed she had been listening... And had 180\\'ed. She was offering to work on everything...\\n\\n\\nI went through a month of just working and sitting alone in the house, wondering if I had fucked up.  I started seeing that councelor. I downloaded a dating app (and ended up bringing a girl home a few times hoping she would help fill the hole I feel in me). It didn\\'t work and honestly felt like I widened the gap between me and my ex.\\n\\nI miss her so much. Everything seems worse without her. I don\\'t have the energy to actually accomplish much at work. I\\'ve tried to work out but find myself utterly incapable.  I don\\'t feel like socializing, trying to date someone new, or hang out with friends (and subsequently their spouses and kids).',\n",
              " \"If I don't get at least a Bachelor's I'm probably just going to kill myself I know trades are available, but I'm more or less worthless when it comes to handiwork, I have been my whole life and I carried that into adulthood. I was anorexic as a teen so I'm a weak person with low stamina, so physical work is going to wear me out like crazy, assuming someone would hire my skinny ass to do anything remotely physical. I can't join the military because of said anorexia, and now I'm starting to skip classes because I can't stand the thought of sitting in a class I hate surrounded by people I don't know and don't care to know. I hate knowing that I'm seemingly incapable of applying myself, which is just me justifying being a lazy good-for-nothing that pretends that he knows what he's doing so his parents won't kick him out. I'm  dropping CS as my major soon and I really hope whatever I pick actually works out, and that the classes don't feel like pulling teeth with how uninteresting they are. If this doesn't work out, I legitimately think suicide is the preferred option. It saves everyone the headache of having to deal with my sorry ass for the rest of my life in exchange for temporary heartache, and I know they'll get over it, they always do. I don't want to be stuck working shitty jobs and being embarrassed that I couldn't even be bothered to study and live a good life. I know I'll regret everything and the hatred I already feel towards myself will be magnified beyond anything I want to even imagine. \",\n",
              " \"My death note  My pain is mine alone. I want to die simple as that. Life makes no sense. I want to live a life worth living, a life where I win, a life where I don’t feel pain. I don’t see the point in living at the bottom of the barrell where you will be stuck forever. When I try to climb to the top I get sucked back down. I need help. I want help. I’ve tried so hard and nobody has listened to my cries. I begged people to take me to the doctor. I understand my brain isn’t that of a normal persons. I only want to feel normal instead all I feel is nothing. I’m living outside of my body only 4 people tried to reel me back in. Only 4 people my entire life have tried to help. The way everything is going will just lead to my inevitable death. It’s fine though I have nothing left anyway, no one who cares no one who wants me. Maybe after my death people's perceptions will change. I want to make the world a better place. I need to win in order to achieve my goals and in the end I’m only losing. I’m a loser who should not be granted life. I’m a loser who should only be granted death. As for people who tried to help, thank you I guess. Thank you for being kind humans who care. Thank you for accepting me and being my friends to the bitter end. I want wish you guys the best lives. I hope my death doesn’t hurt just know it’s for the best.   \\n \",\n",
              " \"How do I want help? I have always wanted to passively die.  Today, I want to actively die.\\n\\nI don't know what to hold onto to get me past today.  The wanting to die is such a predominant part of my mindset that it seems like the only solution.\\n\\nI keep trying to think of signs that i want to continue living, but every time I come up with one (ex: if you wanted to die, you wouldn't have bought so many things or made plans with somebody, yada yada), I realize it really does not matter to me.  I'm fine if I never see those things arrive.  I'm fine if I never attend those events.\\n\\nI'm fine not existing.  I'm thinking of one person I could call right now and not be an inconvenience.  Unfortunately, that's a grand sum of zero.  The only person I want to talk to right now, my grandfather, can't hear and is 8000 miles away.  \\n\\nI wanted to visit him one last time before he died, and it's a thin thread because the thought of him knowing I'm waiting for him when he passes away is very comforting.\",\n",
              " \"Someone needs to explain to me right now what the point of living is. Its constant stress. I spend most of my waking hours getting ready for work, working, getting home from work. I could change it but where do I find the time and resources to go back to school? And what career do I even get into? Ive already tried with programming and Im incapable of that. And that sort of thing is what I wanted to do. I realize now that I really am too stupid to do the things I wanted to do. And I mean past tense. I'm well past the point of enjoying things anymore. Also ,most people are very frustrating to deal with. I get mad very easily with people and I usually just embarass myself. I deleted my old account out of embarrassment. I can't help it. I get so mad I just want to punch things and call People names. I hate people. I don't even get taken seriously when I stand up for myself. I wanted to fit in but I just get made fun of or taken advantage of. I try being more assertive, I get angry, nothing works. No one takes me seriously and everyone always treats me like Im stupid so I guess I must be. I'm in pain all the time. I don't have any faith that a therapist will help. I have no reason to believe they would. I just don't want to be here anymore. I'm tired. I hate it here. \"]"
            ]
          },
          "metadata": {
            "tags": []
          },
          "execution_count": 87
        }
      ]
    },
    {
      "cell_type": "code",
      "metadata": {
        "id": "kEDGGGZ7bSKu",
        "colab_type": "code",
        "colab": {
          "base_uri": "https://localhost:8080/",
          "height": 378
        },
        "outputId": "ba859724-1673-4cba-ff2e-1251bc428ab7"
      },
      "source": [
        "# Examine Subreddit Representation by Cluster\n",
        "reddit_data.iloc[np.where(km.labels_==0)[0],:]['subreddit'].value_counts()"
      ],
      "execution_count": null,
      "outputs": [
        {
          "output_type": "execute_result",
          "data": {
            "text/plain": [
              "mentalhealth     1055\n",
              "bpd              1037\n",
              "bipolarreddit     891\n",
              "schizophrenia     394\n",
              "mentalillness     264\n",
              "autism            220\n",
              "anxiety           214\n",
              "ptsd              200\n",
              "depression        168\n",
              "adhd              151\n",
              "suicidewatch      114\n",
              "EDAnonymous       102\n",
              "psychosis          49\n",
              "socialanxiety      47\n",
              "addiction          38\n",
              "healthanxiety      26\n",
              "alcoholism          7\n",
              "paranoia            2\n",
              "Name: subreddit, dtype: int64"
            ]
          },
          "metadata": {
            "tags": []
          },
          "execution_count": 114
        }
      ]
    },
    {
      "cell_type": "markdown",
      "metadata": {
        "id": "aLQN9C2wbwY0",
        "colab_type": "text"
      },
      "source": [
        "### Test statistical associations\n",
        "The hypergeometric distribution models drawing objects from a bin. M is the total number of objects, n is total number of Type I objects. The random variate represents the number of Type I objects in N drawn without replacement from the total population."
      ]
    },
    {
      "cell_type": "code",
      "metadata": {
        "id": "UoepyvIr6ZDZ",
        "colab_type": "code",
        "colab": {}
      },
      "source": [
        "from scipy.stats import hypergeom"
      ],
      "execution_count": null,
      "outputs": []
    },
    {
      "cell_type": "code",
      "metadata": {
        "id": "6A6jEK3i6dEi",
        "colab_type": "code",
        "colab": {
          "base_uri": "https://localhost:8080/",
          "height": 1000
        },
        "outputId": "d8814a1f-adb3-4cee-8670-8d79040a5ca8"
      },
      "source": [
        "### Hypergeometric Test for cluster representation in subreddits\n",
        "\n",
        "n_tests = len(np.unique(reddit_data['subreddit']))*len(np.unique(reddit_data['cluster_annotations']))\n",
        "bonf_thresh = 0.05/n_tests\n",
        "print(\"Bonferroni threshold is \", bonf_thresh)\n",
        "n_sig_enrichments = 0\n",
        "\n",
        "for sub in np.unique(reddit_data['subreddit']):\n",
        "  for clust in np.unique(reddit_data['cluster_annotations']):\n",
        "\n",
        "    #M is the population size (previously N):  all posts on all subs\n",
        "    M = len(reddit_data)\n",
        "\n",
        "    # n is the number of successes in the population (previously K)\n",
        "    n= len(np.where(reddit_data['cluster_annotations']==clust)[0])\n",
        "\n",
        "    # N is the sample size (previously n):  all post in this subreddit\n",
        "    N = len(np.where(reddit_data['subreddit']==sub)[0])\n",
        "\n",
        "    # X is the number of drawn “successes”:  posts in this sub from the candidate cluster\n",
        "    x = len(np.intersect1d(np.where(reddit_data['subreddit']==sub)[0], \n",
        "                       np.where(reddit_data['cluster_annotations']==clust)[0]))\n",
        "    \n",
        "    p_val = hypergeom.sf(x-1, M, n, N)\n",
        "    #if p_val < 0.05:\n",
        "    #  print(\"Nominal\", sub, \" \", clust)\n",
        "    if p_val < bonf_thresh:\n",
        "      print(\"MHT significant: \", sub, \" \", clust)\n",
        "      n_sig_enrichments += 1\n",
        "\n",
        "print(\"Total Significant Enrichments: \", n_sig_enrichments)"
      ],
      "execution_count": null,
      "outputs": [
        {
          "output_type": "stream",
          "text": [
            "Bonferroni threshold is  0.00013227513227513228\n",
            "MHT significant:  EDAnonymous   Angry/Expletive\n",
            "MHT significant:  EDAnonymous   Philosophical_?\n",
            "MHT significant:  addiction   PanicAttacks\n",
            "MHT significant:  addiction   PolarizedEmotions_?\n",
            "MHT significant:  addiction   Relationships\n",
            "MHT significant:  addiction   Unknown_2\n",
            "MHT significant:  adhd   Advertisements?\n",
            "MHT significant:  adhd   EatingHabits_2\n",
            "MHT significant:  adhd   PanicAttacks\n",
            "MHT significant:  adhd   PolarizedEmotions_?\n",
            "MHT significant:  adhd   Sleeplessness\n",
            "MHT significant:  alcoholism   Relationships\n",
            "MHT significant:  anxiety   Bipolar/Borderline\n",
            "MHT significant:  anxiety   EatingHabits_1\n",
            "MHT significant:  anxiety   EatingHabits_2\n",
            "MHT significant:  anxiety   Exhaustion\n",
            "MHT significant:  anxiety   PolarizedEmotions_?\n",
            "MHT significant:  anxiety   Resources\n",
            "MHT significant:  autism   Medication\n",
            "MHT significant:  autism   PanicAttacks\n",
            "MHT significant:  autism   PolarizedEmotions_?\n",
            "MHT significant:  autism   Resources\n",
            "MHT significant:  bipolarreddit   EatingHabits_2\n",
            "MHT significant:  bipolarreddit   Friends/Support\n",
            "MHT significant:  bipolarreddit   Medication\n",
            "MHT significant:  bipolarreddit   PolarizedEmotions_?\n",
            "MHT significant:  bipolarreddit   Sleeplessness\n",
            "MHT significant:  bpd   ADHD\n",
            "MHT significant:  bpd   EatingHabits_1\n",
            "MHT significant:  bpd   School\n",
            "MHT significant:  bpd   SubstanceUse/Alcohol\n",
            "MHT significant:  bpd   Unknown_2\n",
            "MHT significant:  depression   ADHD\n",
            "MHT significant:  depression   EatingHabits_1\n",
            "MHT significant:  depression   Friends/Support\n",
            "MHT significant:  depression   School\n",
            "MHT significant:  depression   Social Anxiety\n",
            "MHT significant:  depression   SubstanceUse/Alcohol\n",
            "MHT significant:  depression   Unknown_2\n",
            "MHT significant:  depression   WeightChange\n",
            "MHT significant:  healthanxiety   EatingHabits_1\n",
            "MHT significant:  healthanxiety   Exhaustion\n",
            "MHT significant:  healthanxiety   PolarizedEmotions_?\n",
            "MHT significant:  mentalhealth   ADHD\n",
            "MHT significant:  mentalhealth   EatingHabits_1\n",
            "MHT significant:  mentalhealth   Friends/Support\n",
            "MHT significant:  mentalhealth   Medication\n",
            "MHT significant:  mentalhealth   PanicAttacks\n",
            "MHT significant:  mentalhealth   School\n",
            "MHT significant:  mentalhealth   Social Anxiety\n",
            "MHT significant:  mentalhealth   Unknown_2\n",
            "MHT significant:  mentalhealth   WeightChange\n",
            "MHT significant:  mentalillness   ADHD\n",
            "MHT significant:  mentalillness   Friends/Support\n",
            "MHT significant:  mentalillness   Medication\n",
            "MHT significant:  mentalillness   School\n",
            "MHT significant:  mentalillness   WeightChange\n",
            "MHT significant:  paranoia   PolarizedEmotions_?\n",
            "MHT significant:  psychosis   PolarizedEmotions_?\n",
            "MHT significant:  psychosis   Sleeplessness\n",
            "MHT significant:  ptsd   Bipolar/Borderline\n",
            "MHT significant:  ptsd   EatingHabits_1\n",
            "MHT significant:  ptsd   Exhaustion\n",
            "MHT significant:  ptsd   PolarizedEmotions_?\n",
            "MHT significant:  ptsd   School\n",
            "MHT significant:  ptsd   Unknown_2\n",
            "MHT significant:  schizophrenia   Medication\n",
            "MHT significant:  schizophrenia   PanicAttacks\n",
            "MHT significant:  schizophrenia   PolarizedEmotions_?\n",
            "MHT significant:  schizophrenia   Sleeplessness\n",
            "MHT significant:  socialanxiety   Resources\n",
            "MHT significant:  socialanxiety   SubstanceUse/Alcohol\n",
            "MHT significant:  suicidewatch   School\n",
            "MHT significant:  suicidewatch   Social Anxiety\n",
            "MHT significant:  suicidewatch   SubstanceUse/Alcohol\n",
            "MHT significant:  suicidewatch   Unknown_2\n",
            "MHT significant:  suicidewatch   WeightChange\n"
          ],
          "name": "stdout"
        }
      ]
    },
    {
      "cell_type": "code",
      "metadata": {
        "id": "mnYH5XxSADmN",
        "colab_type": "code",
        "colab": {
          "base_uri": "https://localhost:8080/",
          "height": 36
        },
        "outputId": "a1c4dc6f-5b0f-4487-d094-01adebae6169"
      },
      "source": [
        "# Number of significant enrichments\n",
        "n_sig_enrichments"
      ],
      "execution_count": null,
      "outputs": [
        {
          "output_type": "execute_result",
          "data": {
            "text/plain": [
              "77"
            ]
          },
          "metadata": {
            "tags": []
          },
          "execution_count": 107
        }
      ]
    },
    {
      "cell_type": "code",
      "metadata": {
        "id": "iXxgfaQVA2Nb",
        "colab_type": "code",
        "colab": {
          "base_uri": "https://localhost:8080/",
          "height": 681
        },
        "outputId": "7cbe774b-1808-4d5b-eecc-41fb2bd8ad9a"
      },
      "source": [
        "# Show Representation of Topic Across Multiple Subreddits\n",
        "\n",
        "# Select example subreddit \n",
        "cluster_label = \"SubstanceUse/Alcohol\"\n",
        "\n",
        "# Plot representation\n",
        "counts = reddit_data.iloc[np.where(reddit_data['cluster_annotations']==cluster_label)[0],:]['subreddit'].value_counts()\n",
        "counts\n",
        "to_plot_df = pd.DataFrame({\"Number of Posts in Cluster\": counts, \"Subreddit\": counts.index})\n",
        "sns.set(style=\"whitegrid\")\n",
        "ax = sns.barplot(x=\"Subreddit\", y=\"Number of Posts in Cluster\", data=to_plot_df)\n",
        "ax.set_xticklabels(\n",
        "    ax.get_xticklabels(), \n",
        "    rotation=45, \n",
        "    horizontalalignment='right',\n",
        "    fontweight='light',\n",
        "    #fontsize='x-large'\n",
        ")"
      ],
      "execution_count": null,
      "outputs": [
        {
          "output_type": "execute_result",
          "data": {
            "text/plain": [
              "[Text(0, 0, 'socialanxiety'),\n",
              " Text(0, 0, 'depression'),\n",
              " Text(0, 0, 'bpd'),\n",
              " Text(0, 0, 'mentalhealth'),\n",
              " Text(0, 0, 'suicidewatch'),\n",
              " Text(0, 0, 'anxiety'),\n",
              " Text(0, 0, 'EDAnonymous'),\n",
              " Text(0, 0, 'autism'),\n",
              " Text(0, 0, 'adhd'),\n",
              " Text(0, 0, 'ptsd'),\n",
              " Text(0, 0, 'schizophrenia'),\n",
              " Text(0, 0, 'addiction'),\n",
              " Text(0, 0, 'mentalillness'),\n",
              " Text(0, 0, 'bipolarreddit'),\n",
              " Text(0, 0, 'alcoholism'),\n",
              " Text(0, 0, 'psychosis'),\n",
              " Text(0, 0, 'healthanxiety'),\n",
              " Text(0, 0, 'paranoia')]"
            ]
          },
          "metadata": {
            "tags": []
          },
          "execution_count": 134
        },
        {
          "output_type": "display_data",
          "data": {
            "image/png": "[encoded data removed]",
            "text/plain": [
              "<Figure size 432x288 with 1 Axes>"
            ]
          },
          "metadata": {
            "tags": []
          }
        }
      ]
    },
    {
      "cell_type": "code",
      "metadata": {
        "id": "mx1R2ONa9IYA",
        "colab_type": "code",
        "colab": {
          "base_uri": "https://localhost:8080/",
          "height": 397
        },
        "outputId": "cac91a8e-0ef7-47d9-df5f-75e5aa7fe9d8"
      },
      "source": [
        "# Examine alcohol cluster on alcoholism subreddit\n",
        "# Sixth most common, first most common is Relationships\n",
        "sub = \"alcoholism\"\n",
        "reddit_data.iloc[np.where(reddit_data['subreddit']==sub)[0],:]['cluster_annotations'].value_counts()/len(np.where(reddit_data['subreddit']==sub)[0])"
      ],
      "execution_count": null,
      "outputs": [
        {
          "output_type": "execute_result",
          "data": {
            "text/plain": [
              "Relationships           0.667224\n",
              "PolarizedEmotions_?     0.178191\n",
              "Unknown_2               0.043869\n",
              "EatingHabits_1          0.028619\n",
              "School                  0.021099\n",
              "SubstanceUse/Alcohol    0.010863\n",
              "Medication              0.008356\n",
              "ADHD                    0.007311\n",
              "Resources               0.007103\n",
              "WeightChange            0.005222\n",
              "Exhaustion              0.003969\n",
              "Angry/Expletive         0.003133\n",
              "EatingHabits_2          0.002716\n",
              "Friends/Support         0.002716\n",
              "Bipolar/Borderline      0.002507\n",
              "Philosophical_?         0.002298\n",
              "Social Anxiety          0.002089\n",
              "PanicAttacks            0.001462\n",
              "Sleeplessness           0.001253\n",
              "Name: cluster_annotations, dtype: float64"
            ]
          },
          "metadata": {
            "tags": []
          },
          "execution_count": 135
        }
      ]
    },
    {
      "cell_type": "code",
      "metadata": {
        "id": "__DVS0KCGTGy",
        "colab_type": "code",
        "colab": {}
      },
      "source": [
        "# Save intermediate object\n",
        "reddit_data.to_csv('/content/drive/My Drive/ML4HC_Final_Project/data/assigned_unsup_clusters.csv', index=False) "
      ],
      "execution_count": null,
      "outputs": []
    },
    {
      "cell_type": "markdown",
      "metadata": {
        "id": "o3i49ngvBsyP",
        "colab_type": "text"
      },
      "source": [
        "# Visualize with UMAP"
      ]
    },
    {
      "cell_type": "code",
      "metadata": {
        "id": "bNx1Cv7bHhTR",
        "colab_type": "code",
        "colab": {}
      },
      "source": [
        "import umap"
      ],
      "execution_count": null,
      "outputs": []
    },
    {
      "cell_type": "code",
      "metadata": {
        "id": "cm8qZjtcHkoo",
        "colab_type": "code",
        "colab": {}
      },
      "source": [
        "n_subset =50000\n",
        "selected_cells = np.random.choice(np.arange(posts_tfidf_bow.shape[0]), size = n_subset, replace = False)\n",
        "mapper = umap.UMAP(metric='hellinger', random_state=42).fit(posts_tfidf_bow[selected_cells,:])"
      ],
      "execution_count": null,
      "outputs": []
    },
    {
      "cell_type": "code",
      "metadata": {
        "id": "WAmuKBCgXDSn",
        "colab_type": "code",
        "colab": {}
      },
      "source": [
        "embedding = mapper.transform(posts_tfidf_bow[selected_cells,:]) "
      ],
      "execution_count": null,
      "outputs": []
    },
    {
      "cell_type": "code",
      "metadata": {
        "id": "j8oJCM7NoDBn",
        "colab_type": "code",
        "colab": {}
      },
      "source": [
        "# To save/restore intermediate objects \n",
        "df_embedding = pd.DataFrame(embedding)\n",
        "df_embedding.to_csv('/content/drive/My Drive/ML4HC_Final_Project/data/processed_tfidf_umap50k.csv', index=False) "
      ],
      "execution_count": null,
      "outputs": []
    },
    {
      "cell_type": "code",
      "metadata": {
        "id": "qhF3MrvVYHaw",
        "colab_type": "code",
        "colab": {}
      },
      "source": [
        "# To save/restore intermediate objects \n",
        "df_selected_cells = pd.DataFrame(selected_cells)\n",
        "df_selected_cells.to_csv('/content/drive/My Drive/ML4HC_Final_Project/data/selected_cells.csv', index=False) "
      ],
      "execution_count": null,
      "outputs": []
    },
    {
      "cell_type": "code",
      "metadata": {
        "id": "wp_ubzgNRyrv",
        "colab_type": "code",
        "colab": {}
      },
      "source": [
        "# To save/restore intermediate objects \n",
        "# Note:  Saved Before Removal of Short Posts\n",
        "df_processed_posts = pd.DataFrame(processed_data)\n",
        "df_processed_posts.to_csv('/content/drive/My Drive/ML4HC_Final_Project/data/processed_posts_preTFIDF.csv', index=False) "
      ],
      "execution_count": null,
      "outputs": []
    },
    {
      "cell_type": "code",
      "metadata": {
        "id": "lh4okOtZYX_f",
        "colab_type": "code",
        "colab": {}
      },
      "source": [
        "# To save/restore intermediate objects \n",
        "reddit_data = pd.read_csv('/content/drive/My Drive/ML4HC_Final_Project/data/assigned_unsup_clusters.csv')"
      ],
      "execution_count": null,
      "outputs": []
    },
    {
      "cell_type": "code",
      "metadata": {
        "id": "kawxl_dD-GkH",
        "colab_type": "code",
        "colab": {}
      },
      "source": [
        "# To save/restore intermediate objects\n",
        "scipy.sparse.save_npz('/content/drive/My Drive/ML4HC_Final_Project/data/processed_tfidf_sparse_matrix.npz', posts_tfidf_bow)"
      ],
      "execution_count": null,
      "outputs": []
    },
    {
      "cell_type": "code",
      "metadata": {
        "id": "gz8YskkLICZ0",
        "colab_type": "code",
        "colab": {
          "base_uri": "https://localhost:8080/",
          "height": 285
        },
        "outputId": "9b97e378-f054-4229-a131-27654c17d6f9"
      },
      "source": [
        "# Plot Clusters on UMAP\n",
        "plt.scatter(embedding[:, 0], embedding[:, 1], c=reddit_data.iloc[selected_cells,:]['cluster_number'], cmap='Spectral', s=5)\n",
        "plt.gca().set_aspect('equal', 'datalim')\n",
        "num_clust = len(np.unique(reddit_data['cluster_number']))\n",
        "plt.colorbar(boundaries=np.arange(num_clust+1)-0.5).set_ticks(np.arange(num_clust))\n",
        "plt.title('UMAP Projection of Pre-Pandemic Posts, TF-IDF', fontsize=14);"
      ],
      "execution_count": null,
      "outputs": [
        {
          "output_type": "display_data",
          "data": {
            "image/png": "[encoded data removed]",
            "text/plain": [
              "<Figure size 432x288 with 2 Axes>"
            ]
          },
          "metadata": {
            "tags": []
          }
        }
      ]
    },
    {
      "cell_type": "markdown",
      "metadata": {
        "id": "2gtszjx0E3Nj",
        "colab_type": "text"
      },
      "source": [
        "# Examine Cluster Representation in Pandemic Data"
      ]
    },
    {
      "cell_type": "code",
      "metadata": {
        "id": "a-edMWTHE_No",
        "colab_type": "code",
        "colab": {
          "base_uri": "https://localhost:8080/",
          "height": 76
        },
        "outputId": "df8153d1-4bbd-4a8a-8fb8-ce67586ae588"
      },
      "source": [
        "# Select files to import\n",
        "data_folder = '/content/drive/My Drive/ML4HC_Final_Project/data/input/feature_extraction/'\n",
        "all_filenames = os.listdir(data_folder)\n",
        "\n",
        "# List candidate files to manually select mental health subreddits\n",
        "current_filenames = current_filenames = [i for i in all_filenames if \".csv\" in i]\n",
        "current_filenames = current_filenames = [i for i in current_filenames if \"_post_\" in i]\n",
        "print(current_filenames) "
      ],
      "execution_count": null,
      "outputs": [
        {
          "output_type": "stream",
          "text": [
            "['ForeverAlone_post_features.csv', 'UKPersonalFinance_post_features.csv', 'mentalillness_post_features.csv', 'addiction_post_features.csv', 'socialanxiety_post_features.csv', 'ptsd_post_features.csv', 'bipolarreddit_post_features.csv', 'healthanxiety_post_features.csv', 'MakeNewFriendsHere_post_features.csv', 'economy_post_features.csv', 'CanadaPolitics_post_features.csv', 'divorce_post_features.csv', 'unitedkingdom_post_features.csv', 'guns_post_features.csv', 'India_post_features.csv', 'Canada_post_features.csv', 'paranoia_post_features.csv', 'COVID19_support_post_features.csv', 'psychosis_post_features.csv', 'jokes_post_features.csv', 'fitness_post_features.csv', 'bpd_post_features.csv', 'meditation_post_features.csv', 'mentalhealth_post_features.csv', 'EDAnonymous_post_features.csv', 'depression_post_features.csv', 'relationships_post_features.csv', 'schizophrenia_post_features.csv', 'mindfulness_post_features.csv', 'personalfinance_post_features.csv', 'anxiety_post_features.csv', 'adhd_post_features.csv', 'alcoholism_post_features.csv', 'suicidewatch_post_features.csv', 'parenting_post_features.csv', 'ukpolitics_post_features.csv', 'politics_post_features.csv', 'teaching_post_features.csv', 'autism_post_features.csv', 'lonely_post_features.csv', 'conspiracy_post_features.csv', 'legaladvice_post_features.csv']\n"
          ],
          "name": "stdout"
        }
      ]
    },
    {
      "cell_type": "code",
      "metadata": {
        "id": "aboRHG7khggC",
        "colab_type": "code",
        "colab": {}
      },
      "source": [
        "# To import non-mental health posts with relevance to the pandemic\n",
        "current_filenames = ['COVID19_support_post_features.csv', 'relationships_post_features.csv', \n",
        "                     'personalfinance_post_features.csv', 'legaladvice_post_features.csv']"
      ],
      "execution_count": null,
      "outputs": []
    },
    {
      "cell_type": "code",
      "metadata": {
        "id": "R_G1LLROYhco",
        "colab_type": "code",
        "colab": {
          "base_uri": "https://localhost:8080/",
          "height": 625
        },
        "outputId": "619b23cc-627f-4449-970f-2e61ea6d1382"
      },
      "source": [
        "# Import and join files\n",
        "# Will print filenames to allow progress tracking\n",
        "pandemic_data = pd.read_csv(data_folder +current_filenames[0], index_col=False)\n",
        "for i in np.arange(1, len(current_filenames)):\n",
        "  print(current_filenames[i])\n",
        "  new_data = pd.read_csv(data_folder +current_filenames[i], index_col=False)\n",
        "  pandemic_data = pd.concat([pandemic_data, new_data], axis=0)\n",
        "\n",
        "# Examine all columns\n",
        "pandemic_data.columns"
      ],
      "execution_count": null,
      "outputs": [
        {
          "output_type": "stream",
          "text": [
            "relationships_post_features.csv\n",
            "personalfinance_post_features.csv\n",
            "legaladvice_post_features.csv\n"
          ],
          "name": "stdout"
        },
        {
          "output_type": "execute_result",
          "data": {
            "text/plain": [
              "Index(['subreddit', 'author', 'date', 'post', 'automated_readability_index',\n",
              "       'coleman_liau_index', 'flesch_kincaid_grade_level',\n",
              "       'flesch_reading_ease', 'gulpease_index', 'gunning_fog_index', 'lix',\n",
              "       'smog_index', 'wiener_sachtextformel', 'n_chars', 'n_long_words',\n",
              "       'n_monosyllable_words', 'n_polysyllable_words', 'n_sents',\n",
              "       'n_syllables', 'n_unique_words', 'n_words', 'sent_neg', 'sent_neu',\n",
              "       'sent_pos', 'sent_compound', 'covid19_total', 'economic_stress_total',\n",
              "       'isolation_total', 'substance_use_total', 'guns_total',\n",
              "       'domestic_stress_total', 'suicidality_total', 'punctuation',\n",
              "       'liwc_1st_pers', 'liwc_2nd_pers', 'liwc_3rd_pers', 'liwc_achievement',\n",
              "       'liwc_adverbs', 'liwc_affective_processes', 'liwc_anger',\n",
              "       'liwc_anxiety', 'liwc_articles_article', 'liwc_assent',\n",
              "       'liwc_auxiliary_verbs', 'liwc_biological', 'liwc_body',\n",
              "       'liwc_causation', 'liwc_certainty', 'liwc_cognitive',\n",
              "       'liwc_common_verbs', 'liwc_conjunctions', 'liwc_death',\n",
              "       'liwc_discrepancy', 'liwc_exclusive', 'liwc_family', 'liwc_feel',\n",
              "       'liwc_fillers', 'liwc_friends', 'liwc_future_tense', 'liwc_health',\n",
              "       'liwc_hear', 'liwc_home', 'liwc_humans', 'liwc_impersonal_pronouns',\n",
              "       'liwc_inclusive', 'liwc_ingestion', 'liwc_inhibition', 'liwc_insight',\n",
              "       'liwc_leisure', 'liwc_money', 'liwc_motion', 'liwc_negations',\n",
              "       'liwc_negative_emotion', 'liwc_nonfluencies', 'liwc_numbers',\n",
              "       'liwc_past_tense', 'liwc_perceptual_processes',\n",
              "       'liwc_personal_pronouns', 'liwc_positive_emotion', 'liwc_prepositions',\n",
              "       'liwc_present_tense', 'liwc_quantifiers', 'liwc_relativity',\n",
              "       'liwc_religion', 'liwc_sadness', 'liwc_see', 'liwc_sexual',\n",
              "       'liwc_social_processes', 'liwc_space', 'liwc_swear_words',\n",
              "       'liwc_tentative', 'liwc_time', 'liwc_total_functional',\n",
              "       'liwc_total_pronouns', 'liwc_work'],\n",
              "      dtype='object')"
            ]
          },
          "metadata": {
            "tags": []
          },
          "execution_count": 22
        }
      ]
    },
    {
      "cell_type": "code",
      "metadata": {
        "id": "_okElG6IYZTo",
        "colab_type": "code",
        "colab": {}
      },
      "source": [
        "# Preprocess posts before TF-IDF\n",
        "processed_data = pandemic_data['post'].map(preprocess)\n",
        "\n",
        "# Remove posts with fewer than 20 terms after preprocessing \n",
        "processed_lengths = list(map(lambda x: len(x),processed_data))\n",
        "newly_short_posts = np.where(np.array(processed_lengths)<20)[0]\n",
        "pandemic_data.index = np.arange(0,len(pandemic_data))\n",
        "pandemic_data.drop(list(newly_short_posts), inplace=True)\n",
        "\n",
        "processed_data.index = np.arange(0,len(processed_data))\n",
        "processed_data.drop(list(newly_short_posts), inplace=True)\n",
        "processed_data.shape\n",
        "\n",
        "collapsed_processed_posts = list(map(lambda x: paste(x, collapse=\" \"),processed_data))\n",
        "pandemic_data['processed_post'] = collapsed_processed_posts"
      ],
      "execution_count": null,
      "outputs": []
    },
    {
      "cell_type": "code",
      "metadata": {
        "id": "PoGEOETsuzX3",
        "colab_type": "code",
        "colab": {
          "base_uri": "https://localhost:8080/",
          "height": 36
        },
        "outputId": "0685cdff-1c61-40ba-f59c-508b433d215f"
      },
      "source": [
        "# Examine number of posts\n",
        "pandemic_data.shape"
      ],
      "execution_count": null,
      "outputs": [
        {
          "output_type": "execute_result",
          "data": {
            "text/plain": [
              "(163502, 96)"
            ]
          },
          "metadata": {
            "tags": []
          },
          "execution_count": 24
        }
      ]
    },
    {
      "cell_type": "code",
      "metadata": {
        "id": "2cG7-gv9xf2u",
        "colab_type": "code",
        "colab": {
          "base_uri": "https://localhost:8080/",
          "height": 36
        },
        "outputId": "d0fda0b8-34d7-4f73-faf9-300da96ee442"
      },
      "source": [
        "# Number of posts removed due to length = 12281\n",
        "len(newly_short_posts)"
      ],
      "execution_count": null,
      "outputs": [
        {
          "output_type": "execute_result",
          "data": {
            "text/plain": [
              "12281"
            ]
          },
          "metadata": {
            "tags": []
          },
          "execution_count": 26
        }
      ]
    },
    {
      "cell_type": "code",
      "metadata": {
        "id": "2TTxJPNnu889",
        "colab_type": "code",
        "colab": {}
      },
      "source": [
        "# Save intermediate object\n",
        "pandemic_data.to_csv('/content/drive/My Drive/ML4HC_Final_Project/data/pandemic_data.csv', index=False) "
      ],
      "execution_count": null,
      "outputs": []
    },
    {
      "cell_type": "code",
      "metadata": {
        "id": "S7GlYeMhTxBo",
        "colab_type": "code",
        "colab": {}
      },
      "source": [
        "# Save intermediate object\n",
        "pandemic_data = pd.read_csv('/content/drive/My Drive/ML4HC_Final_Project/data/pandemic_data.csv')"
      ],
      "execution_count": null,
      "outputs": []
    },
    {
      "cell_type": "code",
      "metadata": {
        "id": "yAlor9XQfWXh",
        "colab_type": "code",
        "colab": {
          "base_uri": "https://localhost:8080/",
          "height": 115
        },
        "outputId": "d1b3c28e-49ef-4124-ccde-2742c09b5a73"
      },
      "source": [
        "# Develop TF-IDF features\n",
        "vectorizer_pandemic = TfidfVectorizer(analyzer='word', ngram_range=(1, 3), max_df=0.75, min_df=0.001, use_idf=True)\n",
        "pandemic_tfidf_bow = vectorizer_pandemic.fit_transform(pandemic_data['processed_post'])\n",
        "print(vectorizer_pandemic.get_feature_names()[0:20])\n",
        "print(len(vectorizer_pandemic.get_feature_names()))"
      ],
      "execution_count": null,
      "outputs": [
        {
          "output_type": "stream",
          "text": [
            "['aback', 'abandon', 'abid', 'abil', 'abl', 'abl afford', 'abl claim', 'abl come', 'abl file', 'abl handl', 'abl help', 'abl leav', 'abl live', 'abl money', 'abl month', 'abl provid', 'abl rent', 'abl save', 'abl stay', 'abl talk']\n",
            "11729\n"
          ],
          "name": "stdout"
        }
      ]
    },
    {
      "cell_type": "code",
      "metadata": {
        "id": "NvyqVnjoU4oJ",
        "colab_type": "code",
        "colab": {}
      },
      "source": [
        "# Save intermediate object\n",
        "scipy.sparse.save_npz('/content/drive/My Drive/ML4HC_Final_Project/data/pandemic_tfidf_bow.npz', pandemic_tfidf_bow)"
      ],
      "execution_count": null,
      "outputs": []
    },
    {
      "cell_type": "code",
      "metadata": {
        "id": "VMbZDMaVR_Io",
        "colab_type": "code",
        "colab": {}
      },
      "source": [
        "# Convert dates to date format\n",
        "pandemic_data['date'] = [datetime.strptime(x, '%Y/%m/%d') for x in pandemic_data['date']]\n",
        "\n",
        "# Make date groups by week\n",
        "min_date = np.min(panemic_data['date'])\n",
        "max_date = np.max(pandemic_data['date'])\n",
        "pandemic_data['week'] = np.ones(pandemic_data.shape[0])\n",
        "start_week = min_date + timedelta(days=7)\n",
        "n_week = 2\n",
        "week_col = np.where(pandemic_data.columns=='week')[0]\n",
        "while start_week <= max_date:\n",
        "  end_week = start_week + timedelta(days=6)\n",
        "  loc_posts_after_start = np.where(pandemic_data['date'] >=start_week)[0]\n",
        "  loc_posts_before_end = np.where(pandemic_data['date'] <=end_week)[0]\n",
        "  loc_week_dates = np.intersect1d(loc_posts_after_start, loc_posts_before_end)\n",
        "  pandemic_data.iloc[loc_week_dates, week_col] = np.ones(len(loc_week_dates))*n_week\n",
        "  n_week = n_week + 1\n",
        "  start_week = start_week + timedelta(days=7)"
      ],
      "execution_count": null,
      "outputs": []
    },
    {
      "cell_type": "code",
      "metadata": {
        "id": "wN20dhpbBdRn",
        "colab_type": "code",
        "colab": {}
      },
      "source": [
        "# Save intermediate object\n",
        "pd.DataFrame(vectorizer_pandemic.get_feature_names()).to_csv('/content/drive/My Drive/ML4HC_Final_Project/data/pandemic_tfidf_features.csv', index=False)"
      ],
      "execution_count": null,
      "outputs": []
    },
    {
      "cell_type": "code",
      "metadata": {
        "id": "2hpv38x2REO3",
        "colab_type": "code",
        "colab": {}
      },
      "source": [
        "# Restore intermediate object\n",
        "pandemic_tfidf_features = pd.read_csv('/content/drive/My Drive/ML4HC_Final_Project/data/pandemic_tfidf_features.csv')\n",
        "pandemic_tfidf_features = list(pandemic_tfidf_features.iloc[:,0])"
      ],
      "execution_count": null,
      "outputs": []
    },
    {
      "cell_type": "markdown",
      "metadata": {
        "id": "iSQoSS37e4PM",
        "colab_type": "text"
      },
      "source": [
        "### Determine Representation of Conversation Themes on Covid Support"
      ]
    },
    {
      "cell_type": "code",
      "metadata": {
        "id": "fNhjEddE5jHp",
        "colab_type": "code",
        "colab": {}
      },
      "source": [
        "# Identify relevant posts\n",
        "covid_support_posts = np.where(pandemic_data['subreddit']==\"COVID19_support\")[0]\n",
        "relationship_posts = np.where(pandemic_data['subreddit']==\"relationships\")[0]"
      ],
      "execution_count": null,
      "outputs": []
    },
    {
      "cell_type": "code",
      "metadata": {
        "id": "NXC5Fak4Ysmw",
        "colab_type": "code",
        "colab": {}
      },
      "source": [
        "from scipy.spatial import distance"
      ],
      "execution_count": null,
      "outputs": []
    },
    {
      "cell_type": "code",
      "metadata": {
        "id": "wEWX-tf_n13U",
        "colab_type": "code",
        "colab": {}
      },
      "source": [
        "# Develop TF-IDF features\n",
        "pandemic_tfidf_transform = vectorizer.transform(pandemic_data['processed_post'])"
      ],
      "execution_count": null,
      "outputs": []
    },
    {
      "cell_type": "code",
      "metadata": {
        "id": "Z4mJuf4RdXK6",
        "colab_type": "code",
        "colab": {
          "base_uri": "https://localhost:8080/",
          "height": 378
        },
        "outputId": "b7c5d7ab-a270-442c-8711-d1c35514584f"
      },
      "source": [
        "# COVID-19 Support topic representation\n",
        "assigned_cluster = []\n",
        "for n_post in np.arange(len(covid_support_posts)):\n",
        "  distances = np.zeros(22)\n",
        "  for n_centroid in np.arange(22):\n",
        "    distances[n_centroid] = distance.euclidean(km.cluster_centers_[n_centroid],pandemic_tfidf_transform[covid_support_posts,:][n_post,:].toarray())\n",
        "  assigned_cluster.append(cluster_annotations[np.argmin(distances)])\n",
        "\n",
        "pd.DataFrame(assigned_cluster).iloc[:,0].value_counts()\n"
      ],
      "execution_count": null,
      "outputs": [
        {
          "output_type": "execute_result",
          "data": {
            "text/plain": [
              "SubstanceUse/Alcohol    732\n",
              "WaterConsumption        271\n",
              "Friends/Support         185\n",
              "ADHD                    167\n",
              "Bipolar/Borderline      117\n",
              "Unknown_2                94\n",
              "Resources                42\n",
              "Philosophical_?          39\n",
              "School                   34\n",
              "WeightChange             27\n",
              "Medication               20\n",
              "Relationships            20\n",
              "Angry/Expletive          19\n",
              "PolarizedEmotions_?       9\n",
              "Sleeplessness             9\n",
              "Social Anxiety            6\n",
              "EatingHabits_2            5\n",
              "Advertisements?           3\n",
              "Name: 0, dtype: int64"
            ]
          },
          "metadata": {
            "tags": []
          },
          "execution_count": 86
        }
      ]
    },
    {
      "cell_type": "code",
      "metadata": {
        "id": "O46x0XGQgQVa",
        "colab_type": "code",
        "colab": {}
      },
      "source": [
        "# Conversation topic representation on Relationships subreddit \n",
        "assigned_cluster = []\n",
        "for n_post in np.arange(len(relationship_posts)):\n",
        "  distances = np.zeros(22)\n",
        "  for n_centroid in np.arange(22):\n",
        "    distances[n_centroid] = distance.euclidean(km.cluster_centers_[n_centroid],pandemic_tfidf_transform[relationship_posts,:][n_post,:].toarray())\n",
        "  assigned_cluster.append(cluster_annotations[np.argmin(distances)])\n",
        "\n",
        "pd.DataFrame(assigned_cluster).iloc[:,0].value_counts()\n"
      ],
      "execution_count": null,
      "outputs": []
    },
    {
      "cell_type": "code",
      "metadata": {
        "id": "mE0TIdP8fQXx",
        "colab_type": "code",
        "colab": {
          "base_uri": "https://localhost:8080/",
          "height": 711
        },
        "outputId": "8097ff35-d479-48a5-8230-229949d417a0"
      },
      "source": [
        "# Show Representation of Topics Within the Subreddit\n",
        "# (specific to the subreddit used to create assigned_cluster vector)\n",
        "counts = pd.DataFrame(assigned_cluster).iloc[:,0].value_counts()\n",
        "to_plot_df = pd.DataFrame({\"Number of Posts in Cluster\": counts, \"Cluster\": counts.index})\n",
        "sns.set(style=\"whitegrid\")\n",
        "ax = sns.barplot(x=\"Cluster\", y=\"Number of Posts in Cluster\", data=to_plot_df)\n",
        "ax.set_xticklabels(\n",
        "    ax.get_xticklabels(), \n",
        "    rotation=45, \n",
        "    horizontalalignment='right',\n",
        "    fontweight='light',\n",
        "    #fontsize='x-large'\n",
        ")\n",
        "\n"
      ],
      "execution_count": null,
      "outputs": [
        {
          "output_type": "execute_result",
          "data": {
            "text/plain": [
              "[Text(0, 0, 'SubstanceUse/Alcohol'),\n",
              " Text(0, 0, 'WaterConsumption'),\n",
              " Text(0, 0, 'Friends/Support'),\n",
              " Text(0, 0, 'ADHD'),\n",
              " Text(0, 0, 'Bipolar/Borderline'),\n",
              " Text(0, 0, 'Unknown_2'),\n",
              " Text(0, 0, 'Resources'),\n",
              " Text(0, 0, 'Philosophical_?'),\n",
              " Text(0, 0, 'School'),\n",
              " Text(0, 0, 'WeightChange'),\n",
              " Text(0, 0, 'Medication'),\n",
              " Text(0, 0, 'Relationships'),\n",
              " Text(0, 0, 'Angry/Expletive'),\n",
              " Text(0, 0, 'PolarizedEmotions_?'),\n",
              " Text(0, 0, 'Sleeplessness'),\n",
              " Text(0, 0, 'Social Anxiety'),\n",
              " Text(0, 0, 'EatingHabits_2'),\n",
              " Text(0, 0, 'Advertisements?')]"
            ]
          },
          "metadata": {
            "tags": []
          },
          "execution_count": 88
        },
        {
          "output_type": "display_data",
          "data": {
            "image/png": "[encoded data removed]",
            "text/plain": [
              "<Figure size 432x288 with 1 Axes>"
            ]
          },
          "metadata": {
            "tags": []
          }
        }
      ]
    },
    {
      "cell_type": "markdown",
      "metadata": {
        "id": "j1HghQFENtzs",
        "colab_type": "text"
      },
      "source": [
        "# Repository of Useful Function Definitions"
      ]
    },
    {
      "cell_type": "code",
      "metadata": {
        "id": "now3zJSeNtzu",
        "colab_type": "code",
        "colab": {}
      },
      "source": [
        "# Paste Function Equivalent\n",
        "# Source: https://stackoverflow.com/questions/21292552/equivalent-of-paste-r-to-python\n",
        "\n",
        "import functools\n",
        "def reduce_concat(x, sep=\"\"):\n",
        "    return functools.reduce(lambda x, y: str(x) + sep + str(y), x)\n",
        "\n",
        "def paste(*lists, sep=\" \", collapse=None):\n",
        "    result = map(lambda x: reduce_concat(x, sep=sep), zip(*lists))\n",
        "    if collapse is not None:\n",
        "        return reduce_concat(result, sep=collapse)\n",
        "    return list(result)\n",
        "\n",
        "# Example Use\n",
        "#print(paste([1,2,3], [11,12,13], sep=','))\n",
        "#print(paste([1,2,3], [11,12,13], sep=',', collapse=\";\"))"
      ],
      "execution_count": null,
      "outputs": []
    }
  ]
}